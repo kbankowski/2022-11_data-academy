{
 "cells": [
  {
   "cell_type": "markdown",
   "metadata": {},
   "source": [
    "# ECB Data Academy - Evolve Programme\n",
    "[Krisolis](http://www.krisolis.ie)"
   ]
  },
  {
   "cell_type": "markdown",
   "metadata": {},
   "source": [
    "## Data Manipulation Operations in pandas"
   ]
  },
  {
   "cell_type": "markdown",
   "metadata": {},
   "source": [
    "This notebook explores data manipulation operations in pandas that allow us to create sophisticated datasets from multiple sources. \n",
    "\n",
    "[Data Manipulation Operations]('Data_Ops_1.png')"
   ]
  },
  {
   "cell_type": "markdown",
   "metadata": {},
   "source": [
    "Load some libraries"
   ]
  },
  {
   "cell_type": "code",
   "execution_count": null,
   "metadata": {},
   "outputs": [],
   "source": [
    "import pandas as pd\n",
    "import numpy as np"
   ]
  },
  {
   "cell_type": "markdown",
   "metadata": {},
   "source": [
    "### An Example Dataset"
   ]
  },
  {
   "cell_type": "markdown",
   "metadata": {},
   "source": [
    "Load a dataset containing details about different world nations."
   ]
  },
  {
   "cell_type": "code",
   "execution_count": null,
   "metadata": {},
   "outputs": [],
   "source": [
    "country_ind = pd.read_csv(\"..//Data//world_indicators_data_ext.csv\", index_col = 0)\n",
    "print(country_ind.shape)\n",
    "display(country_ind)"
   ]
  },
  {
   "cell_type": "markdown",
   "metadata": {},
   "source": [
    "### Filtering Columns"
   ]
  },
  {
   "cell_type": "markdown",
   "metadata": {},
   "source": [
    "Accessing *columns* in a DataFrame is simply a matter of using the name of the column (similar to dictionary selection) to give a single column Series:"
   ]
  },
  {
   "cell_type": "code",
   "execution_count": null,
   "metadata": {
    "scrolled": true
   },
   "outputs": [],
   "source": [
    "school = country_ind[\"School Years\"]\n",
    "display(school)"
   ]
  },
  {
   "cell_type": "markdown",
   "metadata": {},
   "source": [
    "If we want to keep single columns as a DataFrame rather than a Series we provide the name in a single-item list."
   ]
  },
  {
   "cell_type": "code",
   "execution_count": null,
   "metadata": {},
   "outputs": [],
   "source": [
    "school = country_ind[[\"School Years\"]]\n",
    "display(school)"
   ]
  },
  {
   "cell_type": "markdown",
   "metadata": {},
   "source": [
    "We can easily select multiple columns by passing a list of column names:"
   ]
  },
  {
   "cell_type": "code",
   "execution_count": null,
   "metadata": {
    "scrolled": true
   },
   "outputs": [],
   "source": [
    "school_details = country_ind[[\"Country\",\n",
    "                                     \"School Years\"]]\n",
    "display(school_details)"
   ]
  },
  {
   "cell_type": "markdown",
   "metadata": {},
   "source": [
    "We can also specify the columns we don't want to include"
   ]
  },
  {
   "cell_type": "code",
   "execution_count": null,
   "metadata": {},
   "outputs": [],
   "source": [
    "pos_details = country_ind[\n",
    "        country_ind.columns.difference([\"Mil. Spend\",\n",
    "                                               \"CPI\"])]\n",
    "display(pos_details)"
   ]
  },
  {
   "cell_type": "markdown",
   "metadata": {},
   "source": [
    "Columns in a DataFrame are easily removed using the **del** operator:"
   ]
  },
  {
   "cell_type": "code",
   "execution_count": null,
   "metadata": {},
   "outputs": [],
   "source": [
    "del country_ind[\"GDP\"]\n",
    "country_ind.head()"
   ]
  },
  {
   "cell_type": "markdown",
   "metadata": {},
   "source": [
    "### Filtering Rows"
   ]
  },
  {
   "cell_type": "markdown",
   "metadata": {},
   "source": [
    "We can access rows either using row labels or row indices using the **loc** or **iloc** methods which both return a series."
   ]
  },
  {
   "cell_type": "code",
   "execution_count": null,
   "metadata": {},
   "outputs": [],
   "source": [
    "country_ind.loc['BR']"
   ]
  },
  {
   "cell_type": "code",
   "execution_count": null,
   "metadata": {},
   "outputs": [],
   "source": [
    "country_ind.iloc[7]"
   ]
  },
  {
   "cell_type": "markdown",
   "metadata": {},
   "source": [
    "We can also easily slice by rows to get an extract from a DataFrame:"
   ]
  },
  {
   "cell_type": "code",
   "execution_count": null,
   "metadata": {
    "scrolled": true
   },
   "outputs": [],
   "source": [
    "country_ind.iloc[4:9]"
   ]
  },
  {
   "cell_type": "code",
   "execution_count": null,
   "metadata": {
    "scrolled": true
   },
   "outputs": [],
   "source": [
    "country_ind.iloc[:9]"
   ]
  },
  {
   "cell_type": "code",
   "execution_count": null,
   "metadata": {},
   "outputs": [],
   "source": [
    "country_ind.iloc[4:]"
   ]
  },
  {
   "cell_type": "markdown",
   "metadata": {},
   "source": [
    "One very useful way to slice a DataFrame is using a condition. We can pass a list of Boolean values to a DataFrame indicating which rows should be retained (True) and which should be filtered (False). "
   ]
  },
  {
   "cell_type": "code",
   "execution_count": null,
   "metadata": {
    "scrolled": false
   },
   "outputs": [],
   "source": [
    "military_country_ind = country_ind.loc[\n",
    "                        country_ind[\"Mil. Spend\"] > 2]\n",
    "display(military_country_ind)"
   ]
  },
  {
   "cell_type": "code",
   "execution_count": null,
   "metadata": {
    "scrolled": true
   },
   "outputs": [],
   "source": [
    "country_ind.loc[country_ind[\"School Years\"] < 10]"
   ]
  },
  {
   "cell_type": "code",
   "execution_count": null,
   "metadata": {},
   "outputs": [],
   "source": [
    "country_ind.loc[\n",
    "    (country_ind[\"Mil. Spend\"] > 1) \n",
    "            & (country_ind[\"School Years\"] < 10)]"
   ]
  },
  {
   "cell_type": "markdown",
   "metadata": {},
   "source": [
    "We can also delete rows using the **drop** function with their row labels."
   ]
  },
  {
   "cell_type": "code",
   "execution_count": null,
   "metadata": {},
   "outputs": [],
   "source": [
    "country_ind = country_ind.drop(['AR', 'CN'])\n",
    "display(country_ind)"
   ]
  },
  {
   "cell_type": "markdown",
   "metadata": {},
   "source": [
    "### Filtering Columns & Rows"
   ]
  },
  {
   "cell_type": "markdown",
   "metadata": {},
   "source": [
    "We can combine row selection and column selection using the **loc** method. We pass it the row slice first, followed by a list of column headings. For example:"
   ]
  },
  {
   "cell_type": "code",
   "execution_count": null,
   "metadata": {
    "scrolled": true
   },
   "outputs": [],
   "source": [
    "reduced_data = country_ind.loc[\n",
    "                (country_ind[\"School Years\"] < 10), \n",
    "                [\"Country\", \"Infant Mort.\"]]\n",
    "display(reduced_data)"
   ]
  },
  {
   "cell_type": "markdown",
   "metadata": {},
   "source": [
    "### Now you try ...\n",
    "\n",
    "Load the dataset stored in the file **TriathloneData.csv**. The variables in this dataset are as follows:\n",
    "\n",
    "* **Place:** The place in which the athlete finished the race (missing for non-finishers)\n",
    "* **Number:** The athlete's race bib number\n",
    "* **Wave:** The wave with which the athlete started (one of 1, 2, or 3)\n",
    "* **Age_Cat:** The athlete's age category (one of 16-19, 20-29, 30-39, 40-49, or 50+)\n",
    "* **Gender:** The gender that the athlete declared (one of 'M' or 'F')\n",
    "* **TI_Number:** Some athlete's are members of the Traithlon Ireland association and if so declare their membership number\t\n",
    "* **Swim:** The time taken for the swimming leg of the event (in seconds)\n",
    "* **T1:** The time taken for the first transition of the event (in seconds)\n",
    "* **Cycle:** The time taken for the cycling leg of the event (in seconds)\n",
    "* **T2:** The time taken for the swimming leg of the event (in seconds)\n",
    "* **Run:** The time taken for the running leg of the event (in seconds)\n",
    "* **Finish:** The time taken for the total event ( in seconds)\n",
    "    \n",
    "Create a subset of this data including just the **Number**, **Age_Cat**, and **Finish** columns. "
   ]
  },
  {
   "cell_type": "code",
   "execution_count": null,
   "metadata": {},
   "outputs": [],
   "source": []
  },
  {
   "cell_type": "markdown",
   "metadata": {},
   "source": [
    "Create a subset of the triathlone data including just the **Number**, **Age_Cat**, and **Finish** columns and entries with finish times less than 5000 seconds. "
   ]
  },
  {
   "cell_type": "code",
   "execution_count": null,
   "metadata": {},
   "outputs": [],
   "source": []
  },
  {
   "cell_type": "markdown",
   "metadata": {},
   "source": [
    "### Sampling From DataFrames"
   ]
  },
  {
   "cell_type": "markdown",
   "metadata": {},
   "source": [
    "We can easily sample from a pandas data frame using the sample method}"
   ]
  },
  {
   "cell_type": "code",
   "execution_count": null,
   "metadata": {},
   "outputs": [],
   "source": [
    "country_ind.sample(n = 5)"
   ]
  },
  {
   "cell_type": "markdown",
   "metadata": {},
   "source": [
    "Notice that the index has been lost. If we want to retain it we set ignore_index to False."
   ]
  },
  {
   "cell_type": "code",
   "execution_count": null,
   "metadata": {},
   "outputs": [],
   "source": [
    "country_ind.sample(n = 5, \n",
    "                   ignore_index = False)"
   ]
  },
  {
   "cell_type": "markdown",
   "metadata": {},
   "source": [
    "We can also perform sampling with replacement - note duplication of rows."
   ]
  },
  {
   "cell_type": "code",
   "execution_count": null,
   "metadata": {
    "scrolled": true
   },
   "outputs": [],
   "source": [
    "country_ind.sample(frac=0.5, \n",
    "                   replace = True)"
   ]
  },
  {
   "cell_type": "markdown",
   "metadata": {},
   "source": [
    "Sample 100% of data without replacement to perform a shuffle"
   ]
  },
  {
   "cell_type": "code",
   "execution_count": null,
   "metadata": {
    "scrolled": false
   },
   "outputs": [],
   "source": [
    "country_ind.sample(frac=1.0,\n",
    "                  replace = False)"
   ]
  },
  {
   "cell_type": "markdown",
   "metadata": {},
   "source": [
    "### Sorting DataFrames"
   ]
  },
  {
   "cell_type": "markdown",
   "metadata": {},
   "source": [
    "The **sort_values** function sorts the values in a data frame based on a column values. Simlpest example is to sort by a single column."
   ]
  },
  {
   "cell_type": "code",
   "execution_count": null,
   "metadata": {
    "scrolled": true
   },
   "outputs": [],
   "source": [
    "country_ind.sort_values(by = \"Life Exp.\")"
   ]
  },
  {
   "cell_type": "markdown",
   "metadata": {},
   "source": [
    "We can change sorting order using ascending."
   ]
  },
  {
   "cell_type": "code",
   "execution_count": null,
   "metadata": {
    "scrolled": true
   },
   "outputs": [],
   "source": [
    "country_ind.sort_values(by = \"Life Exp.\", \n",
    "                        ascending = False)"
   ]
  },
  {
   "cell_type": "markdown",
   "metadata": {},
   "source": [
    "We can sort by multiple columns."
   ]
  },
  {
   "cell_type": "code",
   "execution_count": null,
   "metadata": {},
   "outputs": [],
   "source": [
    "country_ind.sort_values(by = [\"Region\", \n",
    "                              \"School Years\"])"
   ]
  },
  {
   "cell_type": "markdown",
   "metadata": {},
   "source": [
    "We can change the sort order of different columns independently."
   ]
  },
  {
   "cell_type": "code",
   "execution_count": null,
   "metadata": {},
   "outputs": [],
   "source": [
    "country_ind.sort_values(by = [\"Region\", \n",
    "                              \"School Years\"], \n",
    "                      ascending = [True, \n",
    "                                   False])"
   ]
  },
  {
   "cell_type": "markdown",
   "metadata": {},
   "source": [
    "### Deriving New Fields"
   ]
  },
  {
   "cell_type": "markdown",
   "metadata": {},
   "source": [
    "We can easily add new columns to a DataFrame by simply referring to the new column name in an expression. For example:"
   ]
  },
  {
   "cell_type": "code",
   "execution_count": null,
   "metadata": {},
   "outputs": [],
   "source": [
    "country_ind[\"High Education\"] = True\n",
    "display(country_ind)"
   ]
  },
  {
   "cell_type": "markdown",
   "metadata": {},
   "source": [
    "Most interestingly we can use other columns in the DataFrame to define the new value."
   ]
  },
  {
   "cell_type": "code",
   "execution_count": null,
   "metadata": {
    "scrolled": true
   },
   "outputs": [],
   "source": [
    "country_ind[\"High Education\"] \\\n",
    "        = country_ind[\"School Years\"] > 10\n",
    "display(country_ind)"
   ]
  },
  {
   "cell_type": "markdown",
   "metadata": {},
   "source": [
    "Or we can create the new field as the result of a calculation from existing fields."
   ]
  },
  {
   "cell_type": "code",
   "execution_count": null,
   "metadata": {},
   "outputs": [],
   "source": [
    "country_ind[\"Mil School Ratio\"] = \\\n",
    "            country_ind[\"Mil. Spend\"]  /   \\\n",
    "            country_ind[\"School Years\"]\n",
    "display(country_ind)"
   ]
  },
  {
   "cell_type": "markdown",
   "metadata": {},
   "source": [
    "### Recoding Fields"
   ]
  },
  {
   "cell_type": "markdown",
   "metadata": {},
   "source": [
    "A common way to derive a new variable is to recode an existing variable. Perform a recoding of cateorical varaibles using the replace function."
   ]
  },
  {
   "cell_type": "code",
   "execution_count": null,
   "metadata": {},
   "outputs": [],
   "source": [
    "old = [False, True]\n",
    "new = [\"Low\", \"High\"]\n",
    "\n",
    "country_ind[\"High Education\"].replace(old, new, \n",
    "                                      inplace = True)\n",
    "display(country_ind)"
   ]
  },
  {
   "cell_type": "markdown",
   "metadata": {},
   "source": [
    "The cut function can be used to recode numeric values to categorical ones. It returns the bin to which each values in a series belongs based on a set of breakpoints."
   ]
  },
  {
   "cell_type": "code",
   "execution_count": null,
   "metadata": {
    "scrolled": true
   },
   "outputs": [],
   "source": [
    "break_points = [0, 60, 80, 120] \n",
    "life_exp_labels = [\"low\",\"medium\",\"high\"]\n",
    "\n",
    "country_ind[\"Life Exp. Bin\"] =  pd.cut(country_ind[\"Life Exp.\"],\n",
    "                                       bins = break_points,\n",
    "                                       labels = labels,\n",
    "                                       include_lowest = True)\n",
    "display(country_ind)"
   ]
  },
  {
   "cell_type": "code",
   "execution_count": null,
   "metadata": {},
   "outputs": [],
   "source": []
  },
  {
   "cell_type": "markdown",
   "metadata": {},
   "source": [
    "### Now you try ...\n",
    "Using the Triathlone data derive a new field that stores the percentage of their total time (**Finish**) that athletes spend in transition (**T1** and **T2**)."
   ]
  },
  {
   "cell_type": "code",
   "execution_count": null,
   "metadata": {},
   "outputs": [],
   "source": []
  },
  {
   "cell_type": "markdown",
   "metadata": {},
   "source": [
    "Using the **cut** function create a new field that categorises racers based on their finish times as follows:\n",
    "- \"fast\": finish times < 5000 seconds\n",
    "- \"average\": finish times between 5000 and 6000 seconds\n",
    "- \"slow\": finish times > 6000 seconds"
   ]
  },
  {
   "cell_type": "code",
   "execution_count": null,
   "metadata": {},
   "outputs": [],
   "source": []
  }
 ],
 "metadata": {
  "kernelspec": {
   "display_name": "Python 3",
   "language": "python",
   "name": "python3"
  },
  "language_info": {
   "codemirror_mode": {
    "name": "ipython",
    "version": 3
   },
   "file_extension": ".py",
   "mimetype": "text/x-python",
   "name": "python",
   "nbconvert_exporter": "python",
   "pygments_lexer": "ipython3",
   "version": "3.8.5"
  },
  "toc": {
   "base_numbering": 1,
   "nav_menu": {},
   "number_sections": false,
   "sideBar": true,
   "skip_h1_title": true,
   "title_cell": "Table of Contents",
   "title_sidebar": "Contents",
   "toc_cell": false,
   "toc_position": {
    "height": "calc(100% - 180px)",
    "left": "10px",
    "top": "150px",
    "width": "190px"
   },
   "toc_section_display": true,
   "toc_window_display": true
  }
 },
 "nbformat": 4,
 "nbformat_minor": 1
}
