{
 "cells": [
  {
   "cell_type": "markdown",
   "id": "52e4fd7d",
   "metadata": {},
   "source": [
    "# Software Setup - Programming with Python for Data Analytics\n",
    "\n",
    "This notebook will check that the following Python packages are correctly installed on your system:\n",
    "\n",
    "- Pandas package\n",
    "- NumPy package\n",
    "- SciPy package\n",
    "- Matplotlib package\n",
    "- Seaborn package\n",
    "\n",
    "To run the checks, from the menu *'Cell'* above, click *'Run All'*\n",
    "\n",
    "If a package is not installed, the *pip* tool will be used to install the relevant package."
   ]
  },
  {
   "cell_type": "markdown",
   "id": "b3924981",
   "metadata": {},
   "source": [
    "## Python Checks"
   ]
  },
  {
   "cell_type": "code",
   "execution_count": 1,
   "id": "d38ed472",
   "metadata": {},
   "outputs": [
    {
     "name": "stdout",
     "output_type": "stream",
     "text": [
      "Operating System: Windows 10\n",
      "Python: Version 3.9.12\n",
      "Python: Executable C:\\Users\\Pooja\\anaconda3\\python.exe\n",
      "JuypterLab: Checking package versions\n",
      "Selected Jupyter core packages...Check complete\n",
      "IPython          : 8.2.0\n",
      "ipykernel        : 6.9.1\n",
      "ipywidgets       : 7.6.5\n",
      "jupyter_client   : 6.1.12\n",
      "jupyter_core     : 4.9.2\n",
      "jupyter_server   : 1.13.5\n",
      "jupyterlab       : 3.3.2\n",
      "nbclient         : 0.5.13\n",
      "nbconvert        : 6.4.4\n",
      "nbformat         : 5.3.0\n",
      "notebook         : 6.4.8\n",
      "qtconsole        : 5.3.0\n",
      "traitlets        : 5.1.1\n",
      "\n"
     ]
    }
   ],
   "source": [
    "try:\n",
    "    import platform\n",
    "    if platform.system().lower() == \"darwin\":\n",
    "        print(\"Operating System: Mac %s\" % platform.mac_ver()[0])\n",
    "    else:\n",
    "        print(\"Operating System: %s %s\" % (platform.system(), platform.release()))\n",
    "except e:\n",
    "    print(\"Operating System: Unable to check\")\n",
    "    print(e)\n",
    "try:\n",
    "    import platform, sys\n",
    "    print(\"Python: Version %s\" % platform.python_version())\n",
    "    print(\"Python: Executable %s\" % sys.executable)\n",
    "except e:\n",
    "    print(\"Python: Unable to check\")\n",
    "    print(e)\n",
    "print(\"JuypterLab: Checking package versions\")\n",
    "!jupyter --version\n",
    "print(\"Check complete\")"
   ]
  },
  {
   "cell_type": "markdown",
   "id": "4b7fc880",
   "metadata": {},
   "source": [
    "## Package - Pandas"
   ]
  },
  {
   "cell_type": "code",
   "execution_count": 4,
   "id": "2d2ab93b",
   "metadata": {},
   "outputs": [
    {
     "name": "stdout",
     "output_type": "stream",
     "text": [
      "Pandas: Testing installation... \n",
      "Pandas: Version 1.4.2 installed\n",
      "Pandas: Check complete\n"
     ]
    }
   ],
   "source": [
    "name = \"Pandas\"\n",
    "print(\"%s: Testing installation... \" % name)\n",
    "try:\n",
    "    import pandas as pd\n",
    "    print(\"%s: Version %s installed\" % (name, pd.__version__))\n",
    "    # simple test\n",
    "    s = pd.Series(data={'a': 1, 'b': 2, 'c': 3}, index=['a', 'b', 'c'])\n",
    "    df = pd.DataFrame({\"v1\":s.copy(), \"v2\":s.copy()})\n",
    "    print(\"%s: Check complete\" % name)\n",
    "except ImportError as e:\n",
    "    print(\"%s: Package not installed\" % name)\n",
    "    print(\"%s: Error %s\" % (name, e))\n",
    "    print(\"%s: Attempting to install package via pip ...\" % name)\n",
    "    !pip install pandas"
   ]
  },
  {
   "cell_type": "markdown",
   "id": "3d5aceab",
   "metadata": {},
   "source": [
    "## Package - NumPy"
   ]
  },
  {
   "cell_type": "code",
   "execution_count": 5,
   "id": "d74732e8",
   "metadata": {},
   "outputs": [
    {
     "name": "stdout",
     "output_type": "stream",
     "text": [
      "NumPy: Testing installation... \n",
      "NumPy: Version 1.21.5 installed\n",
      "NumPy: Check complete\n"
     ]
    }
   ],
   "source": [
    "name = \"NumPy\"\n",
    "print(\"%s: Testing installation... \" % name)\n",
    "try:\n",
    "    import numpy as np\n",
    "    print(\"%s: Version %s installed\" % (name, np.__version__))\n",
    "    # simple test\n",
    "    x = np.random.rand(4,2)\n",
    "    y = x.reshape(8,1)\n",
    "    z = np.power(y, 2)\n",
    "    print(\"%s: Check complete\" % name)\n",
    "except ImportError as e:\n",
    "    print(\"%s: Package not installed\" % name)\n",
    "    print(\"%s: Error %s\" % (name, e))\n",
    "    print(\"%s: Attempting to install package via pip ...\" % name)\n",
    "    !pip install numpy"
   ]
  },
  {
   "cell_type": "markdown",
   "id": "0d775501",
   "metadata": {},
   "source": [
    "## Package - SciPy"
   ]
  },
  {
   "cell_type": "code",
   "execution_count": 6,
   "id": "90352b58",
   "metadata": {},
   "outputs": [
    {
     "name": "stdout",
     "output_type": "stream",
     "text": [
      "SciPy: Testing installation... \n",
      "SciPy: Version 1.7.3 installed\n",
      "SciPy: Check complete\n"
     ]
    }
   ],
   "source": [
    "name = \"SciPy\"\n",
    "print(\"%s: Testing installation... \" % name)\n",
    "try:\n",
    "    import scipy, scipy.stats\n",
    "    print(\"%s: Version %s installed\" % (name, scipy.__version__))\n",
    "    # simple test\n",
    "    x = scipy.stats.uniform.cdf([0, 1, 2, 3, 4, 5], loc=1, scale=4)\n",
    "    print(\"%s: Check complete\" % name)\n",
    "except ImportError as e:\n",
    "    print(\"%s: Package not installed\" % name)\n",
    "    print(\"%s: Error %s\" % (name, e))\n",
    "    print(\"%s: Attempting to install package via pip ...\" % name)\n",
    "    !pip install scipy"
   ]
  },
  {
   "cell_type": "markdown",
   "id": "24ff8b11",
   "metadata": {},
   "source": [
    "## Package - Matplotlib"
   ]
  },
  {
   "cell_type": "code",
   "execution_count": 7,
   "id": "060aebc2",
   "metadata": {},
   "outputs": [
    {
     "name": "stdout",
     "output_type": "stream",
     "text": [
      "Matplotlib: Testing installation... \n",
      "Matplotlib: Version 3.5.1 installed\n"
     ]
    },
    {
     "data": {
      "image/png": "[encoded data removed]",
      "text/plain": [
       "<Figure size 432x288 with 1 Axes>"
      ]
     },
     "metadata": {
      "needs_background": "light"
     },
     "output_type": "display_data"
    },
    {
     "name": "stdout",
     "output_type": "stream",
     "text": [
      "Matplotlib: Check complete\n"
     ]
    }
   ],
   "source": [
    "name = \"Matplotlib\"\n",
    "print(\"%s: Testing installation... \" % name)\n",
    "try:\n",
    "    import matplotlib\n",
    "    from matplotlib import pyplot as plt\n",
    "    print(\"%s: Version %s installed\" % (name, matplotlib.__version__))\n",
    "    # simple test\n",
    "    %matplotlib inline\n",
    "    x = range(1, 10)\n",
    "    y = range(1, 10)\n",
    "    plt.scatter(x, y, color=\"darkblue\", s=100)\n",
    "    plt.show()\n",
    "    print(\"%s: Check complete\" % name)\n",
    "except ImportError as e:\n",
    "    print(\"%s: Package not installed\" % name)\n",
    "    print(\"%s: Error %s\" % (name, e))\n",
    "    print(\"%s: Attempting to install package via pip ...\" % name)\n",
    "    !pip install matplotlib"
   ]
  },
  {
   "cell_type": "markdown",
   "id": "e67457f2",
   "metadata": {},
   "source": [
    "## Package - Seaborn"
   ]
  },
  {
   "cell_type": "code",
   "execution_count": 8,
   "id": "829e5e4d",
   "metadata": {},
   "outputs": [
    {
     "name": "stdout",
     "output_type": "stream",
     "text": [
      "Seaborn: Testing installation... \n",
      "Seaborn: Version 0.11.2 installed\n",
      "Seaborn: Check complete\n"
     ]
    },
    {
     "data": {
      "image/png": "[encoded data removed]",
      "text/plain": [
       "<Figure size 432x288 with 1 Axes>"
      ]
     },
     "metadata": {
      "needs_background": "light"
     },
     "output_type": "display_data"
    }
   ],
   "source": [
    "name = \"Seaborn\"\n",
    "print(\"%s: Testing installation... \" % name)\n",
    "try:\n",
    "    import seaborn as sns\n",
    "    print(\"%s: Version %s installed\" % (name, sns.__version__))\n",
    "    # simple test\n",
    "    %matplotlib inline\n",
    "    tips = pd.DataFrame({'total_bill':np.random.randint(0,100,size=100),\n",
    "                         'tip':np.random.randint(0,20,size=100)})\n",
    "    sns.scatterplot(data=tips, x=\"total_bill\", y=\"tip\")\n",
    "    print(\"%s: Check complete\" % name)\n",
    "except ImportError as e:\n",
    "    print(\"%s: Package not installed\" % name)\n",
    "    print(\"%s: Error %s\" % (name, e))\n",
    "    print(\"%s: Attempting to install package via pip ...\" % name)\n",
    "    !pip install seaborn"
   ]
  },
  {
   "cell_type": "code",
   "execution_count": null,
   "id": "523a6a10",
   "metadata": {},
   "outputs": [],
   "source": []
  }
 ],
 "metadata": {
  "kernelspec": {
   "display_name": "Python 3 (ipykernel)",
   "language": "python",
   "name": "python3"
  },
  "language_info": {
   "codemirror_mode": {
    "name": "ipython",
    "version": 3
   },
   "file_extension": ".py",
   "mimetype": "text/x-python",
   "name": "python",
   "nbconvert_exporter": "python",
   "pygments_lexer": "ipython3",
   "version": "3.9.12"
  }
 },
 "nbformat": 4,
 "nbformat_minor": 5
}
