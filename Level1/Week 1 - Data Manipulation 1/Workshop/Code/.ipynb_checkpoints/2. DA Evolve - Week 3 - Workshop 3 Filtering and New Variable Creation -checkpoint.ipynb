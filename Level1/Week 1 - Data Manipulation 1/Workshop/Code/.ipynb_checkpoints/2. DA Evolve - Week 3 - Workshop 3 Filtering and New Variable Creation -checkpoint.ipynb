{
 "cells": [
  {
   "cell_type": "markdown",
   "metadata": {},
   "source": [
    "# ECB Data Academy - Evolve Programme\n",
    "[Krisolis](http://www.krisolis.ie)"
   ]
  },
  {
   "cell_type": "markdown",
   "metadata": {},
   "source": [
    "## Workshop 3 Filtering and New Variable Creation  "
   ]
  },
  {
   "cell_type": "markdown",
   "metadata": {},
   "source": [
    "### Introduction\n",
    "In this workshop we will manipulate some data to generate multiple versions of a raw data source and then create new varibles."
   ]
  },
  {
   "cell_type": "markdown",
   "metadata": {},
   "source": [
    "### Task 1 - Dataset Filtering in Python"
   ]
  },
  {
   "cell_type": "markdown",
   "metadata": {},
   "source": [
    "Import the data from the **accounts.csv** and store it in a Python data frame called **accounts**(use the pandas function read_csv to read a .csv file into a pandas data frame)"
   ]
  },
  {
   "cell_type": "code",
   "execution_count": null,
   "metadata": {},
   "outputs": [],
   "source": [
    "import pandas as pd\n",
    "import numpy as np\n",
    "import matplotlib.pyplot as plt"
   ]
  },
  {
   "cell_type": "code",
   "execution_count": null,
   "metadata": {},
   "outputs": [],
   "source": [
    "accounts_data=\"..//Data//accounts.csv\"\n",
    "accounts = pd.read_csv(accounts_data)\n",
    "print(accounts.keys())"
   ]
  },
  {
   "cell_type": "markdown",
   "metadata": {},
   "source": [
    "Based on the **accounts**  dataset generate a dataset that includes only account numbers and  current balances."
   ]
  },
  {
   "cell_type": "code",
   "execution_count": null,
   "metadata": {},
   "outputs": [],
   "source": []
  },
  {
   "cell_type": "markdown",
   "metadata": {},
   "source": [
    "Based on the **accounts** dataset generate a dataset that excludes RestructureLastSixMonths, Restructure and DefaultIndicator."
   ]
  },
  {
   "cell_type": "code",
   "execution_count": null,
   "metadata": {},
   "outputs": [],
   "source": []
  },
  {
   "cell_type": "markdown",
   "metadata": {},
   "source": [
    "Generate a list of accounts for only those accounts that have outstanding balances of more than €100,000. "
   ]
  },
  {
   "cell_type": "code",
   "execution_count": null,
   "metadata": {},
   "outputs": [],
   "source": []
  },
  {
   "cell_type": "markdown",
   "metadata": {},
   "source": [
    "Generate a list of large tracker mortgages that have outstanding balances of more than €100,000. "
   ]
  },
  {
   "cell_type": "code",
   "execution_count": null,
   "metadata": {},
   "outputs": [],
   "source": []
  },
  {
   "cell_type": "markdown",
   "metadata": {},
   "source": [
    "Generate a list of tracker mortgages that either have an outstanding balance of more than €100,000 or are in default. \n"
   ]
  },
  {
   "cell_type": "code",
   "execution_count": null,
   "metadata": {},
   "outputs": [],
   "source": []
  },
  {
   "cell_type": "markdown",
   "metadata": {},
   "source": [
    "Generate a list of account numbers and balances for just those accounts that are in default."
   ]
  },
  {
   "cell_type": "code",
   "execution_count": null,
   "metadata": {},
   "outputs": [],
   "source": []
  },
  {
   "cell_type": "markdown",
   "metadata": {},
   "source": [
    "Generate a list of account numbers and balances for just those accounts that are in default  or have a total days past due value greater than 500. "
   ]
  },
  {
   "cell_type": "code",
   "execution_count": null,
   "metadata": {},
   "outputs": [],
   "source": []
  },
  {
   "cell_type": "markdown",
   "metadata": {},
   "source": [
    "### Task 2 - Creating New Variables "
   ]
  },
  {
   "cell_type": "markdown",
   "metadata": {},
   "source": [
    "Load the data from following .csv files:\n",
    "1. **payment.csv** and name it **payment**\n",
    "2. **primary_emply_types.csv** and name it **prim_emply_type**\n",
    "3. **personal_details.csv** and name it  **pers_details** "
   ]
  },
  {
   "cell_type": "code",
   "execution_count": null,
   "metadata": {},
   "outputs": [],
   "source": [
    "payment_data=\"..//Data//payment.csv\"\n",
    "payment = pd.read_csv(payment_data)\n",
    "print(payment.keys())\n"
   ]
  },
  {
   "cell_type": "code",
   "execution_count": null,
   "metadata": {},
   "outputs": [],
   "source": [
    "prim_emply_type_data=\"..//Data//primary_emply_types.csv\"\n",
    "prim_emply_type = pd.read_csv(prim_emply_type_data)\n",
    "print(prim_emply_type.keys())"
   ]
  },
  {
   "cell_type": "code",
   "execution_count": null,
   "metadata": {},
   "outputs": [],
   "source": [
    "pers_details_data=\"..//Data//personal_details.csv\"\n",
    "pers_details = pd.read_csv(pers_details_data)\n",
    "print(pers_details.keys())"
   ]
  },
  {
   "cell_type": "markdown",
   "metadata": {},
   "source": [
    "The **payment** dataset includes variables containing the pay amount, tax allowance and tax rate. Create a new variable that holds the tax payable amount (TAX_PAY) calculated as: (PAY-ALLOWANCE)*TAX_RATE"
   ]
  },
  {
   "cell_type": "code",
   "execution_count": null,
   "metadata": {},
   "outputs": [],
   "source": []
  },
  {
   "cell_type": "markdown",
   "metadata": {},
   "source": [
    "Recode the **Pay** variable from the **payment** dataset to be a factor as follows:\n",
    "* Pay<40,000\tassign to \t\tLow\n",
    "* 40,000>=Pay<80,000  assign to\tMedium\n",
    "* Pay>=80,000\t assign to\t\tHigh\n"
   ]
  },
  {
   "cell_type": "code",
   "execution_count": null,
   "metadata": {},
   "outputs": [],
   "source": []
  },
  {
   "cell_type": "markdown",
   "metadata": {},
   "source": [
    "Some of the entries in the **payment** dataset have particularly high incomes. Add a new flag variable to this dataset that indicates whether the pay amount is greater than $100,000."
   ]
  },
  {
   "cell_type": "code",
   "execution_count": null,
   "metadata": {},
   "outputs": [],
   "source": []
  },
  {
   "cell_type": "markdown",
   "metadata": {},
   "source": [
    "Sort the **payment** dataset by Key and Year. Create new variables that store a rolling sum and maximum Pay value across this sorted dataset.\n",
    "\n",
    "**Hint**: The **cumsum** or **cummax** functions will calculate a rolling sum or max within a dataframe. Applying these to a grouped frame does this rolling sum/max within each group.\n"
   ]
  },
  {
   "cell_type": "code",
   "execution_count": null,
   "metadata": {},
   "outputs": [],
   "source": []
  },
  {
   "cell_type": "markdown",
   "metadata": {},
   "source": [
    "Using the EMAIL variable in pers_det create a new variable that just contains name element of the email address (i.e. the piece before the @ sign)."
   ]
  },
  {
   "cell_type": "code",
   "execution_count": null,
   "metadata": {},
   "outputs": [],
   "source": []
  },
  {
   "cell_type": "markdown",
   "metadata": {},
   "source": [
    "Recode the state variable in pers_details to store regions rather than states according to the following mapping (this mapping is also stored in the file StateReduction.csv):\n",
    "* AK: West \n",
    "* KY: South \n",
    "* NV: West \n",
    "* AR: South \n",
    "* LA: South \n",
    "* ...\n",
    "* WI: Mid-West \n",
    "* WY: West  "
   ]
  },
  {
   "cell_type": "code",
   "execution_count": null,
   "metadata": {},
   "outputs": [],
   "source": []
  }
 ],
 "metadata": {
  "kernelspec": {
   "display_name": "Python 3",
   "language": "python",
   "name": "python3"
  },
  "language_info": {
   "codemirror_mode": {
    "name": "ipython",
    "version": 3
   },
   "file_extension": ".py",
   "mimetype": "text/x-python",
   "name": "python",
   "nbconvert_exporter": "python",
   "pygments_lexer": "ipython3",
   "version": "3.8.5"
  },
  "toc": {
   "base_numbering": 1,
   "nav_menu": {},
   "number_sections": false,
   "sideBar": true,
   "skip_h1_title": true,
   "title_cell": "Table of Contents",
   "title_sidebar": "Contents",
   "toc_cell": false,
   "toc_position": {},
   "toc_section_display": true,
   "toc_window_display": true
  }
 },
 "nbformat": 4,
 "nbformat_minor": 4
}
