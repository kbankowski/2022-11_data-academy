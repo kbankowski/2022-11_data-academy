{
 "cells": [
  {
   "cell_type": "markdown",
   "metadata": {},
   "source": [
    "# ECB Data Academy - Evolve Programme\n",
    "[Krisolis](http://www.krisolis.ie)"
   ]
  },
  {
   "cell_type": "markdown",
   "metadata": {},
   "source": [
    "## Workshop 1 Aggregating and Joining  "
   ]
  },
  {
   "cell_type": "markdown",
   "metadata": {},
   "source": [
    "### Introduction\n",
    "In this workshop we will use Python expressions to generate new variables based on aggregates and join tables."
   ]
  },
  {
   "cell_type": "markdown",
   "metadata": {},
   "source": [
    "### Task 1 - Aggregataing Datasets in python"
   ]
  },
  {
   "cell_type": "markdown",
   "metadata": {},
   "source": [
    "Import the data from the **payment.csv** and store it in a Python data frame called **payment**(use the pandas function read_csv to read a .csv file into a pandas data frame)"
   ]
  },
  {
   "cell_type": "code",
   "execution_count": null,
   "metadata": {},
   "outputs": [],
   "source": [
    "import pandas as pd\n",
    "import numpy as np\n",
    "import matplotlib.pyplot as plt"
   ]
  },
  {
   "cell_type": "code",
   "execution_count": null,
   "metadata": {},
   "outputs": [],
   "source": [
    "payment_data=\"..//Data//payment.csv\"\n",
    "payment= pd.read_csv(payment_data)\n",
    "print(payment.keys())"
   ]
  },
  {
   "cell_type": "markdown",
   "metadata": {},
   "source": [
    "From the **payment** dataset create a new series called **pay_by_id**  that contains the total tax paid by each tax payer."
   ]
  },
  {
   "cell_type": "code",
   "execution_count": null,
   "metadata": {},
   "outputs": [],
   "source": []
  },
  {
   "cell_type": "markdown",
   "metadata": {},
   "source": [
    "From the **payment** dataset create a new series called **tax_by_type**  that contains the total tax generated for each of the different employment types."
   ]
  },
  {
   "cell_type": "code",
   "execution_count": null,
   "metadata": {},
   "outputs": [],
   "source": []
  },
  {
   "cell_type": "markdown",
   "metadata": {},
   "source": [
    "From the **payment** dataset create a new series called **tax_by_id_type** that contains the tax generated for each of the different employment types for each tax payer."
   ]
  },
  {
   "cell_type": "code",
   "execution_count": null,
   "metadata": {},
   "outputs": [],
   "source": []
  },
  {
   "cell_type": "markdown",
   "metadata": {},
   "source": [
    "From the dataset in created the previous example, **tax_by_id_type** calculate the average tax paid per year for each tax payer.\n",
    "\n",
    "**Hint:** The **reset_index** function flattens the hierarchical data structure created by a groupby function.\n"
   ]
  },
  {
   "cell_type": "code",
   "execution_count": null,
   "metadata": {},
   "outputs": [],
   "source": []
  },
  {
   "cell_type": "markdown",
   "metadata": {},
   "source": [
    "### Task 2 - Combining datasets in python"
   ]
  },
  {
   "cell_type": "markdown",
   "metadata": {},
   "source": [
    "Load the data from following .csv files\n",
    "1. **target.csv** and name it **target**\n",
    "2. **personal_details.csv** and name it **pers_details**\n",
    "3. **secondary_emply_types.tab** nd name it **sec_emply_type**"
   ]
  },
  {
   "cell_type": "code",
   "execution_count": null,
   "metadata": {},
   "outputs": [],
   "source": [
    "target_data=\"..//Data//Target_Fraud.csv\"\n",
    "target = pd.read_csv(target_data)\n",
    "print(target.keys())"
   ]
  },
  {
   "cell_type": "code",
   "execution_count": null,
   "metadata": {},
   "outputs": [],
   "source": [
    "pers_details_data=\"..//Data//personal_details.csv\"\n",
    "pers_details = pd.read_csv(pers_details_data)\n",
    "print(pers_details.keys())"
   ]
  },
  {
   "cell_type": "code",
   "execution_count": null,
   "metadata": {},
   "outputs": [],
   "source": [
    "sec_emply_type_data=\"..//Data//secondary_emply_types.tab\"\n",
    "sec_emply_type = pd.read_csv(sec_emply_type_data, sep='\\t')\n",
    "print(sec_emply_type.keys())"
   ]
  },
  {
   "cell_type": "markdown",
   "metadata": {},
   "source": [
    "Use a merge to add the values from the **target** dataset to the **pers_details** dataset. "
   ]
  },
  {
   "cell_type": "code",
   "execution_count": null,
   "metadata": {},
   "outputs": [],
   "source": []
  },
  {
   "cell_type": "markdown",
   "metadata": {},
   "source": [
    "Use a merge to add the tax payable (Tax_Pay) for 2020 and 2021 calculated from the **payments** dataset to the **pers_details** dataset. \n",
    "\n",
    "Add a variable to the **pers_details**  dataset that indicates how many secondary employments each person had in 2021. Also add another variable that is a logical flag indicating whether a person had any secondary employments in 2021."
   ]
  },
  {
   "cell_type": "code",
   "execution_count": null,
   "metadata": {},
   "outputs": [],
   "source": []
  },
  {
   "cell_type": "code",
   "execution_count": null,
   "metadata": {},
   "outputs": [],
   "source": []
  },
  {
   "cell_type": "markdown",
   "metadata": {},
   "source": [
    "Use a merge to add variables that represent the income generated from secondary employment types both for 2020 and 2021 calculated from the payments dataset to the pers_details dataset. Also calculate the ratio between the two variables.\n"
   ]
  },
  {
   "cell_type": "code",
   "execution_count": null,
   "metadata": {},
   "outputs": [],
   "source": []
  },
  {
   "cell_type": "markdown",
   "metadata": {},
   "source": [
    "Load the data from following .csv files:\n",
    "1. **customers.csv** and name it  **cutomers** \n",
    "2. **accounts.csv** and name it  **accounts** \n",
    "3. **customer_account_mapping .csv** and name it  **cust_acc_map** "
   ]
  },
  {
   "cell_type": "code",
   "execution_count": null,
   "metadata": {},
   "outputs": [],
   "source": [
    "customers_data=\"..//Data//customers.csv\"\n",
    "customers = pd.read_csv(customers_data)\n",
    "print(customers.keys())"
   ]
  },
  {
   "cell_type": "code",
   "execution_count": null,
   "metadata": {},
   "outputs": [],
   "source": [
    "accounts_data=\"..//Data//accounts.csv\"\n",
    "accounts = pd.read_csv(accounts_data)\n",
    "print(accounts.keys())"
   ]
  },
  {
   "cell_type": "code",
   "execution_count": null,
   "metadata": {},
   "outputs": [],
   "source": [
    "customer_account_mapping_data=\"..//Data//customer_account_mapping.csv\"\n",
    "customer_account_mapping = pd.read_csv(customer_account_mapping_data)\n",
    "print(customer_account_mapping.keys())"
   ]
  },
  {
   "cell_type": "markdown",
   "metadata": {},
   "source": [
    "The customer_account_mapping dataset links customer numbers to account numbers in a many-to-many relationship. Using this dataset perform a merge to create a new version of the accounts dataset that adds customer numbers to account details. "
   ]
  },
  {
   "cell_type": "code",
   "execution_count": null,
   "metadata": {},
   "outputs": [],
   "source": []
  },
  {
   "cell_type": "markdown",
   "metadata": {},
   "source": [
    "Using the customer_account_mapping dataset perform a merge to create a new version of the customers dataset that adds account numbers to customer details. "
   ]
  },
  {
   "cell_type": "code",
   "execution_count": null,
   "metadata": {},
   "outputs": [],
   "source": []
  },
  {
   "cell_type": "markdown",
   "metadata": {},
   "source": [
    "Using the output dataset from part a add the Rating variable from customers to the new version of accounts."
   ]
  },
  {
   "cell_type": "code",
   "execution_count": null,
   "metadata": {},
   "outputs": [],
   "source": []
  },
  {
   "cell_type": "markdown",
   "metadata": {},
   "source": [
    "Using the output dataset from part b add the Balance variable from accounts to the new version of customers."
   ]
  },
  {
   "cell_type": "code",
   "execution_count": null,
   "metadata": {},
   "outputs": [],
   "source": []
  },
  {
   "cell_type": "markdown",
   "metadata": {},
   "source": [
    "Bonus: Calculate a total exposure for each customer."
   ]
  },
  {
   "cell_type": "code",
   "execution_count": null,
   "metadata": {},
   "outputs": [],
   "source": []
  }
 ],
 "metadata": {
  "kernelspec": {
   "display_name": "Python 3",
   "language": "python",
   "name": "python3"
  },
  "language_info": {
   "codemirror_mode": {
    "name": "ipython",
    "version": 3
   },
   "file_extension": ".py",
   "mimetype": "text/x-python",
   "name": "python",
   "nbconvert_exporter": "python",
   "pygments_lexer": "ipython3",
   "version": "3.8.5"
  },
  "toc": {
   "base_numbering": 1,
   "nav_menu": {},
   "number_sections": false,
   "sideBar": true,
   "skip_h1_title": true,
   "title_cell": "Table of Contents",
   "title_sidebar": "Contents",
   "toc_cell": false,
   "toc_position": {},
   "toc_section_display": true,
   "toc_window_display": true
  }
 },
 "nbformat": 4,
 "nbformat_minor": 4
}
