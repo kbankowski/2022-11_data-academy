{
 "cells": [
  {
   "cell_type": "markdown",
   "metadata": {},
   "source": [
    "# ECB Data Academy - Evolve Programme\n",
    "[Krisolis](http://www.krisolis.ie)"
   ]
  },
  {
   "cell_type": "markdown",
   "metadata": {},
   "source": [
    "# SOLUTIONS"
   ]
  },
  {
   "cell_type": "markdown",
   "metadata": {},
   "source": [
    "## Workshop 1 Aggregating and Joining  "
   ]
  },
  {
   "cell_type": "markdown",
   "metadata": {},
   "source": [
    "### Introduction\n",
    "In this workshop we will use Python expressions to generate new variables based on aggregates and join tables."
   ]
  },
  {
   "cell_type": "markdown",
   "metadata": {},
   "source": [
    "### Task 1 - Aggregataing Datasets in python"
   ]
  },
  {
   "cell_type": "markdown",
   "metadata": {},
   "source": [
    "Import the data from the **payment.csv** and store it in a Python data frame called **payment**(use the pandas function read_csv to read a .csv file into a pandas data frame)"
   ]
  },
  {
   "cell_type": "code",
   "execution_count": null,
   "metadata": {},
   "outputs": [],
   "source": [
    "import pandas as pd\n",
    "import numpy as np\n",
    "import matplotlib.pyplot as plt"
   ]
  },
  {
   "cell_type": "code",
   "execution_count": null,
   "metadata": {},
   "outputs": [],
   "source": [
    "payment_data=\"..//Data//payment.csv\"\n",
    "payment= pd.read_csv(payment_data)\n",
    "print(payment.keys())"
   ]
  },
  {
   "cell_type": "markdown",
   "metadata": {},
   "source": [
    "From the **payment** dataset create a new series called **pay_by_id**  that contains the total tax paid by each tax payer."
   ]
  },
  {
   "cell_type": "code",
   "execution_count": null,
   "metadata": {},
   "outputs": [],
   "source": [
    "pay_by_id = payment.groupby('Key')['Pay'].sum()\n",
    "display(pay_by_id.head())"
   ]
  },
  {
   "cell_type": "code",
   "execution_count": null,
   "metadata": {
    "scrolled": true
   },
   "outputs": [],
   "source": [
    "#in this version of the code we add a title to the new aggregaated column,\n",
    "#The **reset_index** function flattens the hierarchical data structure created \n",
    "#by a groupby function.\n",
    "\n",
    "pay_by_id = payment.groupby('Key')['Pay'].sum().to_frame(\"Total_Tax\").reset_index()\n",
    "display(pay_by_id.head())"
   ]
  },
  {
   "cell_type": "markdown",
   "metadata": {},
   "source": [
    "From the **payment** dataset create a new series called **tax_by_type**  that contains the total tax generated for each of the different employment types."
   ]
  },
  {
   "cell_type": "code",
   "execution_count": null,
   "metadata": {},
   "outputs": [],
   "source": [
    "tax_by_type = payment.groupby('Employment')['Pay'].sum()\n",
    "display(tax_by_type.head())"
   ]
  },
  {
   "cell_type": "code",
   "execution_count": null,
   "metadata": {},
   "outputs": [],
   "source": [
    "##again we can add a column name to the new column\n",
    "tax_by_type = payment.groupby('Employment')['Pay'].sum().to_frame(\"Total_Tax\").reset_index()\n",
    "display(tax_by_type.head())"
   ]
  },
  {
   "cell_type": "markdown",
   "metadata": {},
   "source": [
    "From the **payment** dataset create a new series called **tax_by_id_type** that contains the tax generated for each of the different employment types for each tax payer."
   ]
  },
  {
   "cell_type": "code",
   "execution_count": null,
   "metadata": {},
   "outputs": [],
   "source": [
    "tax_by_id_type = payment.groupby(['Key','Year'])['Pay'].sum()\n",
    "display(tax_by_id_type.head())"
   ]
  },
  {
   "cell_type": "markdown",
   "metadata": {},
   "source": [
    "From the dataset in created the previous example, **tax_by_id_type** calculate the average tax paid per year for each tax payer.\n",
    "\n",
    "**Hint:** The **reset_index** function flattens the hierarchical data structure created by a groupby function.\n"
   ]
  },
  {
   "cell_type": "code",
   "execution_count": null,
   "metadata": {},
   "outputs": [],
   "source": [
    "avg_tax_by_id = tax_by_id_type.reset_index().groupby(['Key','Year'])['Pay'].mean().reset_index()\n",
    "display(avg_tax_by_id.head())"
   ]
  },
  {
   "cell_type": "markdown",
   "metadata": {},
   "source": [
    "### Task 2 - Combining datasets in python"
   ]
  },
  {
   "cell_type": "markdown",
   "metadata": {},
   "source": [
    "Load the data from following .csv files\n",
    "1. **target.csv** and name it **target**\n",
    "2. **personal_details.csv** and name it **pers_details**\n",
    "3. **secondary_emply_types.tab** nd name it **sec_emply_type**"
   ]
  },
  {
   "cell_type": "code",
   "execution_count": null,
   "metadata": {},
   "outputs": [],
   "source": [
    "target_data=\"..//Data//Target_Fraud.csv\"\n",
    "target = pd.read_csv(target_data)\n",
    "print(target.keys())"
   ]
  },
  {
   "cell_type": "code",
   "execution_count": null,
   "metadata": {},
   "outputs": [],
   "source": [
    "pers_details_data=\"..//Data//personal_details.csv\"\n",
    "pers_details = pd.read_csv(pers_details_data)\n",
    "print(pers_details.keys())"
   ]
  },
  {
   "cell_type": "code",
   "execution_count": null,
   "metadata": {},
   "outputs": [],
   "source": [
    "sec_emply_type_data=\"..//Data//secondary_emply_types.tab\"\n",
    "sec_emply_type = pd.read_csv(sec_emply_type_data, sep='\\t')\n",
    "print(sec_emply_type.keys())"
   ]
  },
  {
   "cell_type": "markdown",
   "metadata": {},
   "source": [
    "Use a merge to add the values from the **target** dataset to the **pers_details** dataset. "
   ]
  },
  {
   "cell_type": "code",
   "execution_count": null,
   "metadata": {},
   "outputs": [],
   "source": [
    "pers_details_fraud = pd.merge(pers_details, target, on=\"Key\")\n",
    "display(pers_details_fraud.head())\n",
    "print(pers_details.shape)\n",
    "print(target.shape)\n",
    "print(pers_details_fraud.shape)"
   ]
  },
  {
   "cell_type": "markdown",
   "metadata": {},
   "source": [
    "Use a merge to add the tax payable (Tax.Pay) for 2020 and 2021 calculated from the **payments** dataset to the **pers_details** dataset. \n",
    "\n",
    "Add a variable to the **pers_details**  dataset that indicates how many secondary employments each person had in 2021. Also add another variable that is a logical flag indicating whether a person had any secondary employments in 2021."
   ]
  },
  {
   "cell_type": "code",
   "execution_count": null,
   "metadata": {},
   "outputs": [],
   "source": [
    "payment['Tax_Pay'] = payment['Pay']-payment['Allowance']*payment['Tax_Rate']\n",
    "\n",
    "pers_details_pay = pd.merge(pers_details, payment[['Key', 'Year', 'Tax_Pay']], on=\"Key\")\n",
    "display(pers_details_pay.head())\n",
    "print(len(pers_details))\n",
    "print(len(payment))\n",
    "print(len(pers_details_pay))"
   ]
  },
  {
   "cell_type": "code",
   "execution_count": null,
   "metadata": {},
   "outputs": [],
   "source": [
    "#Add a variable to the pers_details dataset that indicates how many secondary employments each person had in 2013.\n",
    "xx = pd.merge(pers_details, sec_emply_type, on=\"Key\",how=\"left\")\n",
    "xx=xx[xx['Year']==2021]\n",
    "#xx\n",
    "Count_employment=xx.groupby('Key')['Employment'].nunique().reset_index()\n",
    "pers_detailss = pd.merge(pers_details, Count_employment, on=\"Key\",how=\"left\")\n",
    "pers_detailss = pers_detailss.rename(columns={'Employment': 'Employment Count 2021'})\n",
    "pers_detailss\n",
    "\n",
    "#Also add another variable that is a logical flag indicating whether a person had any secondary employments in 2013.\n",
    "pers_detailss['Employment flag 2013'] = pers_detailss['Employment Count 2021'].isna().apply(lambda x: 0 if x==0 else 1)\n",
    "pers_detailss"
   ]
  },
  {
   "cell_type": "markdown",
   "metadata": {},
   "source": [
    "Use a merge to add variables that represent the income generated from secondary employment types both for 2020 and 2021 calculated from the payments dataset to the pers_details dataset. Also calculate the ratio between the two variables.\n"
   ]
  },
  {
   "cell_type": "code",
   "execution_count": null,
   "metadata": {},
   "outputs": [],
   "source": [
    "get_All_secondary_empl_with_payment = pd.merge(sec_emply_type, payment[['Key','Employment','Pay']], on=[\"Key\",'Employment'],how=\"left\")\n",
    "get_All_secondary_empl_with_payment\n",
    "income_sec=get_All_secondary_empl_with_payment.groupby(['Key','Year'])['Pay'].sum().reset_index()\n",
    "#income_sec\n",
    "income_sec_2020=income_sec[income_sec['Year']==2012]\n",
    "income_sec_2020 = income_sec_2020.rename(columns={'Pay': 'Income 2020'})\n",
    "income_sec_2021=income_sec[income_sec['Year']==2013]\n",
    "income_sec_2021 = income_sec_2021.rename(columns={'Pay': 'Income 2021'})\n",
    "\n",
    "pers_details_with_income = pd.merge(pers_details,income_sec_2020, on=[\"Key\"],how=\"left\")\n",
    "pers_details_with_income= pd.merge(pers_details_with_income,income_sec_2021, on=[\"Key\"],how=\"left\")\n",
    "pers_details_with_income[\"Ratio of Income 2020 and 2021\"]=pers_details_with_income['Income 2020']/pers_details_with_income['Income 2021']\n",
    "pers_details_with_income"
   ]
  },
  {
   "cell_type": "markdown",
   "metadata": {},
   "source": [
    "Load the data from following .csv files:\n",
    "1. **customers.csv** and name it  **cutomers** \n",
    "2. **accounts.csv** and name it  **accounts** \n",
    "3. **customer_account_mapping .csv** and name it  **cust_acc_map** "
   ]
  },
  {
   "cell_type": "code",
   "execution_count": null,
   "metadata": {},
   "outputs": [],
   "source": [
    "customers_data=\"..//Data//customers.csv\"\n",
    "customers = pd.read_csv(customers_data)\n",
    "print(customers.keys())"
   ]
  },
  {
   "cell_type": "code",
   "execution_count": null,
   "metadata": {},
   "outputs": [],
   "source": [
    "accounts_data=\"..//Data//accounts.csv\"\n",
    "accounts = pd.read_csv(accounts_data)\n",
    "print(accounts.keys())"
   ]
  },
  {
   "cell_type": "code",
   "execution_count": null,
   "metadata": {},
   "outputs": [],
   "source": [
    "customer_account_mapping_data=\"..//Data//customer_account_mapping.csv\"\n",
    "customer_account_mapping = pd.read_csv(customer_account_mapping_data)\n",
    "print(customer_account_mapping.keys())"
   ]
  },
  {
   "cell_type": "markdown",
   "metadata": {},
   "source": [
    "The customer_account_mapping dataset links customer numbers to account numbers in a many-to-many relationship. Using this dataset perform a merge to create a new version of the accounts dataset that adds customer numbers to account details. "
   ]
  },
  {
   "cell_type": "code",
   "execution_count": null,
   "metadata": {},
   "outputs": [],
   "source": [
    "accounts_extra = pd.merge(accounts, customer_account_mapping, on=\"AccNum\")\n",
    "display(accounts_extra.head())\n",
    "print(len(accounts))\n",
    "print(len(customer_account_mapping))\n",
    "print(len(accounts_extra))"
   ]
  },
  {
   "cell_type": "markdown",
   "metadata": {},
   "source": [
    "Using the customer_account_mapping dataset perform a merge to create a new version of the customers dataset that adds account numbers to customer details. "
   ]
  },
  {
   "cell_type": "code",
   "execution_count": null,
   "metadata": {},
   "outputs": [],
   "source": [
    "customers_extra = pd.merge(customers, customer_account_mapping, on=\"CustNum\")\n",
    "display(accounts_extra.head())\n",
    "print(len(customers))\n",
    "print(len(customer_account_mapping))\n",
    "print(len(customers_extra))"
   ]
  },
  {
   "cell_type": "markdown",
   "metadata": {},
   "source": [
    "Using the output dataset from part a add the Rating variable from customers to the new version of accounts."
   ]
  },
  {
   "cell_type": "code",
   "execution_count": null,
   "metadata": {},
   "outputs": [],
   "source": [
    "accounts_extra_rating = pd.merge(accounts_extra, \\\n",
    "                                 customers[['CustNum', 'Rating']], \\\n",
    "                                 on=\"CustNum\")\n",
    "display(accounts_extra_rating.head(50))\n",
    "print(len(accounts_extra))\n",
    "print(len(customers))\n",
    "print(len(accounts_extra_rating))"
   ]
  },
  {
   "cell_type": "markdown",
   "metadata": {},
   "source": [
    "Using the output dataset from part b add the Balance variable from accounts to the new version of customers."
   ]
  },
  {
   "cell_type": "code",
   "execution_count": null,
   "metadata": {},
   "outputs": [],
   "source": [
    "customers_extra_rating = pd.merge(customers_extra, accounts[['AccNum', 'Balance']], on=\"AccNum\")\n",
    "display(customers_extra_rating.head(50))\n",
    "print(len(customers_extra))\n",
    "print(len(accounts))\n",
    "print(len(customers_extra_rating))"
   ]
  },
  {
   "cell_type": "markdown",
   "metadata": {},
   "source": [
    "Bonus: Calculate a total exposure for each customer."
   ]
  },
  {
   "cell_type": "code",
   "execution_count": null,
   "metadata": {},
   "outputs": [],
   "source": [
    "customers_extra_rating.groupby('CustNum').agg({'Balance':[sum, min, max, 'mean'], \\\n",
    "                                               'TotalMortgageExposure':[sum, min, max]})"
   ]
  }
 ],
 "metadata": {
  "kernelspec": {
   "display_name": "Python 3",
   "language": "python",
   "name": "python3"
  },
  "language_info": {
   "codemirror_mode": {
    "name": "ipython",
    "version": 3
   },
   "file_extension": ".py",
   "mimetype": "text/x-python",
   "name": "python",
   "nbconvert_exporter": "python",
   "pygments_lexer": "ipython3",
   "version": "3.8.5"
  }
 },
 "nbformat": 4,
 "nbformat_minor": 4
}
