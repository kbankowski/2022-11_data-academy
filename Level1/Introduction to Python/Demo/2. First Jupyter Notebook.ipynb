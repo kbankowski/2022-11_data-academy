{
 "cells": [
  {
   "cell_type": "markdown",
   "metadata": {},
   "source": [
    "# Introduction to Python \n",
    "[Krisolis](http://www.krisolis.ie)"
   ]
  },
  {
   "cell_type": "markdown",
   "metadata": {},
   "source": [
    "## A Simple Python Demo"
   ]
  },
  {
   "cell_type": "markdown",
   "metadata": {},
   "source": [
    "### Do some simple arithmetic"
   ]
  },
  {
   "cell_type": "code",
   "execution_count": 1,
   "metadata": {},
   "outputs": [],
   "source": [
    "a = 32\n",
    "b = 45"
   ]
  },
  {
   "cell_type": "code",
   "execution_count": 2,
   "metadata": {},
   "outputs": [
    {
     "name": "stdout",
     "output_type": "stream",
     "text": [
      "77\n"
     ]
    }
   ],
   "source": [
    "c = a + b\n",
    "print(c)"
   ]
  },
  {
   "cell_type": "markdown",
   "metadata": {},
   "source": [
    "### Display a Chart Based on a Dataset"
   ]
  },
  {
   "cell_type": "code",
   "execution_count": 3,
   "metadata": {},
   "outputs": [
    {
     "data": {
      "text/plain": [
       "<AxesSubplot:title={'center':'Price'}>"
      ]
     },
     "execution_count": 3,
     "metadata": {},
     "output_type": "execute_result"
    },
    {
     "data": {
      "image/png": "[encoded data removed]",
      "text/plain": [
       "<Figure size 432x288 with 1 Axes>"
      ]
     },
     "metadata": {
      "needs_background": "light"
     },
     "output_type": "display_data"
    }
   ],
   "source": [
    "# Import packages for dealing with simple datsets\n",
    "import pandas as pd\n",
    "import numpy as np\n",
    "\n",
    "# Create some dummy time series data \n",
    "ts = pd.Series(np.random.randn(1000), index=pd.date_range('1/1/2015', periods=1000))\n",
    "# Calcualte a running total\n",
    "ts = ts.cumsum()\n",
    "# Create a simple line plot\n",
    "ts.plot(kind = \"line\", title = \"Price\")"
   ]
  },
  {
   "cell_type": "markdown",
   "metadata": {},
   "source": [
    "### Analyse the Contents of a File"
   ]
  },
  {
   "cell_type": "code",
   "execution_count": 4,
   "metadata": {},
   "outputs": [
    {
     "name": "stdout",
     "output_type": "stream",
     "text": [
      "nothing\n",
      "taking\n",
      "starring\n",
      "fizzing\n",
      "trying\n",
      "everything\n",
      "Making\n",
      "something\n",
      "feeling\n",
      "following\n",
      "being\n",
      "thing\n",
      "distrusting\n",
      "everything\n",
      "thing\n",
      "everything\n",
      "giving\n",
      "testing\n",
      "starting\n",
      "writing\n",
      "Breaking\n",
      "training\n",
      "including\n",
      "Breaking\n",
      "migrating\n",
      "King\n",
      "writing\n",
      "considering\n",
      "showing\n",
      "including\n",
      "something\n",
      "lacking\n",
      "something\n",
      "everything\n"
     ]
    }
   ],
   "source": [
    "datafile = \"file.txt\"\n",
    "\n",
    "with open(datafile,encoding=\"utf8\") as text_file:\n",
    "    for line in text_file:\n",
    "        for word in line.split():\n",
    "            if word.endswith('ing'):\n",
    "                print(word)\n"
   ]
  },
  {
   "cell_type": "markdown",
   "metadata": {},
   "source": [
    "### Now you try ... (2-1)"
   ]
  },
  {
   "cell_type": "markdown",
   "metadata": {},
   "source": [
    "In the remainder of this notebook include new cells containing the following:\n",
    "- Add a section, using the **level 2 heading style**, called *Part 2*.\n",
    "- Create a section title, using the **level 3 heading style**, for a section caled *About Me*.\n",
    "- Write two sentences about yourself including your name (in **bold face**), your hobby, your favourite book, and a link to a website you like to read.\n",
    "- Add a code cell and in it calculate and print the approximate number of seconds for which you have been alive (assuming that there are 365 days in a year, 24 hours in a day, 60 minutes in an hour, and 60 seconds in a minute).\n",
    "- Add another section title using the **level 3 heading style** for a section called *What I Want from this Course?*.\n",
    "- Add some text that describes an ambition for this course - what would like to be able to create using Python programming?\n",
    "- The first version of Python was realeased at the beginning of 1991. Add a code cell and in it calculate and print the approximate number of seconds since Python was released (assuming that there are 365 days in a year, 24 hours in a day, 60 minutes in an hour, and 60 seconds in a minute)."
   ]
  },
  {
   "cell_type": "code",
   "execution_count": null,
   "metadata": {},
   "outputs": [],
   "source": []
  }
 ],
 "metadata": {
  "kernelspec": {
   "display_name": "Python 3",
   "language": "python",
   "name": "python3"
  },
  "language_info": {
   "codemirror_mode": {
    "name": "ipython",
    "version": 3
   },
   "file_extension": ".py",
   "mimetype": "text/x-python",
   "name": "python",
   "nbconvert_exporter": "python",
   "pygments_lexer": "ipython3",
   "version": "3.8.5"
  },
  "toc": {
   "base_numbering": 1,
   "nav_menu": {},
   "number_sections": false,
   "sideBar": true,
   "skip_h1_title": true,
   "title_cell": "Table of Contents",
   "title_sidebar": "Contents",
   "toc_cell": false,
   "toc_position": {},
   "toc_section_display": true,
   "toc_window_display": true
  }
 },
 "nbformat": 4,
 "nbformat_minor": 1
}
