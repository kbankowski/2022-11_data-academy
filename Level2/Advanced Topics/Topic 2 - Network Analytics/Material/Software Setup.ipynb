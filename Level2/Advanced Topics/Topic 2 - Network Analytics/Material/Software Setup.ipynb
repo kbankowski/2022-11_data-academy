{
 "cells": [
  {
   "cell_type": "markdown",
   "id": "52e4fd7d",
   "metadata": {},
   "source": [
    "# Software Setup - Network Analytics\n",
    "\n",
    "This notebook will check that the following Python packages are correctly installed on your system:\n",
    "\n",
    "- Pandas package\n",
    "- NumPy package\n",
    "- Matplotlib package\n",
    "- NetworkX package (https://networkx.org)\n",
    "- PyTorch package (https://pytorch.org)\n",
    "- DGL package (https://www.dgl.ai)\n",
    "\n",
    "To run the checks, from the menu *'Cell'* above, click *'Run All'*\n",
    "\n",
    "If a package is not installed, the *pip* tool will be used to install the relevant package."
   ]
  },
  {
   "cell_type": "markdown",
   "id": "b3924981",
   "metadata": {},
   "source": [
    "## Python Checks"
   ]
  },
  {
   "cell_type": "code",
   "execution_count": 1,
   "id": "d38ed472",
   "metadata": {},
   "outputs": [
    {
     "name": "stdout",
     "output_type": "stream",
     "text": [
      "Operating System: Linux 5.10.0-16-amd64\n",
      "Python: Version 3.10.9\n",
      "Python: Executable /opt/mamba/bin/python\n",
      "JuypterLab: Checking package versions\n",
      "Selected Jupyter core packages...\n",
      "IPython          : 8.11.0\n",
      "ipykernel        : 6.21.3\n",
      "ipywidgets       : 8.0.4\n",
      "jupyter_client   : 7.3.4\n",
      "jupyter_core     : 5.3.0\n",
      "jupyter_server   : not installed\n",
      "jupyterlab       : not installed\n",
      "nbclient         : 0.5.13\n",
      "nbconvert        : not installed\n",
      "nbformat         : 5.7.3\n",
      "notebook         : not installed\n",
      "qtconsole        : not installed\n",
      "traitlets        : 5.9.0\n",
      "Check complete\n"
     ]
    }
   ],
   "source": [
    "try:\n",
    "    import platform\n",
    "    if platform.system().lower() == \"darwin\":\n",
    "        print(\"Operating System: Mac %s\" % platform.mac_ver()[0])\n",
    "    else:\n",
    "        print(\"Operating System: %s %s\" % (platform.system(), platform.release()))\n",
    "except e:\n",
    "    print(\"Operating System: Unable to check\")\n",
    "    print(e)\n",
    "try:\n",
    "    import platform, sys\n",
    "    print(\"Python: Version %s\" % platform.python_version())\n",
    "    print(\"Python: Executable %s\" % sys.executable)\n",
    "except e:\n",
    "    print(\"Python: Unable to check\")\n",
    "    print(e)\n",
    "print(\"JuypterLab: Checking package versions\")\n",
    "!jupyter --version\n",
    "print(\"Check complete\")"
   ]
  },
  {
   "cell_type": "markdown",
   "id": "4b7fc880",
   "metadata": {},
   "source": [
    "## Package - Pandas"
   ]
  },
  {
   "cell_type": "code",
   "execution_count": 2,
   "id": "2d2ab93b",
   "metadata": {},
   "outputs": [
    {
     "name": "stdout",
     "output_type": "stream",
     "text": [
      "Pandas: Testing installation... \n",
      "Pandas: Version 1.5.3 installed\n",
      "Pandas: Check complete\n"
     ]
    }
   ],
   "source": [
    "name = \"Pandas\"\n",
    "print(\"%s: Testing installation... \" % name)\n",
    "try:\n",
    "    import pandas as pd\n",
    "    print(\"%s: Version %s installed\" % (name, pd.__version__))\n",
    "    # simple test\n",
    "    s = pd.Series(data={'a': 1, 'b': 2, 'c': 3}, index=['a', 'b', 'c'])\n",
    "    df = pd.DataFrame({\"v1\":s.copy(), \"v2\":s.copy()})\n",
    "    print(\"%s: Check complete\" % name)\n",
    "except ImportError as e:\n",
    "    print(\"%s: Package not installed\" % name)\n",
    "    print(\"%s: Error %s\" % (name, e))\n",
    "    print(\"%s: Attempting to install package via pip ...\" % name)\n",
    "    !pip install pandas"
   ]
  },
  {
   "cell_type": "markdown",
   "id": "3d5aceab",
   "metadata": {},
   "source": [
    "## Package - NumPy"
   ]
  },
  {
   "cell_type": "code",
   "execution_count": 3,
   "id": "d74732e8",
   "metadata": {},
   "outputs": [
    {
     "name": "stdout",
     "output_type": "stream",
     "text": [
      "NumPy: Testing installation... \n",
      "NumPy: Version 1.23.5 installed\n",
      "NumPy: Check complete\n"
     ]
    }
   ],
   "source": [
    "name = \"NumPy\"\n",
    "print(\"%s: Testing installation... \" % name)\n",
    "try:\n",
    "    import numpy as np\n",
    "    print(\"%s: Version %s installed\" % (name, np.__version__))\n",
    "    # simple test\n",
    "    x = np.random.rand(4,2)\n",
    "    y = x.reshape(8,1)\n",
    "    z = np.power(y, 2)\n",
    "    print(\"%s: Check complete\" % name)\n",
    "except ImportError as e:\n",
    "    print(\"%s: Package not installed\" % name)\n",
    "    print(\"%s: Error %s\" % (name, e))\n",
    "    print(\"%s: Attempting to install package via pip ...\" % name)\n",
    "    !pip install numpy"
   ]
  },
  {
   "cell_type": "markdown",
   "id": "24ff8b11",
   "metadata": {},
   "source": [
    "## Package - Matplotlib"
   ]
  },
  {
   "cell_type": "code",
   "execution_count": 4,
   "id": "060aebc2",
   "metadata": {},
   "outputs": [
    {
     "name": "stdout",
     "output_type": "stream",
     "text": [
      "Matplotlib: Testing installation... \n",
      "Matplotlib: Version 3.7.1 installed\n"
     ]
    },
    {
     "data": {
      "image/png": "[encoded data removed]",
      "text/plain": [
       "<Figure size 640x480 with 1 Axes>"
      ]
     },
     "metadata": {},
     "output_type": "display_data"
    },
    {
     "name": "stdout",
     "output_type": "stream",
     "text": [
      "Matplotlib: Check complete\n"
     ]
    }
   ],
   "source": [
    "name = \"Matplotlib\"\n",
    "print(\"%s: Testing installation... \" % name)\n",
    "try:\n",
    "    import matplotlib\n",
    "    from matplotlib import pyplot as plt\n",
    "    print(\"%s: Version %s installed\" % (name, matplotlib.__version__))\n",
    "    # simple test\n",
    "    %matplotlib inline\n",
    "    x = range(1, 10)\n",
    "    y = range(1, 10)\n",
    "    plt.scatter(x, y, color=\"darkblue\", s=100)\n",
    "    plt.show()\n",
    "    print(\"%s: Check complete\" % name)\n",
    "except ImportError as e:\n",
    "    print(\"%s: Package not installed\" % name)\n",
    "    print(\"%s: Error %s\" % (name, e))\n",
    "    print(\"%s: Attempting to install package via pip ...\" % name)\n",
    "    !pip install matplotlib"
   ]
  },
  {
   "cell_type": "markdown",
   "id": "e67457f2",
   "metadata": {},
   "source": [
    "## Package - NetworkX"
   ]
  },
  {
   "cell_type": "code",
   "execution_count": 5,
   "id": "829e5e4d",
   "metadata": {},
   "outputs": [
    {
     "name": "stdout",
     "output_type": "stream",
     "text": [
      "NetworkX: Testing installation... \n",
      "NetworkX: Version 3.0 installed\n",
      "NetworkX: Check complete\n"
     ]
    }
   ],
   "source": [
    "name = \"NetworkX\"\n",
    "print(\"%s: Testing installation... \" % name)\n",
    "try:\n",
    "    import networkx as nx\n",
    "    print(\"%s: Version %s installed\" % (name, nx.__version__))\n",
    "    # simple test\n",
    "    g = nx.Graph()\n",
    "    g.add_edge(1, 2)\n",
    "    g.add_edge(1, 3)\n",
    "    g.add_edge(1, 5)\n",
    "    g.add_edge(2, 3)\n",
    "    g.degree()\n",
    "    print(\"%s: Check complete\" % name)\n",
    "except ImportError as e:\n",
    "    print(\"%s: Package not installed\" % name)\n",
    "    print(\"%s: Error %s\" % (name, e))\n",
    "    print(\"%s: Attempting to install package via pip ...\" % name)\n",
    "    !pip install networkx"
   ]
  },
  {
   "cell_type": "markdown",
   "id": "0d775501",
   "metadata": {},
   "source": [
    "## Package - PyTorch"
   ]
  },
  {
   "cell_type": "code",
   "execution_count": 6,
   "id": "90352b58",
   "metadata": {},
   "outputs": [
    {
     "name": "stdout",
     "output_type": "stream",
     "text": [
      "PyTorch: Testing installation... \n",
      "PyTorch: Package not installed\n",
      "PyTorch: Error No module named 'torch'\n",
      "PyTorch: Attempting to install package via pip ...\n",
      "Collecting torch\n",
      "  Downloading torch-2.0.0-cp310-cp310-manylinux1_x86_64.whl (619.9 MB)\n",
      "\u001b[2K     \u001b[90m━━━━━━━━━━━━━━━━━━━━━━━━━━━━━━━━━━━━━━━\u001b[0m \u001b[32m619.9/619.9 MB\u001b[0m \u001b[31m4.2 MB/s\u001b[0m eta \u001b[36m0:00:00\u001b[0m00:01\u001b[0m00:01\u001b[0m\n",
      "\u001b[?25hCollecting nvidia-cuda-cupti-cu11==11.7.101\n",
      "  Downloading nvidia_cuda_cupti_cu11-11.7.101-py3-none-manylinux1_x86_64.whl (11.8 MB)\n",
      "\u001b[2K     \u001b[90m━━━━━━━━━━━━━━━━━━━━━━━━━━━━━━━━━━━━━━━━\u001b[0m \u001b[32m11.8/11.8 MB\u001b[0m \u001b[31m17.2 MB/s\u001b[0m eta \u001b[36m0:00:00\u001b[0m00:01\u001b[0m00:01\u001b[0m\n",
      "\u001b[?25hCollecting triton==2.0.0\n",
      "  Downloading triton-2.0.0-1-cp310-cp310-manylinux2014_x86_64.manylinux_2_17_x86_64.whl (63.3 MB)\n",
      "\u001b[2K     \u001b[90m━━━━━━━━━━━━━━━━━━━━━━━━━━━━━━━━━━━━━━━━\u001b[0m \u001b[32m63.3/63.3 MB\u001b[0m \u001b[31m18.1 MB/s\u001b[0m eta \u001b[36m0:00:00\u001b[0m00:01\u001b[0m00:01\u001b[0m\n",
      "\u001b[?25hCollecting nvidia-cufft-cu11==10.9.0.58\n",
      "  Downloading nvidia_cufft_cu11-10.9.0.58-py3-none-manylinux1_x86_64.whl (168.4 MB)\n",
      "\u001b[2K     \u001b[90m━━━━━━━━━━━━━━━━━━━━━━━━━━━━━━━━━━━━━━\u001b[0m \u001b[32m168.4/168.4 MB\u001b[0m \u001b[31m11.7 MB/s\u001b[0m eta \u001b[36m0:00:00\u001b[0m00:01\u001b[0m00:01\u001b[0m\n",
      "\u001b[?25hCollecting sympy\n",
      "  Downloading sympy-1.11.1-py3-none-any.whl (6.5 MB)\n",
      "\u001b[2K     \u001b[90m━━━━━━━━━━━━━━━━━━━━━━━━━━━━━━━━━━━━━━━━\u001b[0m \u001b[32m6.5/6.5 MB\u001b[0m \u001b[31m24.3 MB/s\u001b[0m eta \u001b[36m0:00:00\u001b[0m00:01\u001b[0m00:01\u001b[0m\n",
      "\u001b[?25hRequirement already satisfied: jinja2 in /opt/mamba/lib/python3.10/site-packages (from torch) (3.1.2)\n",
      "Collecting nvidia-cusparse-cu11==11.7.4.91\n",
      "  Downloading nvidia_cusparse_cu11-11.7.4.91-py3-none-manylinux1_x86_64.whl (173.2 MB)\n",
      "\u001b[2K     \u001b[90m━━━━━━━━━━━━━━━━━━━━━━━━━━━━━━━━━━━━━━\u001b[0m \u001b[32m173.2/173.2 MB\u001b[0m \u001b[31m14.7 MB/s\u001b[0m eta \u001b[36m0:00:00\u001b[0m00:01\u001b[0m00:01\u001b[0m\n",
      "\u001b[?25hCollecting nvidia-cuda-nvrtc-cu11==11.7.99\n",
      "  Downloading nvidia_cuda_nvrtc_cu11-11.7.99-2-py3-none-manylinux1_x86_64.whl (21.0 MB)\n",
      "\u001b[2K     \u001b[90m━━━━━━━━━━━━━━━━━━━━━━━━━━━━━━━━━━━━━━━━\u001b[0m \u001b[32m21.0/21.0 MB\u001b[0m \u001b[31m20.8 MB/s\u001b[0m eta \u001b[36m0:00:00\u001b[0m00:01\u001b[0m00:01\u001b[0m\n",
      "\u001b[?25hCollecting nvidia-curand-cu11==10.2.10.91\n",
      "  Downloading nvidia_curand_cu11-10.2.10.91-py3-none-manylinux1_x86_64.whl (54.6 MB)\n",
      "\u001b[2K     \u001b[90m━━━━━━━━━━━━━━━━━━━━━━━━━━━━━━━━━━━━━━━━\u001b[0m \u001b[32m54.6/54.6 MB\u001b[0m \u001b[31m12.5 MB/s\u001b[0m eta \u001b[36m0:00:00\u001b[0m00:01\u001b[0m00:01\u001b[0m\n",
      "\u001b[?25hCollecting nvidia-nccl-cu11==2.14.3\n",
      "  Downloading nvidia_nccl_cu11-2.14.3-py3-none-manylinux1_x86_64.whl (177.1 MB)\n",
      "\u001b[2K     \u001b[90m━━━━━━━━━━━━━━━━━━━━━━━━━━━━━━━━━━━━━━\u001b[0m \u001b[32m177.1/177.1 MB\u001b[0m \u001b[31m13.0 MB/s\u001b[0m eta \u001b[36m0:00:00\u001b[0m00:01\u001b[0m00:01\u001b[0m\n",
      "\u001b[?25hRequirement already satisfied: typing-extensions in /opt/mamba/lib/python3.10/site-packages (from torch) (4.5.0)\n",
      "Collecting nvidia-nvtx-cu11==11.7.91\n",
      "  Downloading nvidia_nvtx_cu11-11.7.91-py3-none-manylinux1_x86_64.whl (98 kB)\n",
      "\u001b[2K     \u001b[90m━━━━━━━━━━━━━━━━━━━━━━━━━━━━━━━━━━━━━━━━\u001b[0m \u001b[32m98.6/98.6 kB\u001b[0m \u001b[31m38.2 MB/s\u001b[0m eta \u001b[36m0:00:00\u001b[0m\n",
      "\u001b[?25hCollecting nvidia-cublas-cu11==11.10.3.66\n",
      "  Downloading nvidia_cublas_cu11-11.10.3.66-py3-none-manylinux1_x86_64.whl (317.1 MB)\n",
      "\u001b[2K     \u001b[90m━━━━━━━━━━━━━━━━━━━━━━━━━━━━━━━━━━━━━━\u001b[0m \u001b[32m317.1/317.1 MB\u001b[0m \u001b[31m10.2 MB/s\u001b[0m eta \u001b[36m0:00:00\u001b[0m00:01\u001b[0m00:01\u001b[0m\n",
      "\u001b[?25hCollecting nvidia-cudnn-cu11==8.5.0.96\n",
      "  Downloading nvidia_cudnn_cu11-8.5.0.96-2-py3-none-manylinux1_x86_64.whl (557.1 MB)\n",
      "\u001b[2K     \u001b[90m━━━━━━━━━━━━━━━━━━━━━━━━━━━━━━━━━━━━━━━\u001b[0m \u001b[32m557.1/557.1 MB\u001b[0m \u001b[31m5.6 MB/s\u001b[0m eta \u001b[36m0:00:00\u001b[0m00:01\u001b[0m00:01\u001b[0m\n",
      "\u001b[?25hRequirement already satisfied: networkx in /opt/mamba/lib/python3.10/site-packages (from torch) (3.0)\n",
      "Collecting nvidia-cusolver-cu11==11.4.0.1\n",
      "  Downloading nvidia_cusolver_cu11-11.4.0.1-2-py3-none-manylinux1_x86_64.whl (102.6 MB)\n",
      "\u001b[2K     \u001b[90m━━━━━━━━━━━━━━━━━━━━━━━━━━━━━━━━━━━━━━━\u001b[0m \u001b[32m102.6/102.6 MB\u001b[0m \u001b[31m5.2 MB/s\u001b[0m eta \u001b[36m0:00:00\u001b[0m00:01\u001b[0m00:01\u001b[0m\n",
      "\u001b[?25hCollecting filelock\n",
      "  Downloading filelock-3.10.7-py3-none-any.whl (10 kB)\n",
      "Collecting nvidia-cuda-runtime-cu11==11.7.99\n",
      "  Downloading nvidia_cuda_runtime_cu11-11.7.99-py3-none-manylinux1_x86_64.whl (849 kB)\n",
      "\u001b[2K     \u001b[90m━━━━━━━━━━━━━━━━━━━━━━━━━━━━━━━━━━━━━━━\u001b[0m \u001b[32m849.3/849.3 kB\u001b[0m \u001b[31m9.7 MB/s\u001b[0m eta \u001b[36m0:00:00\u001b[0ma \u001b[36m0:00:01\u001b[0m\n",
      "\u001b[?25hRequirement already satisfied: wheel in /opt/mamba/lib/python3.10/site-packages (from nvidia-cublas-cu11==11.10.3.66->torch) (0.40.0)\n",
      "Requirement already satisfied: setuptools in /opt/mamba/lib/python3.10/site-packages (from nvidia-cublas-cu11==11.10.3.66->torch) (65.6.3)\n",
      "Collecting lit\n",
      "  Downloading lit-16.0.0.tar.gz (144 kB)\n",
      "\u001b[2K     \u001b[90m━━━━━━━━━━━━━━━━━━━━━━━━━━━━━━━━━━━━━━━\u001b[0m \u001b[32m145.0/145.0 kB\u001b[0m \u001b[31m7.3 MB/s\u001b[0m eta \u001b[36m0:00:00\u001b[0m\n",
      "\u001b[?25h  Preparing metadata (setup.py) ... \u001b[?25ldone\n",
      "\u001b[?25hCollecting cmake\n",
      "  Downloading cmake-3.26.1-py2.py3-none-manylinux2014_x86_64.manylinux_2_17_x86_64.whl (24.0 MB)\n",
      "\u001b[2K     \u001b[90m━━━━━━━━━━━━━━━━━━━━━━━━━━━━━━━━━━━━━━━━\u001b[0m \u001b[32m24.0/24.0 MB\u001b[0m \u001b[31m12.0 MB/s\u001b[0m eta \u001b[36m0:00:00\u001b[0m00:01\u001b[0m00:01\u001b[0m\n",
      "\u001b[?25hRequirement already satisfied: MarkupSafe>=2.0 in /opt/mamba/lib/python3.10/site-packages (from jinja2->torch) (2.1.2)\n",
      "Collecting mpmath>=0.19\n",
      "  Downloading mpmath-1.3.0-py3-none-any.whl (536 kB)\n",
      "\u001b[2K     \u001b[90m━━━━━━━━━━━━━━━━━━━━━━━━━━━━━━━━━━━━━━\u001b[0m \u001b[32m536.2/536.2 kB\u001b[0m \u001b[31m14.5 MB/s\u001b[0m eta \u001b[36m0:00:00\u001b[0m00:01\u001b[0m\n",
      "\u001b[?25hBuilding wheels for collected packages: lit\n",
      "  Building wheel for lit (setup.py) ... \u001b[?25ldone\n",
      "\u001b[?25h  Created wheel for lit: filename=lit-16.0.0-py3-none-any.whl size=93586 sha256=e791aa40d5ad9d06541e313a9247a18b2cb04654666b1b7f09a6990a74bd58f5\n",
      "  Stored in directory: /home/onyxia/.cache/pip/wheels/a3/f5/8f/b11227e816563ac08fce423c6e617f05f5fe1a18d9bcfb2375\n",
      "Successfully built lit\n",
      "Installing collected packages: mpmath, lit, cmake, sympy, nvidia-nvtx-cu11, nvidia-nccl-cu11, nvidia-cusparse-cu11, nvidia-curand-cu11, nvidia-cufft-cu11, nvidia-cuda-runtime-cu11, nvidia-cuda-nvrtc-cu11, nvidia-cuda-cupti-cu11, nvidia-cublas-cu11, filelock, nvidia-cusolver-cu11, nvidia-cudnn-cu11, triton, torch\n",
      "Successfully installed cmake-3.26.1 filelock-3.10.7 lit-16.0.0 mpmath-1.3.0 nvidia-cublas-cu11-11.10.3.66 nvidia-cuda-cupti-cu11-11.7.101 nvidia-cuda-nvrtc-cu11-11.7.99 nvidia-cuda-runtime-cu11-11.7.99 nvidia-cudnn-cu11-8.5.0.96 nvidia-cufft-cu11-10.9.0.58 nvidia-curand-cu11-10.2.10.91 nvidia-cusolver-cu11-11.4.0.1 nvidia-cusparse-cu11-11.7.4.91 nvidia-nccl-cu11-2.14.3 nvidia-nvtx-cu11-11.7.91 sympy-1.11.1 torch-2.0.0 triton-2.0.0\n"
     ]
    }
   ],
   "source": [
    "name = \"PyTorch\"\n",
    "print(\"%s: Testing installation... \" % name)\n",
    "try:\n",
    "    import torch, math\n",
    "    print(\"%s: Version %s installed\" % (name, torch.__version__))\n",
    "    # simple test\n",
    "    x = torch.linspace(-math.pi, math.pi, 2000, dtype=torch.float)\n",
    "    y = torch.sin(x)\n",
    "    a = torch.randn((), dtype=torch.float)\n",
    "    print(\"%s: Check complete\" % name)\n",
    "except ImportError as e:\n",
    "    print(\"%s: Package not installed\" % name)\n",
    "    print(\"%s: Error %s\" % (name, e))\n",
    "    print(\"%s: Attempting to install package via pip ...\" % name)\n",
    "    !pip install torch"
   ]
  },
  {
   "cell_type": "markdown",
   "id": "ce6e41ae",
   "metadata": {},
   "source": [
    "## Package - DGL"
   ]
  },
  {
   "cell_type": "code",
   "execution_count": 7,
   "id": "c9c8666d",
   "metadata": {},
   "outputs": [
    {
     "name": "stdout",
     "output_type": "stream",
     "text": [
      "DGL: Testing installation... \n",
      "DGL: Package not installed\n",
      "DGL: Error No module named 'dgl'\n",
      "DGL: Attempting to install package via pip ...\n",
      "Collecting dgl\n",
      "  Downloading dgl-1.0.1-cp310-cp310-manylinux1_x86_64.whl (5.4 MB)\n",
      "\u001b[2K     \u001b[90m━━━━━━━━━━━━━━━━━━━━━━━━━━━━━━━━━━━━━━━━\u001b[0m \u001b[32m5.4/5.4 MB\u001b[0m \u001b[31m2.9 MB/s\u001b[0m eta \u001b[36m0:00:00\u001b[0m00:01\u001b[0m00:01\u001b[0m\n",
      "\u001b[?25hRequirement already satisfied: psutil>=5.8.0 in /opt/mamba/lib/python3.10/site-packages (from dgl) (5.9.4)\n",
      "Requirement already satisfied: scipy>=1.1.0 in /opt/mamba/lib/python3.10/site-packages (from dgl) (1.10.1)\n",
      "Requirement already satisfied: numpy>=1.14.0 in /opt/mamba/lib/python3.10/site-packages (from dgl) (1.23.5)\n",
      "Requirement already satisfied: requests>=2.19.0 in /opt/mamba/lib/python3.10/site-packages (from dgl) (2.28.2)\n",
      "Requirement already satisfied: networkx>=2.1 in /opt/mamba/lib/python3.10/site-packages (from dgl) (3.0)\n",
      "Requirement already satisfied: tqdm in /opt/mamba/lib/python3.10/site-packages (from dgl) (4.64.1)\n",
      "Requirement already satisfied: idna<4,>=2.5 in /opt/mamba/lib/python3.10/site-packages (from requests>=2.19.0->dgl) (3.4)\n",
      "Requirement already satisfied: urllib3<1.27,>=1.21.1 in /opt/mamba/lib/python3.10/site-packages (from requests>=2.19.0->dgl) (1.26.14)\n",
      "Requirement already satisfied: charset-normalizer<4,>=2 in /opt/mamba/lib/python3.10/site-packages (from requests>=2.19.0->dgl) (2.1.1)\n",
      "Requirement already satisfied: certifi>=2017.4.17 in /opt/mamba/lib/python3.10/site-packages (from requests>=2.19.0->dgl) (2022.12.7)\n",
      "Installing collected packages: dgl\n",
      "Successfully installed dgl-1.0.1\n"
     ]
    }
   ],
   "source": [
    "name = \"DGL\"\n",
    "print(\"%s: Testing installation... \" % name)\n",
    "try:\n",
    "    import dgl, torch\n",
    "    print(\"%s: Version %s installed\" % (name, dgl.__version__))\n",
    "    # simple test\n",
    "    u, v = torch.tensor([0, 0, 0, 1]), torch.tensor([1, 2, 3, 3])\n",
    "    g = dgl.graph((u, v))\n",
    "    g.nodes(), g.edges()\n",
    "    print(\"%s: Check complete\" % name)\n",
    "except ImportError as e:\n",
    "    print(\"%s: Package not installed\" % name)\n",
    "    print(\"%s: Error %s\" % (name, e))\n",
    "    print(\"%s: Attempting to install package via pip ...\" % name)\n",
    "    !pip install dgl"
   ]
  }
 ],
 "metadata": {
  "kernelspec": {
   "display_name": "Python 3 (ipykernel)",
   "language": "python",
   "name": "python3"
  },
  "language_info": {
   "codemirror_mode": {
    "name": "ipython",
    "version": 3
   },
   "file_extension": ".py",
   "mimetype": "text/x-python",
   "name": "python",
   "nbconvert_exporter": "python",
   "pygments_lexer": "ipython3",
   "version": "3.10.9"
  }
 },
 "nbformat": 4,
 "nbformat_minor": 5
}
