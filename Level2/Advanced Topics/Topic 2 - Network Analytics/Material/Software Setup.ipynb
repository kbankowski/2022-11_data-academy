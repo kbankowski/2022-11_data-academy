{
 "cells": [
  {
   "cell_type": "markdown",
   "id": "52e4fd7d",
   "metadata": {},
   "source": [
    "# Software Setup - Network Analytics\n",
    "\n",
    "This notebook will check that the following Python packages are correctly installed on your system:\n",
    "\n",
    "- Pandas package\n",
    "- NumPy package\n",
    "- Matplotlib package\n",
    "- NetworkX package (https://networkx.org)\n",
    "- PyTorch package (https://pytorch.org)\n",
    "- DGL package (https://www.dgl.ai)\n",
    "\n",
    "To run the checks, from the menu *'Cell'* above, click *'Run All'*\n",
    "\n",
    "If a package is not installed, the *pip* tool will be used to install the relevant package."
   ]
  },
  {
   "cell_type": "markdown",
   "id": "b3924981",
   "metadata": {},
   "source": [
    "## Python Checks"
   ]
  },
  {
   "cell_type": "code",
   "execution_count": null,
   "id": "d38ed472",
   "metadata": {},
   "outputs": [],
   "source": [
    "try:\n",
    "    import platform\n",
    "    if platform.system().lower() == \"darwin\":\n",
    "        print(\"Operating System: Mac %s\" % platform.mac_ver()[0])\n",
    "    else:\n",
    "        print(\"Operating System: %s %s\" % (platform.system(), platform.release()))\n",
    "except e:\n",
    "    print(\"Operating System: Unable to check\")\n",
    "    print(e)\n",
    "try:\n",
    "    import platform, sys\n",
    "    print(\"Python: Version %s\" % platform.python_version())\n",
    "    print(\"Python: Executable %s\" % sys.executable)\n",
    "except e:\n",
    "    print(\"Python: Unable to check\")\n",
    "    print(e)\n",
    "print(\"JuypterLab: Checking package versions\")\n",
    "!jupyter --version\n",
    "print(\"Check complete\")"
   ]
  },
  {
   "cell_type": "markdown",
   "id": "4b7fc880",
   "metadata": {},
   "source": [
    "## Package - Pandas"
   ]
  },
  {
   "cell_type": "code",
   "execution_count": null,
   "id": "2d2ab93b",
   "metadata": {},
   "outputs": [],
   "source": [
    "name = \"Pandas\"\n",
    "print(\"%s: Testing installation... \" % name)\n",
    "try:\n",
    "    import pandas as pd\n",
    "    print(\"%s: Version %s installed\" % (name, pd.__version__))\n",
    "    # simple test\n",
    "    s = pd.Series(data={'a': 1, 'b': 2, 'c': 3}, index=['a', 'b', 'c'])\n",
    "    df = pd.DataFrame({\"v1\":s.copy(), \"v2\":s.copy()})\n",
    "    print(\"%s: Check complete\" % name)\n",
    "except ImportError as e:\n",
    "    print(\"%s: Package not installed\" % name)\n",
    "    print(\"%s: Error %s\" % (name, e))\n",
    "    print(\"%s: Attempting to install package via pip ...\" % name)\n",
    "    !pip install pandas"
   ]
  },
  {
   "cell_type": "markdown",
   "id": "3d5aceab",
   "metadata": {},
   "source": [
    "## Package - NumPy"
   ]
  },
  {
   "cell_type": "code",
   "execution_count": null,
   "id": "d74732e8",
   "metadata": {},
   "outputs": [],
   "source": [
    "name = \"NumPy\"\n",
    "print(\"%s: Testing installation... \" % name)\n",
    "try:\n",
    "    import numpy as np\n",
    "    print(\"%s: Version %s installed\" % (name, np.__version__))\n",
    "    # simple test\n",
    "    x = np.random.rand(4,2)\n",
    "    y = x.reshape(8,1)\n",
    "    z = np.power(y, 2)\n",
    "    print(\"%s: Check complete\" % name)\n",
    "except ImportError as e:\n",
    "    print(\"%s: Package not installed\" % name)\n",
    "    print(\"%s: Error %s\" % (name, e))\n",
    "    print(\"%s: Attempting to install package via pip ...\" % name)\n",
    "    !pip install numpy"
   ]
  },
  {
   "cell_type": "markdown",
   "id": "24ff8b11",
   "metadata": {},
   "source": [
    "## Package - Matplotlib"
   ]
  },
  {
   "cell_type": "code",
   "execution_count": null,
   "id": "060aebc2",
   "metadata": {},
   "outputs": [],
   "source": [
    "name = \"Matplotlib\"\n",
    "print(\"%s: Testing installation... \" % name)\n",
    "try:\n",
    "    import matplotlib\n",
    "    from matplotlib import pyplot as plt\n",
    "    print(\"%s: Version %s installed\" % (name, matplotlib.__version__))\n",
    "    # simple test\n",
    "    %matplotlib inline\n",
    "    x = range(1, 10)\n",
    "    y = range(1, 10)\n",
    "    plt.scatter(x, y, color=\"darkblue\", s=100)\n",
    "    plt.show()\n",
    "    print(\"%s: Check complete\" % name)\n",
    "except ImportError as e:\n",
    "    print(\"%s: Package not installed\" % name)\n",
    "    print(\"%s: Error %s\" % (name, e))\n",
    "    print(\"%s: Attempting to install package via pip ...\" % name)\n",
    "    !pip install matplotlib"
   ]
  },
  {
   "cell_type": "markdown",
   "id": "e67457f2",
   "metadata": {},
   "source": [
    "## Package - NetworkX"
   ]
  },
  {
   "cell_type": "code",
   "execution_count": null,
   "id": "829e5e4d",
   "metadata": {},
   "outputs": [],
   "source": [
    "name = \"NetworkX\"\n",
    "print(\"%s: Testing installation... \" % name)\n",
    "try:\n",
    "    import networkx as nx\n",
    "    print(\"%s: Version %s installed\" % (name, nx.__version__))\n",
    "    # simple test\n",
    "    g = nx.Graph()\n",
    "    g.add_edge(1, 2)\n",
    "    g.add_edge(1, 3)\n",
    "    g.add_edge(1, 5)\n",
    "    g.add_edge(2, 3)\n",
    "    g.degree()\n",
    "    print(\"%s: Check complete\" % name)\n",
    "except ImportError as e:\n",
    "    print(\"%s: Package not installed\" % name)\n",
    "    print(\"%s: Error %s\" % (name, e))\n",
    "    print(\"%s: Attempting to install package via pip ...\" % name)\n",
    "    !pip install networkx"
   ]
  },
  {
   "cell_type": "markdown",
   "id": "0d775501",
   "metadata": {},
   "source": [
    "## Package - PyTorch"
   ]
  },
  {
   "cell_type": "code",
   "execution_count": null,
   "id": "90352b58",
   "metadata": {},
   "outputs": [],
   "source": [
    "name = \"PyTorch\"\n",
    "print(\"%s: Testing installation... \" % name)\n",
    "try:\n",
    "    import torch, math\n",
    "    print(\"%s: Version %s installed\" % (name, torch.__version__))\n",
    "    # simple test\n",
    "    x = torch.linspace(-math.pi, math.pi, 2000, dtype=torch.float)\n",
    "    y = torch.sin(x)\n",
    "    a = torch.randn((), dtype=torch.float)\n",
    "    print(\"%s: Check complete\" % name)\n",
    "except ImportError as e:\n",
    "    print(\"%s: Package not installed\" % name)\n",
    "    print(\"%s: Error %s\" % (name, e))\n",
    "    print(\"%s: Attempting to install package via pip ...\" % name)\n",
    "    !pip install torch"
   ]
  },
  {
   "cell_type": "markdown",
   "id": "ce6e41ae",
   "metadata": {},
   "source": [
    "## Package - DGL"
   ]
  },
  {
   "cell_type": "code",
   "execution_count": null,
   "id": "c9c8666d",
   "metadata": {},
   "outputs": [],
   "source": [
    "name = \"DGL\"\n",
    "print(\"%s: Testing installation... \" % name)\n",
    "try:\n",
    "    import dgl, torch\n",
    "    print(\"%s: Version %s installed\" % (name, dgl.__version__))\n",
    "    # simple test\n",
    "    u, v = torch.tensor([0, 0, 0, 1]), torch.tensor([1, 2, 3, 3])\n",
    "    g = dgl.graph((u, v))\n",
    "    g.nodes(), g.edges()\n",
    "    print(\"%s: Check complete\" % name)\n",
    "except ImportError as e:\n",
    "    print(\"%s: Package not installed\" % name)\n",
    "    print(\"%s: Error %s\" % (name, e))\n",
    "    print(\"%s: Attempting to install package via pip ...\" % name)\n",
    "    !pip install dgl"
   ]
  }
 ],
 "metadata": {
  "kernelspec": {
   "display_name": "Python 3 (ipykernel)",
   "language": "python",
   "name": "python3"
  },
  "language_info": {
   "codemirror_mode": {
    "name": "ipython",
    "version": 3
   },
   "file_extension": ".py",
   "mimetype": "text/x-python",
   "name": "python",
   "nbconvert_exporter": "python",
   "pygments_lexer": "ipython3",
   "version": "3.9.7"
  }
 },
 "nbformat": 4,
 "nbformat_minor": 5
}
