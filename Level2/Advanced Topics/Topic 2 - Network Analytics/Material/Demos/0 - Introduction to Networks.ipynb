{
 "cells": [
  {
   "cell_type": "markdown",
   "metadata": {},
   "source": [
    "<div style=\"float:left;\"><img src=\"logo.png\" width=\"500\"/></div>"
   ]
  },
  {
   "cell_type": "markdown",
   "metadata": {},
   "source": [
    "# Introduction to Networks"
   ]
  },
  {
   "cell_type": "markdown",
   "metadata": {},
   "source": [
    "In this notebook we will look at the basics of using the Python [NetworkX](https://networkx.org) package for network analysis.\n",
    "\n",
    "Firstly, import the required modules, including NetworkX:"
   ]
  },
  {
   "cell_type": "code",
   "execution_count": 1,
   "metadata": {},
   "outputs": [],
   "source": [
    "import networkx as nx\n",
    "import matplotlib.pyplot as plt\n",
    "%matplotlib inline"
   ]
  },
  {
   "cell_type": "markdown",
   "metadata": {},
   "source": [
    "### Creating Undirected Networks"
   ]
  },
  {
   "cell_type": "markdown",
   "metadata": {},
   "source": [
    "The most basic NetworkX data structure is a *Graph*, which represents an undirected network. To create an empty network we use:"
   ]
  },
  {
   "cell_type": "code",
   "execution_count": 2,
   "metadata": {},
   "outputs": [],
   "source": [
    "g = nx.Graph()"
   ]
  },
  {
   "cell_type": "markdown",
   "metadata": {},
   "source": [
    "We can then start to add nodes and edges to the network. Nodes can be any hashable object, such as a text string, an integer, or a custom node object. We can add one node at a time:"
   ]
  },
  {
   "cell_type": "code",
   "execution_count": 3,
   "metadata": {},
   "outputs": [],
   "source": [
    "g.add_node(\"Sarah\")\n",
    "g.add_node(\"Mark\")\n",
    "g.add_node(\"Bob\")"
   ]
  },
  {
   "cell_type": "markdown",
   "metadata": {},
   "source": [
    "We can also add multiple nodes at the same time from a list:"
   ]
  },
  {
   "cell_type": "code",
   "execution_count": 4,
   "metadata": {},
   "outputs": [],
   "source": [
    "g.add_nodes_from([\"Lisa\", \"Mary\", \"David\"])"
   ]
  },
  {
   "cell_type": "markdown",
   "metadata": {},
   "source": [
    "To access the current nodes in the network:"
   ]
  },
  {
   "cell_type": "code",
   "execution_count": 5,
   "metadata": {},
   "outputs": [
    {
     "data": {
      "text/plain": [
       "['Sarah', 'Mark', 'Bob', 'Lisa', 'Mary', 'David']"
      ]
     },
     "execution_count": 5,
     "metadata": {},
     "output_type": "execute_result"
    }
   ],
   "source": [
    "list(g.nodes())"
   ]
  },
  {
   "cell_type": "code",
   "execution_count": 6,
   "metadata": {},
   "outputs": [
    {
     "data": {
      "text/plain": [
       "6"
      ]
     },
     "execution_count": 6,
     "metadata": {},
     "output_type": "execute_result"
    }
   ],
   "source": [
    "g.number_of_nodes()"
   ]
  },
  {
   "cell_type": "markdown",
   "metadata": {},
   "source": [
    "Currently there are no edges connecting these nodes. We can easily add undirected edges by specifiying the pair of nodes:"
   ]
  },
  {
   "cell_type": "code",
   "execution_count": 7,
   "metadata": {},
   "outputs": [],
   "source": [
    "g.add_edge( \"Mark\", \"Bob\" )\n",
    "g.add_edge( \"Lisa\", \"Sarah\" )\n",
    "g.add_edge( \"Colm\", \"Sarah\" )\n",
    "g.add_edge( \"Bob\", \"Colm\" )"
   ]
  },
  {
   "cell_type": "markdown",
   "metadata": {},
   "source": [
    "As with adding nodes, we can add multiple edges at once by specifying a list of pairs as tuples:"
   ]
  },
  {
   "cell_type": "code",
   "execution_count": 8,
   "metadata": {},
   "outputs": [],
   "source": [
    "pairs = [ (\"Mary\", \"David\"), (\"Mark\", \"Mary\"), (\"Lisa\", \"Colm\"), (\"Bob\", \"Lisa\"), (\"Colm\",\"David\") ]\n",
    "g.add_edges_from( pairs )"
   ]
  },
  {
   "cell_type": "markdown",
   "metadata": {},
   "source": [
    "To access the current edges in the network:"
   ]
  },
  {
   "cell_type": "code",
   "execution_count": 9,
   "metadata": {},
   "outputs": [
    {
     "data": {
      "text/plain": [
       "[('Sarah', 'Lisa'),\n",
       " ('Sarah', 'Colm'),\n",
       " ('Mark', 'Bob'),\n",
       " ('Mark', 'Mary'),\n",
       " ('Bob', 'Colm'),\n",
       " ('Bob', 'Lisa'),\n",
       " ('Lisa', 'Colm'),\n",
       " ('Mary', 'David'),\n",
       " ('David', 'Colm')]"
      ]
     },
     "execution_count": 9,
     "metadata": {},
     "output_type": "execute_result"
    }
   ],
   "source": [
    "list(g.edges())"
   ]
  },
  {
   "cell_type": "code",
   "execution_count": 10,
   "metadata": {},
   "outputs": [
    {
     "data": {
      "text/plain": [
       "9"
      ]
     },
     "execution_count": 10,
     "metadata": {},
     "output_type": "execute_result"
    }
   ],
   "source": [
    "g.number_of_edges()"
   ]
  },
  {
   "cell_type": "markdown",
   "metadata": {},
   "source": [
    "If we create an edge involving a node that is not already in the network, it will automatically be added to the network."
   ]
  },
  {
   "cell_type": "code",
   "execution_count": 11,
   "metadata": {},
   "outputs": [],
   "source": [
    "g.add_edge(\"Mary\", \"Robert\")"
   ]
  },
  {
   "cell_type": "markdown",
   "metadata": {},
   "source": [
    "For any node, we can find the list of other nodes connected to it via an edge using the *neighbors()* fuction."
   ]
  },
  {
   "cell_type": "code",
   "execution_count": 12,
   "metadata": {},
   "outputs": [
    {
     "data": {
      "text/plain": [
       "['David', 'Mark', 'Robert']"
      ]
     },
     "execution_count": 12,
     "metadata": {},
     "output_type": "execute_result"
    }
   ],
   "source": [
    "list(g.neighbors(\"Mary\"))"
   ]
  },
  {
   "cell_type": "markdown",
   "metadata": {},
   "source": [
    "We can check if a node or an edge exists in a network:"
   ]
  },
  {
   "cell_type": "code",
   "execution_count": 13,
   "metadata": {},
   "outputs": [
    {
     "data": {
      "text/plain": [
       "True"
      ]
     },
     "execution_count": 13,
     "metadata": {},
     "output_type": "execute_result"
    }
   ],
   "source": [
    "\"David\" in g"
   ]
  },
  {
   "cell_type": "code",
   "execution_count": 14,
   "metadata": {},
   "outputs": [
    {
     "data": {
      "text/plain": [
       "False"
      ]
     },
     "execution_count": 14,
     "metadata": {},
     "output_type": "execute_result"
    }
   ],
   "source": [
    "\"Alison\" in g"
   ]
  },
  {
   "cell_type": "code",
   "execution_count": 15,
   "metadata": {},
   "outputs": [
    {
     "data": {
      "text/plain": [
       "True"
      ]
     },
     "execution_count": 15,
     "metadata": {},
     "output_type": "execute_result"
    }
   ],
   "source": [
    "(\"Mary\", \"Robert\") in g.edges"
   ]
  },
  {
   "cell_type": "code",
   "execution_count": 16,
   "metadata": {},
   "outputs": [
    {
     "data": {
      "text/plain": [
       "False"
      ]
     },
     "execution_count": 16,
     "metadata": {},
     "output_type": "execute_result"
    }
   ],
   "source": [
    "(\"Sarah\", \"Robert\") in g.edges"
   ]
  },
  {
   "cell_type": "markdown",
   "metadata": {},
   "source": [
    "We can draw a simple diagram of the network to inspect it. We will focus on network visualisation in more detail later in the module."
   ]
  },
  {
   "cell_type": "code",
   "execution_count": 17,
   "metadata": {},
   "outputs": [
    {
     "data": {
      "image/png": "[encoded data removed]",
      "text/plain": [
       "<Figure size 800x600 with 1 Axes>"
      ]
     },
     "metadata": {},
     "output_type": "display_data"
    }
   ],
   "source": [
    "plt.figure(figsize=(8,6))\n",
    "plt.margins(0.1, 0.1)\n",
    "nx.draw(g, with_labels=True, node_color='darkblue', node_size=2100, font_color='white', font_size=13)"
   ]
  },
  {
   "cell_type": "markdown",
   "metadata": {},
   "source": [
    "In certain types of networks we might have **self-loops** - cases where an edge exists between a node and itself."
   ]
  },
  {
   "cell_type": "code",
   "execution_count": 18,
   "metadata": {},
   "outputs": [
    {
     "data": {
      "text/plain": [
       "['Mary', 'Robert']"
      ]
     },
     "execution_count": 18,
     "metadata": {},
     "output_type": "execute_result"
    }
   ],
   "source": [
    "g.add_edge(\"Robert\", \"Robert\")\n",
    "list( g.neighbors(\"Robert\") )"
   ]
  },
  {
   "cell_type": "markdown",
   "metadata": {},
   "source": [
    "Removing nodes or edges has similar syntax to adding them. They can be removed individually or in batch. Note that attempting to remove a node or edge that does not exist will raise an exception."
   ]
  },
  {
   "cell_type": "code",
   "execution_count": 19,
   "metadata": {},
   "outputs": [
    {
     "data": {
      "text/plain": [
       "NodeView(('Sarah', 'Mark', 'Bob', 'Lisa', 'Mary', 'David', 'Colm'))"
      ]
     },
     "execution_count": 19,
     "metadata": {},
     "output_type": "execute_result"
    }
   ],
   "source": [
    "g.remove_node(\"Robert\")\n",
    "g.nodes()"
   ]
  },
  {
   "cell_type": "code",
   "execution_count": 20,
   "metadata": {},
   "outputs": [
    {
     "data": {
      "text/plain": [
       "NodeView(('Sarah', 'Mark', 'Mary', 'David', 'Colm'))"
      ]
     },
     "execution_count": 20,
     "metadata": {},
     "output_type": "execute_result"
    }
   ],
   "source": [
    "g.remove_nodes_from([\"Bob\",\"Lisa\"])\n",
    "g.nodes()"
   ]
  },
  {
   "cell_type": "code",
   "execution_count": 21,
   "metadata": {},
   "outputs": [
    {
     "data": {
      "text/plain": [
       "EdgeView([('Sarah', 'Colm'), ('Mary', 'David'), ('David', 'Colm')])"
      ]
     },
     "execution_count": 21,
     "metadata": {},
     "output_type": "execute_result"
    }
   ],
   "source": [
    "g.remove_edge(\"Mark\", \"Mary\")\n",
    "g.edges()"
   ]
  },
  {
   "cell_type": "markdown",
   "metadata": {},
   "source": [
    "Draw the final network:"
   ]
  },
  {
   "cell_type": "code",
   "execution_count": 22,
   "metadata": {},
   "outputs": [
    {
     "data": {
      "image/png": "[encoded data removed]",
      "text/plain": [
       "<Figure size 800x600 with 1 Axes>"
      ]
     },
     "metadata": {},
     "output_type": "display_data"
    }
   ],
   "source": [
    "plt.figure(figsize=(8,6))\n",
    "plt.margins(0.1, 0.1)\n",
    "nx.draw(g, with_labels=True, node_color='darkblue', node_size=2100, font_color='white', font_size=13)"
   ]
  },
  {
   "cell_type": "markdown",
   "metadata": {},
   "source": [
    "### Directed Networks"
   ]
  },
  {
   "cell_type": "markdown",
   "metadata": {},
   "source": [
    "A **directed network** is a set of nodes connected by edges, where the edges have a direction associated with them. In NetworkX, this type of network is implemented as a *DiGraph* object. As with undirected networks, we call the *add_edge()* function. But now the order of the nodes matters."
   ]
  },
  {
   "cell_type": "code",
   "execution_count": 23,
   "metadata": {},
   "outputs": [],
   "source": [
    "g = nx.DiGraph()\n",
    "g.add_edge(\"Dublin\", \"Madrid\")\n",
    "g.add_edge(\"Dublin\", \"Rome\")\n",
    "g.add_edge(\"Madrid\", \"Dublin\")\n",
    "g.add_edge(\"London\", \"Dublin\")\n",
    "g.add_edge(\"Rome\", \"Dublin\")\n",
    "g.add_edge(\"Rome\", \"London\")"
   ]
  },
  {
   "cell_type": "code",
   "execution_count": 24,
   "metadata": {},
   "outputs": [
    {
     "data": {
      "text/plain": [
       "4"
      ]
     },
     "execution_count": 24,
     "metadata": {},
     "output_type": "execute_result"
    }
   ],
   "source": [
    "g.number_of_nodes()"
   ]
  },
  {
   "cell_type": "code",
   "execution_count": 25,
   "metadata": {},
   "outputs": [
    {
     "data": {
      "text/plain": [
       "['Dublin', 'Madrid', 'Rome', 'London']"
      ]
     },
     "execution_count": 25,
     "metadata": {},
     "output_type": "execute_result"
    }
   ],
   "source": [
    "list(g.nodes())"
   ]
  },
  {
   "cell_type": "code",
   "execution_count": 26,
   "metadata": {},
   "outputs": [
    {
     "data": {
      "text/plain": [
       "6"
      ]
     },
     "execution_count": 26,
     "metadata": {},
     "output_type": "execute_result"
    }
   ],
   "source": [
    "g.number_of_edges()"
   ]
  },
  {
   "cell_type": "code",
   "execution_count": 27,
   "metadata": {},
   "outputs": [
    {
     "data": {
      "text/plain": [
       "[('Dublin', 'Madrid'),\n",
       " ('Dublin', 'Rome'),\n",
       " ('Madrid', 'Dublin'),\n",
       " ('Rome', 'Dublin'),\n",
       " ('Rome', 'London'),\n",
       " ('London', 'Dublin')]"
      ]
     },
     "execution_count": 27,
     "metadata": {},
     "output_type": "execute_result"
    }
   ],
   "source": [
    "list(g.edges())"
   ]
  },
  {
   "cell_type": "markdown",
   "metadata": {},
   "source": [
    "Again, we can produce a quick diagram displaying the network:"
   ]
  },
  {
   "cell_type": "code",
   "execution_count": 28,
   "metadata": {},
   "outputs": [
    {
     "data": {
      "image/png": "[encoded data removed]",
      "text/plain": [
       "<Figure size 800x600 with 1 Axes>"
      ]
     },
     "metadata": {},
     "output_type": "display_data"
    }
   ],
   "source": [
    "plt.figure(figsize=(8,6))\n",
    "plt.margins(0.1, 0.1)\n",
    "nx.draw(g, with_labels=True, node_color='darkblue', node_size=2300, arrowsize=30,\n",
    "        font_color='white', font_size=13)"
   ]
  },
  {
   "cell_type": "markdown",
   "metadata": {},
   "source": [
    "We can measure the **reciprocity** of this network - i.e. the fraction of reciprocated edges (edges pointing in both directions ):"
   ]
  },
  {
   "cell_type": "code",
   "execution_count": 29,
   "metadata": {},
   "outputs": [
    {
     "data": {
      "text/plain": [
       "0.6666666666666666"
      ]
     },
     "execution_count": 29,
     "metadata": {},
     "output_type": "execute_result"
    }
   ],
   "source": [
    "nx.reciprocity(g)"
   ]
  },
  {
   "cell_type": "markdown",
   "metadata": {},
   "source": [
    "In a directed network, we can access the **predecessors** of each node *x* -- the set of nodes which have an edge that ends at *x*. Again this function returns an iterator:"
   ]
  },
  {
   "cell_type": "code",
   "execution_count": 30,
   "metadata": {},
   "outputs": [
    {
     "name": "stdout",
     "output_type": "stream",
     "text": [
      "Madrid\n",
      "London\n",
      "Rome\n"
     ]
    }
   ],
   "source": [
    "for node in g.predecessors(\"Dublin\"):\n",
    "    print(node)"
   ]
  },
  {
   "cell_type": "markdown",
   "metadata": {},
   "source": [
    "We can also access the **successors** of each node *x* -- the set of nodes which have an edge that starts at *x*. This gives the same output as *neighbors()* for a directed network."
   ]
  },
  {
   "cell_type": "code",
   "execution_count": 31,
   "metadata": {},
   "outputs": [
    {
     "name": "stdout",
     "output_type": "stream",
     "text": [
      "Madrid\n",
      "Rome\n"
     ]
    }
   ],
   "source": [
    "for node in g.successors(\"Dublin\"):\n",
    "    print(node)"
   ]
  },
  {
   "cell_type": "code",
   "execution_count": 32,
   "metadata": {},
   "outputs": [
    {
     "name": "stdout",
     "output_type": "stream",
     "text": [
      "Madrid\n",
      "Rome\n"
     ]
    }
   ],
   "source": [
    "for node in g.neighbors(\"Dublin\"):\n",
    "    print(node)"
   ]
  },
  {
   "cell_type": "markdown",
   "metadata": {},
   "source": [
    "Some network analysis algorithms only work with undirected networks. To convert a directed network to an undirected network, use *to_undirected()*. This creates a copy of the original network, where the edges no longer have direction. Note that the new network does not have duplicate edges."
   ]
  },
  {
   "cell_type": "code",
   "execution_count": 33,
   "metadata": {},
   "outputs": [
    {
     "data": {
      "text/plain": [
       "EdgeView([('Dublin', 'Madrid'), ('Dublin', 'Rome'), ('Dublin', 'London'), ('Rome', 'London')])"
      ]
     },
     "execution_count": 33,
     "metadata": {},
     "output_type": "execute_result"
    }
   ],
   "source": [
    "g2 = g.to_undirected()\n",
    "g2.edges()"
   ]
  },
  {
   "cell_type": "code",
   "execution_count": 34,
   "metadata": {},
   "outputs": [
    {
     "data": {
      "text/plain": [
       "4"
      ]
     },
     "execution_count": 34,
     "metadata": {},
     "output_type": "execute_result"
    }
   ],
   "source": [
    "g2.number_of_edges()"
   ]
  },
  {
   "cell_type": "markdown",
   "metadata": {},
   "source": [
    "Get a Python list containing the edge pairs:"
   ]
  },
  {
   "cell_type": "code",
   "execution_count": 35,
   "metadata": {},
   "outputs": [
    {
     "data": {
      "text/plain": [
       "[('Dublin', 'Madrid'),\n",
       " ('Dublin', 'Rome'),\n",
       " ('Dublin', 'London'),\n",
       " ('Rome', 'London')]"
      ]
     },
     "execution_count": 35,
     "metadata": {},
     "output_type": "execute_result"
    }
   ],
   "source": [
    "list(g2.edges())"
   ]
  },
  {
   "cell_type": "markdown",
   "metadata": {},
   "source": [
    "Let's draw the undirected network. Notice there are no longer any arrows on the edges (i.e. they have no direction)."
   ]
  },
  {
   "cell_type": "code",
   "execution_count": 36,
   "metadata": {},
   "outputs": [
    {
     "data": {
      "image/png": "[encoded data removed]",
      "text/plain": [
       "<Figure size 800x600 with 1 Axes>"
      ]
     },
     "metadata": {},
     "output_type": "display_data"
    }
   ],
   "source": [
    "plt.figure(figsize=(8,6))\n",
    "plt.margins(0.1, 0.1)\n",
    "nx.draw(g2, with_labels=True, node_color='darkblue', node_size=2300, font_color='white', font_size=13)"
   ]
  },
  {
   "cell_type": "markdown",
   "metadata": {},
   "source": [
    "### Node & Edge Attributes"
   ]
  },
  {
   "cell_type": "markdown",
   "metadata": {},
   "source": [
    "Attributes are values associated with the nodes or edges of a network - e.g. a descriptive label or piece of metadata describing a particular node or edge."
   ]
  },
  {
   "cell_type": "markdown",
   "metadata": {},
   "source": [
    "We can add one or more **node attributes** when we add a node to a network with *add_node()*. We do not need to pre-specify all possible node attributes when creating a network. Both syntaxes below have the same effect:"
   ]
  },
  {
   "cell_type": "code",
   "execution_count": 37,
   "metadata": {},
   "outputs": [],
   "source": [
    "g = nx.Graph()\n",
    "g.add_node(1, label=\"Ireland\", population=4.77)\n",
    "g.add_node(2, label=\"Spain\", population=46.56)\n",
    "g.add_node(3, label=\"Italy\", capital=\"Rome\")"
   ]
  },
  {
   "cell_type": "markdown",
   "metadata": {},
   "source": [
    "Alternatively, we can use *g.node* like a dictionary to set attribute values for an existing node:"
   ]
  },
  {
   "cell_type": "code",
   "execution_count": 38,
   "metadata": {},
   "outputs": [],
   "source": [
    "g.nodes[1][\"capital\"] = \"Dublin\"\n",
    "g.nodes[2][\"capital\"] = \"Madrid\""
   ]
  },
  {
   "cell_type": "markdown",
   "metadata": {},
   "source": [
    "This approach can also be used to modify node attributes:"
   ]
  },
  {
   "cell_type": "code",
   "execution_count": 39,
   "metadata": {},
   "outputs": [],
   "source": [
    "g.nodes[1][\"population\"] = 4.8"
   ]
  },
  {
   "cell_type": "markdown",
   "metadata": {},
   "source": [
    "We can also view the attributes associated with each node using *g.node*:"
   ]
  },
  {
   "cell_type": "code",
   "execution_count": 40,
   "metadata": {},
   "outputs": [
    {
     "data": {
      "text/plain": [
       "{'label': 'Ireland', 'population': 4.8, 'capital': 'Dublin'}"
      ]
     },
     "execution_count": 40,
     "metadata": {},
     "output_type": "execute_result"
    }
   ],
   "source": [
    "g.nodes[1]"
   ]
  },
  {
   "cell_type": "markdown",
   "metadata": {},
   "source": [
    "To iterate over all of the nodes in a network, with access to attributes:"
   ]
  },
  {
   "cell_type": "code",
   "execution_count": 41,
   "metadata": {},
   "outputs": [
    {
     "name": "stdout",
     "output_type": "stream",
     "text": [
      "(1, {'label': 'Ireland', 'population': 4.8, 'capital': 'Dublin'})\n",
      "(2, {'label': 'Spain', 'population': 46.56, 'capital': 'Madrid'})\n",
      "(3, {'label': 'Italy', 'capital': 'Rome'})\n"
     ]
    }
   ],
   "source": [
    "for x in g.nodes(data=True):\n",
    "    print( x )"
   ]
  },
  {
   "cell_type": "code",
   "execution_count": 42,
   "metadata": {},
   "outputs": [
    {
     "name": "stdout",
     "output_type": "stream",
     "text": [
      "Capital of Ireland is Dublin\n",
      "Capital of Spain is Madrid\n",
      "Capital of Italy is Rome\n"
     ]
    }
   ],
   "source": [
    "for x in g.nodes(data=True):\n",
    "    print(\"Capital of %s is %s\" % ( x[1][\"label\"], x[1][\"capital\"]))"
   ]
  },
  {
   "cell_type": "markdown",
   "metadata": {},
   "source": [
    "We can also get a dictionary which maps each node ID to values for a specific attributed:"
   ]
  },
  {
   "cell_type": "code",
   "execution_count": 43,
   "metadata": {},
   "outputs": [
    {
     "data": {
      "text/plain": [
       "{1: 4.8, 2: 46.56}"
      ]
     },
     "execution_count": 43,
     "metadata": {},
     "output_type": "execute_result"
    }
   ],
   "source": [
    "# get every value for the attribute 'population'\n",
    "nx.get_node_attributes(g, \"population\")"
   ]
  },
  {
   "cell_type": "markdown",
   "metadata": {},
   "source": [
    "Similarly to node attributes, we can assign **edge attributes** either when creating an edge or after the edge has been created. Both syntaxes below have the same effect:"
   ]
  },
  {
   "cell_type": "code",
   "execution_count": 44,
   "metadata": {},
   "outputs": [],
   "source": [
    "g.add_edge(1, 2, created_at=\"15/03/2017\")\n",
    "g.add_edge(1, 3, created_at=\"22/01/2017\")"
   ]
  },
  {
   "cell_type": "markdown",
   "metadata": {},
   "source": [
    "To iterate over all edges and edge attributes, we call *g.edges()* and specify *data=True*:"
   ]
  },
  {
   "cell_type": "code",
   "execution_count": 45,
   "metadata": {},
   "outputs": [
    {
     "name": "stdout",
     "output_type": "stream",
     "text": [
      "(1, 2, {'created_at': '15/03/2017'})\n",
      "(1, 3, {'created_at': '22/01/2017'})\n"
     ]
    }
   ],
   "source": [
    "for x in g.edges(data=True):\n",
    "    print(x)"
   ]
  },
  {
   "cell_type": "markdown",
   "metadata": {},
   "source": [
    "We can directly access the edges in a network data structure using subscript notation."
   ]
  },
  {
   "cell_type": "code",
   "execution_count": 46,
   "metadata": {},
   "outputs": [
    {
     "data": {
      "text/plain": [
       "AtlasView({2: {'created_at': '15/03/2017'}, 3: {'created_at': '22/01/2017'}})"
      ]
     },
     "execution_count": 46,
     "metadata": {},
     "output_type": "execute_result"
    }
   ],
   "source": [
    "# access all edges associated with node 1\n",
    "g[1]"
   ]
  },
  {
   "cell_type": "markdown",
   "metadata": {},
   "source": [
    "### Weighted Networks"
   ]
  },
  {
   "cell_type": "markdown",
   "metadata": {},
   "source": [
    "In a weighted network, the ties or edges between nodes have weights assigned to them indicating the strength of the connection."
   ]
  },
  {
   "cell_type": "markdown",
   "metadata": {},
   "source": [
    "In NetworkX, we typically assign edge weights by setting an attribute named *weight* for each edge to an integer or float value. "
   ]
  },
  {
   "cell_type": "code",
   "execution_count": 47,
   "metadata": {},
   "outputs": [],
   "source": [
    "g = nx.Graph()\n",
    "g.add_nodes_from([\"A\", \"B\", \"C\", \"D\", \"E\"])"
   ]
  },
  {
   "cell_type": "code",
   "execution_count": 48,
   "metadata": {},
   "outputs": [],
   "source": [
    "g.add_edge(\"A\", \"B\", weight=3)\n",
    "g.add_edge(\"A\", \"C\", weight=8)\n",
    "g.add_edge(\"B\", \"C\", weight=1)\n",
    "g.add_edge(\"C\", \"D\", weight=6)\n",
    "g.add_edge(\"D\", \"A\", weight=7)\n",
    "g.add_edge(\"D\", \"E\", weight=10)\n",
    "g.add_edge(\"E\", \"A\", weight=1)"
   ]
  },
  {
   "cell_type": "markdown",
   "metadata": {},
   "source": [
    "Once created, these appear like any other edge attribute:"
   ]
  },
  {
   "cell_type": "code",
   "execution_count": 49,
   "metadata": {},
   "outputs": [
    {
     "data": {
      "text/plain": [
       "[('A', 'B', {'weight': 3}),\n",
       " ('A', 'C', {'weight': 8}),\n",
       " ('A', 'D', {'weight': 7}),\n",
       " ('A', 'E', {'weight': 1}),\n",
       " ('B', 'C', {'weight': 1}),\n",
       " ('C', 'D', {'weight': 6}),\n",
       " ('D', 'E', {'weight': 10})]"
      ]
     },
     "execution_count": 49,
     "metadata": {},
     "output_type": "execute_result"
    }
   ],
   "source": [
    "list(g.edges(data=True))"
   ]
  },
  {
   "cell_type": "markdown",
   "metadata": {},
   "source": [
    "We could filter the edges to only look at those above a specified weight threshold:"
   ]
  },
  {
   "cell_type": "code",
   "execution_count": 50,
   "metadata": {},
   "outputs": [
    {
     "data": {
      "text/plain": [
       "[('A', 'C'), ('A', 'D'), ('C', 'D'), ('D', 'E')]"
      ]
     },
     "execution_count": 50,
     "metadata": {},
     "output_type": "execute_result"
    }
   ],
   "source": [
    "[(u,v) for (u,v,d) in g.edges(data=True) if d['weight'] > 5 ]"
   ]
  },
  {
   "cell_type": "markdown",
   "metadata": {},
   "source": [
    "Now we will draw the weighted network with NetworkX, displaying both the node labels and edge labels (i.e. the values of the weights on the edges)"
   ]
  },
  {
   "cell_type": "code",
   "execution_count": 51,
   "metadata": {},
   "outputs": [
    {
     "data": {
      "image/png": "[encoded data removed]",
      "text/plain": [
       "<Figure size 800x600 with 1 Axes>"
      ]
     },
     "metadata": {},
     "output_type": "display_data"
    }
   ],
   "source": [
    "plt.figure(figsize=(8,6))\n",
    "plt.margins(0.1, 0.1)\n",
    "# calculate the node positions in advance\n",
    "pos = nx.spring_layout(g)\n",
    "# draw the nodes and edges\n",
    "nx.draw(g, pos=pos, with_labels=True, node_color='darkblue', node_size=2300, font_color='white', font_size=13)\n",
    "# now draw the edge labels\n",
    "labels = nx.get_edge_attributes(g, 'weight')\n",
    "nx.draw_networkx_edge_labels(g, pos, edge_labels=labels, font_size=13);"
   ]
  },
  {
   "cell_type": "markdown",
   "metadata": {},
   "source": [
    "We can use the same approach to create **weighted directed networks**:"
   ]
  },
  {
   "cell_type": "code",
   "execution_count": 52,
   "metadata": {},
   "outputs": [],
   "source": [
    "g = nx.DiGraph()\n",
    "g.add_nodes_from([\"A\", \"B\", \"C\", \"D\"])"
   ]
  },
  {
   "cell_type": "code",
   "execution_count": 53,
   "metadata": {},
   "outputs": [],
   "source": [
    "g.add_edge(\"A\", \"B\", weight=10)\n",
    "g.add_edge(\"B\", \"A\", weight=40)\n",
    "g.add_edge(\"B\", \"C\", weight=10)\n",
    "g.add_edge(\"C\", \"D\", weight=30)\n",
    "g.add_edge(\"D\", \"C\", weight=5)\n",
    "g.add_edge(\"D\", \"B\", weight=50)"
   ]
  },
  {
   "cell_type": "markdown",
   "metadata": {},
   "source": [
    "Note in a directed network that edges between the same nodes going in different directions can have different edge weights:"
   ]
  },
  {
   "cell_type": "code",
   "execution_count": 54,
   "metadata": {},
   "outputs": [
    {
     "name": "stdout",
     "output_type": "stream",
     "text": [
      "('A', 'B', {'weight': 10})\n",
      "('B', 'A', {'weight': 40})\n",
      "('B', 'C', {'weight': 10})\n",
      "('C', 'D', {'weight': 30})\n",
      "('D', 'C', {'weight': 5})\n",
      "('D', 'B', {'weight': 50})\n"
     ]
    }
   ],
   "source": [
    "for e in g.edges(data=True):\n",
    "    print(e)"
   ]
  }
 ],
 "metadata": {
  "kernelspec": {
   "display_name": "Python 3 (ipykernel)",
   "language": "python",
   "name": "python3"
  },
  "language_info": {
   "codemirror_mode": {
    "name": "ipython",
    "version": 3
   },
   "file_extension": ".py",
   "mimetype": "text/x-python",
   "name": "python",
   "nbconvert_exporter": "python",
   "pygments_lexer": "ipython3",
   "version": "3.10.9"
  }
 },
 "nbformat": 4,
 "nbformat_minor": 2
}
