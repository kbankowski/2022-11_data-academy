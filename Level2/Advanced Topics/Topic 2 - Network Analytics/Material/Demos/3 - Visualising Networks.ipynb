{
 "cells": [
  {
   "cell_type": "markdown",
   "metadata": {},
   "source": [
    "<div style=\"float:left;\"><img src=\"logo.png\" width=\"500\"/></div>"
   ]
  },
  {
   "cell_type": "markdown",
   "metadata": {},
   "source": [
    "# Visualising Networks\n",
    "\n",
    "In this demo, we will work with both visual and non-visual representations of networks, in the context of public healthcare data and contact tracing. This will include working with the [Gephi](https://gephi.org/) network visualisation tool.\n",
    "\n",
    "We will use a modified version of a dataset which was collected in a hospital ward in France in 2010. The data records contacts between patients and health-care workers in the ward over several days, where wearable sensors were used to detect close-range interactions."
   ]
  },
  {
   "cell_type": "code",
   "execution_count": null,
   "metadata": {},
   "outputs": [],
   "source": [
    "from pathlib import Path\n",
    "import pandas as pd\n",
    "import networkx as nx\n",
    "import matplotlib\n",
    "import matplotlib.pyplot as plt\n",
    "import matplotlib.ticker as ticker\n",
    "import matplotlib.dates as mdates\n",
    "%matplotlib inline\n",
    "# display settings\n",
    "plt.rcParams.update({'font.size': 14})\n",
    "plt.rcParams['font.family'] = 'sans-serif'\n",
    "role_colors = {\"patient\":\"#d982d0\", \"doctor\":\"#52c852\", \"nurse\":\"#7cd1f5\", \"student\":\"#f77860\", \"admin\":\"#359371\"}"
   ]
  },
  {
   "cell_type": "markdown",
   "metadata": {},
   "source": [
    "## Data Loading"
   ]
  },
  {
   "cell_type": "markdown",
   "metadata": {},
   "source": [
    "We will primarily focus on the first day of the monitoring period. First we will load the metadata, describing the paricipants in the hospital at this time."
   ]
  },
  {
   "cell_type": "code",
   "execution_count": null,
   "metadata": {},
   "outputs": [],
   "source": [
    "meta_path = Path(\"../Data\") / \"tracing-metadata-day1.csv\"\n",
    "df_metadata = pd.read_csv(meta_path, index_col=0)\n",
    "df_metadata.head(10)"
   ]
  },
  {
   "cell_type": "markdown",
   "metadata": {},
   "source": [
    "Every participant has some metadata associated with them, most interestingly their \"role\" (e.g. doctor, patient etc)."
   ]
  },
  {
   "cell_type": "code",
   "execution_count": null,
   "metadata": {},
   "outputs": [],
   "source": [
    "counts = df_metadata[\"role\"].value_counts()\n",
    "colors = [ role_colors[role] for role in counts.index ]\n",
    "ax = counts.plot( kind=\"bar\", fontsize=14, figsize=(14,6.5), color=colors, alpha=0.8, zorder=3)\n",
    "ax.set_title(\"Breakdown of Participant Roles\", fontsize=16)\n",
    "ax.set_ylabel(\"Number of Participants\", fontsize=16)\n",
    "ax.set_ylim(0,20)\n",
    "ax.yaxis.set_major_formatter(ticker.FormatStrFormatter(\"%d\"))\n",
    "ax.yaxis.grid();"
   ]
  },
  {
   "cell_type": "markdown",
   "metadata": {},
   "source": [
    "Next, we will load the contact data for this time period. This describes all instances where two participants were in close proximity (i.e. had contact)."
   ]
  },
  {
   "cell_type": "code",
   "execution_count": null,
   "metadata": {},
   "outputs": [],
   "source": [
    "in_path = Path(\"../Data\") / \"tracing-contacts-day1.csv\"\n",
    "df_contacts = pd.read_csv(in_path)\n",
    "df_contacts[\"date\"] = pd.to_datetime(df_contacts[\"date\"])\n",
    "df_contacts.head( 5 )"
   ]
  },
  {
   "cell_type": "code",
   "execution_count": null,
   "metadata": {},
   "outputs": [],
   "source": [
    "print(\"%d total contacts between %d participants\" % ( len(df_contacts), len(df_metadata) ) )"
   ]
  },
  {
   "cell_type": "code",
   "execution_count": null,
   "metadata": {},
   "outputs": [],
   "source": [
    "df_hours = df_contacts[\"date\"].dt.floor('h')\n",
    "df_hour_counts = df_hours.value_counts()\n",
    "ax = df_hour_counts.plot(figsize=(14,7), fontsize=14, color=\"#5e80b7\", linewidth=3, zorder=3)\n",
    "ax.set_title(\"Number of Contacts over Time\", fontsize=16);\n",
    "ax.xaxis.set_major_formatter(mdates.DateFormatter('%m-%d %H:%M'))\n",
    "ax.set_ylim(0)\n",
    "ax.set_ylabel(\"Number of Contacts\", fontsize=16)\n",
    "ax.xaxis.grid();"
   ]
  },
  {
   "cell_type": "markdown",
   "metadata": {},
   "source": [
    "## Network Creation\n",
    "\n",
    "Now we will create a **contact network** between all of the participants for this day. \n",
    "\n",
    "In this type of network, each **node** will represent a participant who was involved in a contact (either a partient or health-care worker). We will create an **edge** between two nodes (i.e. participants) if they were in contact at least once.\n",
    "\n",
    "Each edge will have a **weight**, indicating the frequency of contact between two participants. A higher weight means that two participants were more frequently in contact with one another over the day."
   ]
  },
  {
   "cell_type": "markdown",
   "metadata": {},
   "source": [
    "<div style=\"float:left; margin-left: 3em; margin-top: 0;\">\n",
    "<img src=\"example_contacts.png\" width=\"800\"/>\n",
    "</div>"
   ]
  },
  {
   "cell_type": "markdown",
   "metadata": {},
   "source": [
    "First, create a new network and add the nodes. Each node can have **attributes** associated with it (e.g. role and name)."
   ]
  },
  {
   "cell_type": "code",
   "execution_count": null,
   "metadata": {},
   "outputs": [],
   "source": [
    "g = nx.Graph()"
   ]
  },
  {
   "cell_type": "code",
   "execution_count": null,
   "metadata": {},
   "outputs": [],
   "source": [
    "for node_id, row in df_metadata.iterrows():\n",
    "    g.add_node(node_id, name=row[\"name\"], role=row[\"role\"])\n",
    "print(\"Network has %d nodes\" % g.number_of_nodes())"
   ]
  },
  {
   "cell_type": "markdown",
   "metadata": {},
   "source": [
    "Next, we add the edges. To get the frequencies, we need to add up the counts for all pairs of participants who had contact with each other."
   ]
  },
  {
   "cell_type": "code",
   "execution_count": null,
   "metadata": {},
   "outputs": [],
   "source": [
    "from collections import Counter\n",
    "frequencies = Counter()\n",
    "for i, row in df_contacts.iterrows():\n",
    "    pair = frozenset([row[\"participant1\"], row[\"participant2\"]])\n",
    "    frequencies[pair] += 1"
   ]
  },
  {
   "cell_type": "code",
   "execution_count": null,
   "metadata": {},
   "outputs": [],
   "source": [
    "for pair in frequencies:\n",
    "    nodes = list(pair)\n",
    "    g.add_edge(nodes[0], nodes[1], weight=frequencies[pair])\n",
    "print(\"Network has %d edges\" % g.number_of_edges())"
   ]
  },
  {
   "cell_type": "markdown",
   "metadata": {},
   "source": [
    "## Network Analysis\n",
    "\n",
    "Next we will look at characterising various aspects of the network, to get a better insight into how contacts are occurring within the hospital ward."
   ]
  },
  {
   "cell_type": "markdown",
   "metadata": {},
   "source": [
    "First, we can confirm that the network is a single **component** - i.e. everyone is connected directly or indirectly:"
   ]
  },
  {
   "cell_type": "code",
   "execution_count": null,
   "metadata": {},
   "outputs": [],
   "source": [
    "nx.number_connected_components(g)"
   ]
  },
  {
   "cell_type": "markdown",
   "metadata": {},
   "source": [
    "In network analysis, we often talk about \"six degrees of separation\". \n",
    "\n",
    "For the contact network, we can check its **diameter** - what is the maximum number of \"hops\" from one person to another."
   ]
  },
  {
   "cell_type": "code",
   "execution_count": null,
   "metadata": {},
   "outputs": [],
   "source": [
    "print(\"Diameter = %d\" % nx.diameter(g))"
   ]
  },
  {
   "cell_type": "markdown",
   "metadata": {},
   "source": [
    "The diameter represents the furthest case. What is the average number of hops between two people in the ward?"
   ]
  },
  {
   "cell_type": "code",
   "execution_count": null,
   "metadata": {},
   "outputs": [],
   "source": [
    "print(\"Average path length between 2 nodes = %.1f\" % nx.average_shortest_path_length(g))"
   ]
  },
  {
   "cell_type": "markdown",
   "metadata": {},
   "source": [
    "Next, we will look a centrality. For a contact network, the most popular measure, **degree centrality**, indicates the number of **unique contacts** each "
   ]
  },
  {
   "cell_type": "code",
   "execution_count": null,
   "metadata": {},
   "outputs": [],
   "source": [
    "degrees = pd.Series(dict(g.degree()))"
   ]
  },
  {
   "cell_type": "markdown",
   "metadata": {},
   "source": [
    "We could plot a histogram to give us an overall picture of the contact network:"
   ]
  },
  {
   "cell_type": "code",
   "execution_count": null,
   "metadata": {},
   "outputs": [],
   "source": [
    "ax = degrees.hist(figsize=(12.5,6.5), color=\"#5e80b7\", alpha=0.7, zorder=3)\n",
    "ax.set_ylim(0)\n",
    "ax.set_xlim(1, 35)\n",
    "ax.set_title(\"Histogram of Number of Contacts per Individual\", fontsize=16);\n",
    "ax.set_ylabel(\"Number of Participants\", fontsize=16)\n",
    "ax.set_xlabel(\"Number of Contacts\", fontsize=16);\n",
    "ax.tick_params(axis='both', which='major', labelsize=14);\n",
    "ax.xaxis.grid(False)\n",
    "ax.yaxis.grid(True)"
   ]
  },
  {
   "cell_type": "markdown",
   "metadata": {},
   "source": [
    "We could also look at which individuals have the highest number of **unique** contacts:"
   ]
  },
  {
   "cell_type": "code",
   "execution_count": null,
   "metadata": {},
   "outputs": [],
   "source": [
    "top = 15\n",
    "top_degrees = degrees.sort_values(ascending=False).head(top)\n",
    "rows = {}\n",
    "colors = []\n",
    "for i, degree in top_degrees.iteritems():\n",
    "    participant_meta = df_metadata.loc[i]\n",
    "    label = \"%s (%s)\" % ( participant_meta[\"name\"], participant_meta[\"role\"] )\n",
    "    rows[label] = degree\n",
    "    colors.append(role_colors[participant_meta[\"role\"]])\n",
    "labelled_degrees = pd.Series(rows)"
   ]
  },
  {
   "cell_type": "code",
   "execution_count": null,
   "metadata": {},
   "outputs": [],
   "source": [
    "# note we need to reverse the order of values for the bar plot to display correctly\n",
    "ax = labelled_degrees[::-1].plot(kind=\"barh\", figsize=(11,8), fontsize=14, color=colors[::-1], alpha=0.7, \n",
    "                                 width=0.7, zorder=3)\n",
    "ax.set_title(\"Top %d Participants by Degree\" % top, fontsize=16);\n",
    "ax.set_xlabel(\"Degree (Unique Contacts)\", fontsize=16)\n",
    "ax.xaxis.grid()"
   ]
  },
  {
   "cell_type": "markdown",
   "metadata": {},
   "source": [
    "We can also take into account the **weight** on each edge. That is, the frequency of interaction between each pair.\n",
    "\n",
    "Firstly, we can look at the most frequently interacting pairs."
   ]
  },
  {
   "cell_type": "code",
   "execution_count": null,
   "metadata": {},
   "outputs": [],
   "source": [
    "df_edges = nx.to_pandas_edgelist(g)\n",
    "df_top_edges = df_edges.sort_values(by=\"weight\", ascending=False).head(10)\n",
    "rows = []\n",
    "for i, row in df_top_edges.iterrows():\n",
    "    participant_meta1 = df_metadata.loc[row[\"source\"]]\n",
    "    participant_meta2 = df_metadata.loc[row[\"target\"]]  \n",
    "    label1 = \"%s (%s)\" % ( participant_meta1[\"name\"], participant_meta1[\"role\"] )\n",
    "    label2 = \"%s (%s)\" % ( participant_meta2[\"name\"], participant_meta2[\"role\"] )\n",
    "    rows.append( { \"participant1\" : label1, \"participant2\" : label2, \"frequency\" : row[\"weight\"] } )\n",
    "pd.DataFrame( rows )"
   ]
  },
  {
   "cell_type": "markdown",
   "metadata": {},
   "source": [
    "We could also look at which individuals have the most frequent contacts - i.e. the highest weighted degree:"
   ]
  },
  {
   "cell_type": "code",
   "execution_count": null,
   "metadata": {},
   "outputs": [],
   "source": [
    "# calculate the weighted degree scores\n",
    "wdegrees = pd.Series(dict(g.degree(weight=\"weight\")))"
   ]
  },
  {
   "cell_type": "code",
   "execution_count": null,
   "metadata": {},
   "outputs": [],
   "source": [
    "# sort the values\n",
    "top = 15\n",
    "top_wdegrees = wdegrees.sort_values(ascending=False).head(top)\n",
    "# generate a new version of the series\n",
    "rows = {}\n",
    "colors = []\n",
    "for i, wdegree in top_wdegrees.iteritems():\n",
    "    participant_meta = df_metadata.loc[i]\n",
    "    label = \"%s (%s)\" % ( participant_meta[\"name\"], participant_meta[\"role\"] )\n",
    "    rows[label] = wdegree\n",
    "    colors.append( role_colors[participant_meta[\"role\"]] )\n",
    "labelled_wdegrees = pd.Series(rows)"
   ]
  },
  {
   "cell_type": "code",
   "execution_count": null,
   "metadata": {},
   "outputs": [],
   "source": [
    "# plot as a horizontal bar chart\n",
    "ax = labelled_wdegrees[::-1].plot(kind=\"barh\", figsize=(11,8), fontsize=14, color=colors[::-1], alpha=0.7,\n",
    "                                  width=0.7, zorder=3)\n",
    "ax.set_title(\"Top %d Participants by Weighted Degree\" % top, fontsize=16);\n",
    "ax.set_xlabel(\"Weighted Degree (Contact Frequency)\", fontsize=16)\n",
    "ax.xaxis.grid()"
   ]
  },
  {
   "cell_type": "markdown",
   "metadata": {},
   "source": [
    "## Ego Networks\n",
    "\n",
    "We could decide to focus on a particular region of the network. One way to do this is to create one or more **ego networks**. An ego network is a subgraph which consists of a focal node (the ego) and the nodes to whom ego is directly connected (the alters), plus the edges among the alters. In the case of our contact network, this represents a participant and their close contacts."
   ]
  },
  {
   "cell_type": "code",
   "execution_count": null,
   "metadata": {},
   "outputs": [],
   "source": [
    "ego_node = 1399\n",
    "eg = nx.ego_graph(g, ego_node)\n",
    "# how many nodes and edges are in the ego network?\n",
    "print(\"Ego network for node %s has %d nodes and %d edges\" \n",
    "      % (ego_node, eg.number_of_nodes(), eg.number_of_edges()))"
   ]
  },
  {
   "cell_type": "markdown",
   "metadata": {},
   "source": [
    "We can visualise these smaller subgraphs easily using NetworkX:"
   ]
  },
  {
   "cell_type": "code",
   "execution_count": null,
   "metadata": {},
   "outputs": [],
   "source": [
    "# draw the ego network\n",
    "plt.figure(figsize=(8,6))\n",
    "plt.margins(0.1, 0.1)\n",
    "pos = nx.circular_layout(eg)\n",
    "nx.draw(eg, pos=pos, with_labels=True, node_color='darkblue', node_size=2300, font_color='white', font_size=13)\n",
    "# add the ego node in a different colour\n",
    "nx.draw_networkx_nodes(eg, pos, nodelist=[ego_node], node_size=2300, node_color=\"red\");"
   ]
  },
  {
   "cell_type": "markdown",
   "metadata": {},
   "source": [
    "## Visualising Networks"
   ]
  },
  {
   "cell_type": "markdown",
   "metadata": {},
   "source": [
    "NetworkX is not primarily designed for visualisation. If we want to visualise and explore the contact network in more detail, we can export it in GEXF format and load it into a dedicated visualisation tool such as [Gephi](https://gephi.org/)."
   ]
  },
  {
   "cell_type": "code",
   "execution_count": null,
   "metadata": {},
   "outputs": [],
   "source": [
    "# explore the network for the original first day network\n",
    "nx.write_gexf(g, \"contacts-day1.gexf\")"
   ]
  }
 ],
 "metadata": {
  "kernelspec": {
   "display_name": "Python 3 (ipykernel)",
   "language": "python",
   "name": "python3"
  },
  "language_info": {
   "codemirror_mode": {
    "name": "ipython",
    "version": 3
   },
   "file_extension": ".py",
   "mimetype": "text/x-python",
   "name": "python",
   "nbconvert_exporter": "python",
   "pygments_lexer": "ipython3",
   "version": "3.9.7"
  }
 },
 "nbformat": 4,
 "nbformat_minor": 2
}
