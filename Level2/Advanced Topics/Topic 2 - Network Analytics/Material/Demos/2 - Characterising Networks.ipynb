{
 "cells": [
  {
   "cell_type": "markdown",
   "metadata": {},
   "source": [
    "<div style=\"float:left;\"><img src=\"logo.png\" width=\"500\"/></div>"
   ]
  },
  {
   "cell_type": "markdown",
   "metadata": {},
   "source": [
    "# Characterising Networks"
   ]
  },
  {
   "cell_type": "markdown",
   "metadata": {},
   "source": [
    "In this demo we will use the Python [NetworkX](https://networkx.org) package to quantitatively characterise an existing network, looking at aspects of the overall network structure, and the centrality or importance of individual nodes. We will use the US air transport network that we created in the last demo"
   ]
  },
  {
   "cell_type": "code",
   "execution_count": null,
   "metadata": {},
   "outputs": [],
   "source": [
    "import networkx as nx\n",
    "import pandas as pd\n",
    "import matplotlib.pyplot as plt\n",
    "%matplotlib inline\n",
    "pd.set_option('display.precision', 3)"
   ]
  },
  {
   "cell_type": "markdown",
   "metadata": {},
   "source": [
    "## Network Loading\n",
    "\n",
    "Load the directed weighted network from the GEXF file created in Demo 1:"
   ]
  },
  {
   "cell_type": "code",
   "execution_count": null,
   "metadata": {},
   "outputs": [],
   "source": [
    "g = nx.read_gexf(\"airstats-weighted-directed.gexf\")"
   ]
  },
  {
   "cell_type": "markdown",
   "metadata": {},
   "source": [
    "## Basic Characterisation\n",
    "\n",
    "Based on this network, characterise the network’s connectedness (i.e., the density, number of components)."
   ]
  },
  {
   "cell_type": "code",
   "execution_count": null,
   "metadata": {},
   "outputs": [],
   "source": [
    "# how many nodes and edges are in the network?\n",
    "print(\"Network has %d nodes and %d edges\" % (g.number_of_nodes(), g.number_of_edges()))"
   ]
  },
  {
   "cell_type": "code",
   "execution_count": null,
   "metadata": {},
   "outputs": [],
   "source": [
    "# what level of density in the network?\n",
    "print(\"Density = %.4f\" % nx.density(g))"
   ]
  },
  {
   "cell_type": "code",
   "execution_count": null,
   "metadata": {},
   "outputs": [],
   "source": [
    "# how many strongly connected components?\n",
    "nx.number_strongly_connected_components(g)"
   ]
  },
  {
   "cell_type": "markdown",
   "metadata": {},
   "source": [
    "## Measuring Centrality\n",
    "\n",
    "Centrality analysis allows us to identify the most important nodes in a network. The actual definition of importance depends on the nature of the network, and many different centrality measures exist. NetworkX includes implementations of the most common measures."
   ]
  },
  {
   "cell_type": "markdown",
   "metadata": {},
   "source": [
    "The most basic measure of centrality, **degree centrality**, measures the number of connections that a node has. In the case of our airport data, it indicates the number of *routes* than an airport is involved in (i.e. either incoming or outgoing flights)."
   ]
  },
  {
   "cell_type": "code",
   "execution_count": null,
   "metadata": {},
   "outputs": [],
   "source": [
    "# We can use networkX to produce a dictionary of centrality values, where the keys are the nodes.\n",
    "deg = dict(nx.degree(g))\n",
    "deg"
   ]
  },
  {
   "cell_type": "markdown",
   "metadata": {},
   "source": [
    "We can use these scores to populate a Pandas *Data Frame* and display a ranking of the nodes by their degree scores:"
   ]
  },
  {
   "cell_type": "code",
   "execution_count": null,
   "metadata": {},
   "outputs": [],
   "source": [
    "# create Pandas series\n",
    "sdeg = pd.Series(deg).sort_values(ascending=False)\n",
    "# create Pandas Data Frame from the series, along with the node city attributes\n",
    "df = pd.DataFrame({\"City\":nx.get_node_attributes(g, \"city\"), \"Degree\":sdeg})\n",
    "df = df.sort_values(by=\"Degree\", ascending=False)\n",
    "# sort in descending order and get top values\n",
    "df.sort_values(by=\"Degree\", ascending=False).head(10)"
   ]
  },
  {
   "cell_type": "markdown",
   "metadata": {},
   "source": [
    "We could use these scores to identify peripheral airports (i.e. involved in very few routes), where we are interested in few unique connections, either incoming or outgoing:"
   ]
  },
  {
   "cell_type": "code",
   "execution_count": null,
   "metadata": {},
   "outputs": [],
   "source": [
    "# note we want the low values\n",
    "df.sort_values(by=\"Degree\", ascending=True).head(10)"
   ]
  },
  {
   "cell_type": "markdown",
   "metadata": {},
   "source": [
    "We often want to look at the distribution of degree scores across all nodes in a network to see how they vary. This is usually plotted as a histogram, which shows us the network's **degree distribution**: "
   ]
  },
  {
   "cell_type": "code",
   "execution_count": null,
   "metadata": {},
   "outputs": [],
   "source": [
    "# produce a histogram of the values\n",
    "ax = df[\"Degree\"].plot(kind=\"hist\", figsize=(12, 5.5), fontsize=13, legend=None, color=\"darkred\", \n",
    "    bins=20, zorder=3, rwidth=0.9)\n",
    "ax.yaxis.grid()\n",
    "ax.set_xlim(0)\n",
    "ax.set_ylabel(\"Number of Nodes\", fontsize=14)\n",
    "ax.set_xlabel(\"Degree\", fontsize=14);"
   ]
  },
  {
   "cell_type": "markdown",
   "metadata": {},
   "source": [
    "## In-Degree and Out-Degree Centrality\n",
    "\n",
    "For directed networks, we usually distinguish between **in-degree** and **out-degree**:\n",
    "\n",
    "- In-degree: the number of incoming edges that each node has.\n",
    "- Out-degree: the number of outgoing edges that each node has.\n",
    "\n",
    "In the case of our flight network, these measures allow us to identify airports which have many incoming routes or outgoing routes."
   ]
  },
  {
   "cell_type": "markdown",
   "metadata": {},
   "source": [
    "Firstly, look at out-degrees:"
   ]
  },
  {
   "cell_type": "code",
   "execution_count": null,
   "metadata": {},
   "outputs": [],
   "source": [
    "# calculate out-degree scores\n",
    "out_degrees = dict(g.out_degree())\n",
    "# add a column to our Data Frame\n",
    "df[\"Out-Degree\"] = pd.Series(out_degrees)\n",
    "# sort in descending order and get top values\n",
    "df.sort_values(by=\"Out-Degree\", ascending=False).head(10)"
   ]
  },
  {
   "cell_type": "markdown",
   "metadata": {},
   "source": [
    "We can repeat the process for in-degree:"
   ]
  },
  {
   "cell_type": "code",
   "execution_count": null,
   "metadata": {},
   "outputs": [],
   "source": [
    "# calculate in-degree scores\n",
    "in_degrees = dict(g.in_degree())\n",
    "# add a column to our Data Frame\n",
    "df[\"In-Degree\"] = pd.Series(in_degrees)\n",
    "# sort in descending order and get top values\n",
    "df.sort_values(by=\"In-Degree\", ascending=False).head(10)"
   ]
  },
  {
   "cell_type": "markdown",
   "metadata": {},
   "source": [
    "It appears that out-degree and in-degree scores for the nodes are generally very similar for this network. \n",
    "\n",
    "We could check this at a network level by creating a scatter plot of in-degree versus out-degree for all nodes."
   ]
  },
  {
   "cell_type": "code",
   "execution_count": null,
   "metadata": {},
   "outputs": [],
   "source": [
    "# produce the scatter plot\n",
    "ax = df.plot(kind=\"scatter\", x=\"In-Degree\", y=\"Out-Degree\", figsize=(8, 7), \n",
    "    fontsize=13, color=\"teal\", s=30)\n",
    "ax.set_xlim(0)\n",
    "ax.set_ylim(0)\n",
    "ax.set_xlabel(\"In-Degree\", fontsize=14)\n",
    "ax.set_ylabel(\"Out-Degree\", fontsize=14);"
   ]
  },
  {
   "cell_type": "markdown",
   "metadata": {},
   "source": [
    "## Weighted Centrality Measures\n",
    "\n",
    "When we have *weights* on our edges, we can take these into account when measuring centrality. In a weighted network, the **weighted degree** is the sum of the weights on the edges connected to each node."
   ]
  },
  {
   "cell_type": "markdown",
   "metadata": {},
   "source": [
    "There are analogous weighted equivalents of in-degree and out-degree. We can use these to identify frequent origin and destination airports in the network (i.e., high weighted in-degree / out-degree).\n",
    "\n",
    "Firstly we will look at **weighted out-degree** (i.e. the sum of the weights on outgoing edges):"
   ]
  },
  {
   "cell_type": "code",
   "execution_count": null,
   "metadata": {},
   "outputs": [],
   "source": [
    "# calculate weighted out-degree\n",
    "wout_degrees = dict(g.out_degree(weight=\"weight\"))\n",
    "# add a column to our Data Frame\n",
    "df[\"W-Out-Degree\"] = pd.Series(wout_degrees)\n",
    "# sort in descending order and get top values\n",
    "df.sort_values(by=\"W-Out-Degree\", ascending=False).head(10)"
   ]
  },
  {
   "cell_type": "markdown",
   "metadata": {},
   "source": [
    "Next we looked at **weighted in-degree**  (i.e. the sum of the weights on incoming edges):"
   ]
  },
  {
   "cell_type": "code",
   "execution_count": null,
   "metadata": {},
   "outputs": [],
   "source": [
    "# calculate weighted in-degree\n",
    "win_degrees = dict(g.in_degree(weight=\"weight\"))\n",
    "# add a column to our Data Frame\n",
    "df[\"W-In-Degree\"] = pd.Series(win_degrees)\n",
    "# sort in descending order and get top values\n",
    "df.sort_values(by=\"W-In-Degree\", ascending=False).head(10)"
   ]
  },
  {
   "cell_type": "markdown",
   "metadata": {},
   "source": [
    "Again we could look at the relationship between these two weighted centrality scores in the network:"
   ]
  },
  {
   "cell_type": "code",
   "execution_count": null,
   "metadata": {},
   "outputs": [],
   "source": [
    "# produce a scatter plot\n",
    "ax = df.plot(kind=\"scatter\", x=\"W-In-Degree\", y=\"W-Out-Degree\", figsize=(8, 7), \n",
    "    fontsize=13, color=\"teal\", s=30)\n",
    "ax.set_xlim(0)\n",
    "ax.set_ylim(0)\n",
    "ax.set_xlabel(\"Weighted In-Degree\", fontsize=14)\n",
    "ax.set_ylabel(\"Weighted Out-Degree\", fontsize=14);"
   ]
  },
  {
   "cell_type": "markdown",
   "metadata": {},
   "source": [
    "We could also look at the overall distributions for the in-degree and out-degree scores:"
   ]
  },
  {
   "cell_type": "code",
   "execution_count": null,
   "metadata": {},
   "outputs": [],
   "source": [
    "plt.subplots(1, 2, sharey=True, figsize=(13,5))\n",
    "# create the first subplot\n",
    "plt.subplot(1,2,1)\n",
    "ax1 = df[\"W-In-Degree\"].plot(kind=\"hist\", fontsize=13, legend=None, color=\"darkorange\", \n",
    "    bins=20, zorder=3, rwidth=0.9)\n",
    "ax1.yaxis.grid()\n",
    "ax1.set_xlim(0)\n",
    "ax1.set_ylabel(\"Number of Nodes\", fontsize=14)\n",
    "ax1.set_xlabel(\"Weighted In-Degree\", fontsize=14);\n",
    "# create the second subplot\n",
    "plt.subplot(1,2,2)\n",
    "ax2 = df[\"W-Out-Degree\"].plot(kind=\"hist\", fontsize=13, legend=None, color=\"purple\", \n",
    "    bins=20, zorder=3, rwidth=0.9, ax=plt.gca());\n",
    "ax2.yaxis.grid()\n",
    "ax2.set_xlim(0)\n",
    "ax2.set_ylabel(\"Number of Nodes\", fontsize=14)\n",
    "ax2.set_xlabel(\"Weighted Out-Degree\", fontsize=14);"
   ]
  },
  {
   "cell_type": "markdown",
   "metadata": {},
   "source": [
    "## Other Centrality Measures"
   ]
  },
  {
   "cell_type": "markdown",
   "metadata": {},
   "source": [
    "Going beyond counting edges and weights, we can use **betweenness centrality** to identify bridging nodes in a network. Nodes that occur on many shortest paths between other nodes in the network have high betweenness centrality.\n",
    "\n",
    "In our flight network, we could use this measure to identify key hub airports in the network with high betweenness"
   ]
  },
  {
   "cell_type": "code",
   "execution_count": null,
   "metadata": {},
   "outputs": [],
   "source": [
    "# calcuate betweennness centrality scores\n",
    "between_scores = nx.betweenness_centrality(g)\n",
    "# add a column to our Data Frame\n",
    "df[\"Between\"] = pd.Series(between_scores)\n",
    "# sort in descending order and get top values\n",
    "df.sort_values(by=\"Between\", ascending=False).head(10)"
   ]
  },
  {
   "cell_type": "markdown",
   "metadata": {},
   "source": [
    "The **eigenvector centrality** of a node proportional to the sum of the centrality scores of its neighbours. This means that a node is important if it connected to other important nodes."
   ]
  },
  {
   "cell_type": "code",
   "execution_count": null,
   "metadata": {},
   "outputs": [],
   "source": [
    "# calcuate eigenvector centrality scores\n",
    "eig_scores = nx.eigenvector_centrality(g)\n",
    "# add a column to our Data Frame\n",
    "df[\"Eigenvector\"] = pd.Series(eig_scores)\n",
    "# sort in descending order and get top values\n",
    "df.sort_values(by=\"Eigenvector\", ascending=False).head(10)"
   ]
  },
  {
   "cell_type": "markdown",
   "metadata": {},
   "source": [
    "Different measures will be appropriate in different contexts:\n",
    "\n",
    "- Degree centrality: when the number of connections is important\n",
    "- Betweenness centrality: when control over transmission is important\n",
    "- Closeness centrality: when time taken to reach nodes is important\n",
    "- Eigenvector centrality: when influence of neighbours is important"
   ]
  },
  {
   "cell_type": "code",
   "execution_count": null,
   "metadata": {},
   "outputs": [],
   "source": [
    "# look at the correlation between the different centrality measures\n",
    "df.corr()"
   ]
  }
 ],
 "metadata": {
  "kernelspec": {
   "display_name": "Python 3 (ipykernel)",
   "language": "python",
   "name": "python3"
  },
  "language_info": {
   "codemirror_mode": {
    "name": "ipython",
    "version": 3
   },
   "file_extension": ".py",
   "mimetype": "text/x-python",
   "name": "python",
   "nbconvert_exporter": "python",
   "pygments_lexer": "ipython3",
   "version": "3.9.7"
  }
 },
 "nbformat": 4,
 "nbformat_minor": 2
}
