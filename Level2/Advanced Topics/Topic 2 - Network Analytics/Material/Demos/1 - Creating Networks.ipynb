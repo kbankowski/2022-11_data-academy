{
 "cells": [
  {
   "cell_type": "markdown",
   "metadata": {},
   "source": [
    "<div style=\"float:left;\"><img src=\"logo.png\" width=\"500\"/></div>"
   ]
  },
  {
   "cell_type": "markdown",
   "metadata": {},
   "source": [
    "# Creating Networks"
   ]
  },
  {
   "cell_type": "markdown",
   "metadata": {},
   "source": [
    "In this demo we will look at the core concepts of network analysis by using the Python [NetworkX](https://networkx.org) package to construct networks from raw data. In this case, we will create a network representation from a real dataset of U.S. air transport records.\n",
    "\n",
    "Firstly, import the required modules, including NetworkX:"
   ]
  },
  {
   "cell_type": "code",
   "execution_count": 1,
   "metadata": {},
   "outputs": [],
   "source": [
    "from pathlib import Path\n",
    "import pandas as pd\n",
    "import networkx as nx"
   ]
  },
  {
   "cell_type": "markdown",
   "metadata": {},
   "source": [
    "## Data Loading\n",
    "We will load the flight record data from the file airstats.csv into a Pandas Data Frame. "
   ]
  },
  {
   "cell_type": "code",
   "execution_count": 2,
   "metadata": {},
   "outputs": [
    {
     "name": "stdout",
     "output_type": "stream",
     "text": [
      "Read 119038 flight records\n"
     ]
    },
    {
     "data": {
      "text/html": [
       "<div>\n",
       "<style scoped>\n",
       "    .dataframe tbody tr th:only-of-type {\n",
       "        vertical-align: middle;\n",
       "    }\n",
       "\n",
       "    .dataframe tbody tr th {\n",
       "        vertical-align: top;\n",
       "    }\n",
       "\n",
       "    .dataframe thead th {\n",
       "        text-align: right;\n",
       "    }\n",
       "</style>\n",
       "<table border=\"1\" class=\"dataframe\">\n",
       "  <thead>\n",
       "    <tr style=\"text-align: right;\">\n",
       "      <th></th>\n",
       "      <th>ORIGIN</th>\n",
       "      <th>DEST</th>\n",
       "      <th>ORIGIN_CITY_NAME</th>\n",
       "      <th>DEST_CITY_NAME</th>\n",
       "    </tr>\n",
       "    <tr>\n",
       "      <th>FLIGHT_ID</th>\n",
       "      <th></th>\n",
       "      <th></th>\n",
       "      <th></th>\n",
       "      <th></th>\n",
       "    </tr>\n",
       "  </thead>\n",
       "  <tbody>\n",
       "    <tr>\n",
       "      <th>4679</th>\n",
       "      <td>AEX</td>\n",
       "      <td>SAT</td>\n",
       "      <td>Alexandria, LA</td>\n",
       "      <td>San Antonio, TX</td>\n",
       "    </tr>\n",
       "    <tr>\n",
       "      <th>4680</th>\n",
       "      <td>ATL</td>\n",
       "      <td>MDW</td>\n",
       "      <td>Atlanta, GA</td>\n",
       "      <td>Chicago, IL</td>\n",
       "    </tr>\n",
       "    <tr>\n",
       "      <th>4681</th>\n",
       "      <td>AZA</td>\n",
       "      <td>LAS</td>\n",
       "      <td>Phoenix, AZ</td>\n",
       "      <td>Las Vegas, NV</td>\n",
       "    </tr>\n",
       "    <tr>\n",
       "      <th>4682</th>\n",
       "      <td>AZA</td>\n",
       "      <td>MIA</td>\n",
       "      <td>Phoenix, AZ</td>\n",
       "      <td>Miami, FL</td>\n",
       "    </tr>\n",
       "    <tr>\n",
       "      <th>4683</th>\n",
       "      <td>AZO</td>\n",
       "      <td>LEX</td>\n",
       "      <td>Kalamazoo, MI</td>\n",
       "      <td>Lexington, KY</td>\n",
       "    </tr>\n",
       "    <tr>\n",
       "      <th>4684</th>\n",
       "      <td>BED</td>\n",
       "      <td>BNA</td>\n",
       "      <td>Bedford, MA</td>\n",
       "      <td>Nashville, TN</td>\n",
       "    </tr>\n",
       "    <tr>\n",
       "      <th>4685</th>\n",
       "      <td>BED</td>\n",
       "      <td>DAL</td>\n",
       "      <td>Bedford, MA</td>\n",
       "      <td>Dallas, TX</td>\n",
       "    </tr>\n",
       "    <tr>\n",
       "      <th>4686</th>\n",
       "      <td>BED</td>\n",
       "      <td>FRG</td>\n",
       "      <td>Bedford, MA</td>\n",
       "      <td>East Farmingdale, NY</td>\n",
       "    </tr>\n",
       "    <tr>\n",
       "      <th>4687</th>\n",
       "      <td>BED</td>\n",
       "      <td>GSO</td>\n",
       "      <td>Bedford, MA</td>\n",
       "      <td>Greensboro/High Point, NC</td>\n",
       "    </tr>\n",
       "    <tr>\n",
       "      <th>4688</th>\n",
       "      <td>BED</td>\n",
       "      <td>RDU</td>\n",
       "      <td>Bedford, MA</td>\n",
       "      <td>Raleigh/Durham, NC</td>\n",
       "    </tr>\n",
       "  </tbody>\n",
       "</table>\n",
       "</div>"
      ],
      "text/plain": [
       "          ORIGIN DEST ORIGIN_CITY_NAME             DEST_CITY_NAME\n",
       "FLIGHT_ID                                                        \n",
       "4679         AEX  SAT   Alexandria, LA            San Antonio, TX\n",
       "4680         ATL  MDW      Atlanta, GA                Chicago, IL\n",
       "4681         AZA  LAS      Phoenix, AZ              Las Vegas, NV\n",
       "4682         AZA  MIA      Phoenix, AZ                  Miami, FL\n",
       "4683         AZO  LEX    Kalamazoo, MI              Lexington, KY\n",
       "4684         BED  BNA      Bedford, MA              Nashville, TN\n",
       "4685         BED  DAL      Bedford, MA                 Dallas, TX\n",
       "4686         BED  FRG      Bedford, MA       East Farmingdale, NY\n",
       "4687         BED  GSO      Bedford, MA  Greensboro/High Point, NC\n",
       "4688         BED  RDU      Bedford, MA         Raleigh/Durham, NC"
      ]
     },
     "execution_count": 2,
     "metadata": {},
     "output_type": "execute_result"
    }
   ],
   "source": [
    "in_path = Path(\"../Data\", \"airstats.csv\")\n",
    "# create the Data Frame\n",
    "df = pd.read_csv(in_path, index_col=0)\n",
    "print(\"Read %d flight records\" % len(df))\n",
    "# display a few rows\n",
    "df.head(10)"
   ]
  },
  {
   "cell_type": "markdown",
   "metadata": {},
   "source": [
    "## Creating a Directed Network\n",
    "\n",
    "We will now construct a *directed unweighted network* such that:\n",
    "\n",
    "- There is a node for each airport involved in a flight record. We will use the three letter IATA airport codes for the origin and destination as the node identifiers. We will also add the airport city name as an attribute for each node.\n",
    "- There is a directed edge between each unique origin and destination pair, based on the flight records."
   ]
  },
  {
   "cell_type": "markdown",
   "metadata": {},
   "source": [
    "First, get the set of all airports:"
   ]
  },
  {
   "cell_type": "code",
   "execution_count": null,
   "metadata": {},
   "outputs": [],
   "source": [
    "# get set of all airports\n",
    "origins = set(df[\"ORIGIN\"].unique())\n",
    "destinations = set(df[\"DEST\"].unique())\n",
    "airports = origins.union(destinations)"
   ]
  },
  {
   "cell_type": "code",
   "execution_count": 4,
   "metadata": {},
   "outputs": [],
   "source": [
    "# create a map from the airport codes to the city name\n",
    "city_names = {}\n",
    "for i, row in df.iterrows():\n",
    "    city_names[row[\"ORIGIN\"]] = row[\"ORIGIN_CITY_NAME\"]\n",
    "    city_names[row[\"DEST\"]] = row[\"DEST_CITY_NAME\"]"
   ]
  },
  {
   "cell_type": "markdown",
   "metadata": {},
   "source": [
    "Create a directed network, with a node for each airport:"
   ]
  },
  {
   "cell_type": "code",
   "execution_count": 5,
   "metadata": {},
   "outputs": [],
   "source": [
    "# here a DiGraph indicates a directed network\n",
    "g = nx.DiGraph()\n",
    "nodes = sorted(list(airports))\n",
    "for node in nodes:\n",
    "    # we add the city name as an attribute\n",
    "    g.add_node(node, city=city_names[node])"
   ]
  },
  {
   "cell_type": "markdown",
   "metadata": {},
   "source": [
    "Create a directed edge between each unique origin and destination pair, based on the flight records\n",
    "\n",
    "Note that Networkx ignores duplicate edges and only adds them once"
   ]
  },
  {
   "cell_type": "code",
   "execution_count": 6,
   "metadata": {},
   "outputs": [],
   "source": [
    "for i, row in df.iterrows():\n",
    "    node1 = row[\"ORIGIN\"]\n",
    "    node2 = row[\"DEST\"]\n",
    "    # ignore self-loops, in case they exist\n",
    "    if node1 == node2:\n",
    "        continue\n",
    "    g.add_edge(node1, node2)"
   ]
  },
  {
   "cell_type": "markdown",
   "metadata": {},
   "source": [
    "We can check the size of our new network:"
   ]
  },
  {
   "cell_type": "code",
   "execution_count": 7,
   "metadata": {},
   "outputs": [
    {
     "name": "stdout",
     "output_type": "stream",
     "text": [
      "Network has 1043 nodes and 17644 edges\n"
     ]
    }
   ],
   "source": [
    "print(\"Network has %d nodes and %d edges\" % (g.number_of_nodes(), g.number_of_edges()))"
   ]
  },
  {
   "cell_type": "markdown",
   "metadata": {},
   "source": [
    "## Creating a Directed Weighted Network\n",
    "\n",
    "As an alternative network representation, we will now use the original Data Frame to create a *directed weighted network*, such that:\n",
    "\n",
    "- There is a node for each airport involved in a flight record. We use the three letter IATA airport codes for the origin and destination as the node identifiers. We add the airport city name as an attribute for each node.\n",
    "- There is a directed edge between each unique origin and destination pair, based on the flight records. The *weight* on an edge indicates the number of flights from the source airport to the target airport."
   ]
  },
  {
   "cell_type": "code",
   "execution_count": 8,
   "metadata": {},
   "outputs": [],
   "source": [
    "# create the new network\n",
    "g = nx.DiGraph()\n",
    "nodes = list(airports)\n",
    "nodes.sort()\n",
    "for node in nodes:\n",
    "    g.add_node(node, city=city_names[node])"
   ]
  },
  {
   "cell_type": "code",
   "execution_count": 9,
   "metadata": {},
   "outputs": [],
   "source": [
    "# count the flight frequencies between each pair of airports.\n",
    "from collections import Counter\n",
    "freqs = Counter()\n",
    "# make sure to apply this to the filtered Data Frame\n",
    "for i, row in df.iterrows():\n",
    "    node1 = row[\"ORIGIN\"]\n",
    "    node2 = row[\"DEST\"]\n",
    "    # ignore self-loops, in case they exist\n",
    "    if node1 == node2:\n",
    "        continue\n",
    "    pair = (node1,node2)\n",
    "    freqs[pair] += 1"
   ]
  },
  {
   "cell_type": "markdown",
   "metadata": {},
   "source": [
    "Now we create a directed weighted edge between each unique origin and destination airport pair:"
   ]
  },
  {
   "cell_type": "code",
   "execution_count": 10,
   "metadata": {},
   "outputs": [
    {
     "name": "stdout",
     "output_type": "stream",
     "text": [
      "Created network with 1043 nodes and 17644 edges\n"
     ]
    }
   ],
   "source": [
    "for pair in freqs:\n",
    "    g.add_edge(pair[0], pair[1], weight=freqs[pair])\n",
    "print(\"Created network with %d nodes and %d edges\" % (g.number_of_nodes(), g.number_of_edges() ))"
   ]
  },
  {
   "cell_type": "markdown",
   "metadata": {},
   "source": [
    "Based on the weights on the edges in this network, we can identify the most frequent flight routes in this flight network.\n",
    "\n",
    "One way to do this is to turn the network edge list into a Data Frame and then we can sort and browse it:"
   ]
  },
  {
   "cell_type": "code",
   "execution_count": 11,
   "metadata": {},
   "outputs": [
    {
     "data": {
      "text/html": [
       "<div>\n",
       "<style scoped>\n",
       "    .dataframe tbody tr th:only-of-type {\n",
       "        vertical-align: middle;\n",
       "    }\n",
       "\n",
       "    .dataframe tbody tr th {\n",
       "        vertical-align: top;\n",
       "    }\n",
       "\n",
       "    .dataframe thead th {\n",
       "        text-align: right;\n",
       "    }\n",
       "</style>\n",
       "<table border=\"1\" class=\"dataframe\">\n",
       "  <thead>\n",
       "    <tr style=\"text-align: right;\">\n",
       "      <th></th>\n",
       "      <th>Origin</th>\n",
       "      <th>Destination</th>\n",
       "      <th>Weight</th>\n",
       "    </tr>\n",
       "  </thead>\n",
       "  <tbody>\n",
       "    <tr>\n",
       "      <th>11259</th>\n",
       "      <td>Minneapolis, MN</td>\n",
       "      <td>Chicago, IL</td>\n",
       "      <td>78</td>\n",
       "    </tr>\n",
       "    <tr>\n",
       "      <th>12356</th>\n",
       "      <td>Chicago, IL</td>\n",
       "      <td>Minneapolis, MN</td>\n",
       "      <td>75</td>\n",
       "    </tr>\n",
       "    <tr>\n",
       "      <th>4386</th>\n",
       "      <td>Denver, CO</td>\n",
       "      <td>Salt Lake City, UT</td>\n",
       "      <td>71</td>\n",
       "    </tr>\n",
       "    <tr>\n",
       "      <th>4910</th>\n",
       "      <td>Detroit, MI</td>\n",
       "      <td>Chicago, IL</td>\n",
       "      <td>70</td>\n",
       "    </tr>\n",
       "    <tr>\n",
       "      <th>12332</th>\n",
       "      <td>Chicago, IL</td>\n",
       "      <td>Detroit, MI</td>\n",
       "      <td>69</td>\n",
       "    </tr>\n",
       "    <tr>\n",
       "      <th>15841</th>\n",
       "      <td>Salt Lake City, UT</td>\n",
       "      <td>Denver, CO</td>\n",
       "      <td>63</td>\n",
       "    </tr>\n",
       "    <tr>\n",
       "      <th>3902</th>\n",
       "      <td>Cincinnati, OH</td>\n",
       "      <td>Chicago, IL</td>\n",
       "      <td>61</td>\n",
       "    </tr>\n",
       "    <tr>\n",
       "      <th>12317</th>\n",
       "      <td>Chicago, IL</td>\n",
       "      <td>Kansas City, MO</td>\n",
       "      <td>60</td>\n",
       "    </tr>\n",
       "    <tr>\n",
       "      <th>12328</th>\n",
       "      <td>Chicago, IL</td>\n",
       "      <td>Atlanta, GA</td>\n",
       "      <td>60</td>\n",
       "    </tr>\n",
       "    <tr>\n",
       "      <th>9228</th>\n",
       "      <td>Los Angeles, CA</td>\n",
       "      <td>San Francisco, CA</td>\n",
       "      <td>60</td>\n",
       "    </tr>\n",
       "    <tr>\n",
       "      <th>13151</th>\n",
       "      <td>Phoenix, AZ</td>\n",
       "      <td>Los Angeles, CA</td>\n",
       "      <td>60</td>\n",
       "    </tr>\n",
       "    <tr>\n",
       "      <th>1045</th>\n",
       "      <td>Atlanta, GA</td>\n",
       "      <td>Chicago, IL</td>\n",
       "      <td>59</td>\n",
       "    </tr>\n",
       "    <tr>\n",
       "      <th>8091</th>\n",
       "      <td>Indianapolis, IN</td>\n",
       "      <td>Chicago, IL</td>\n",
       "      <td>58</td>\n",
       "    </tr>\n",
       "    <tr>\n",
       "      <th>9226</th>\n",
       "      <td>Los Angeles, CA</td>\n",
       "      <td>Honolulu, HI</td>\n",
       "      <td>58</td>\n",
       "    </tr>\n",
       "    <tr>\n",
       "      <th>12301</th>\n",
       "      <td>Chicago, IL</td>\n",
       "      <td>Cincinnati, OH</td>\n",
       "      <td>58</td>\n",
       "    </tr>\n",
       "    <tr>\n",
       "      <th>9239</th>\n",
       "      <td>Los Angeles, CA</td>\n",
       "      <td>Phoenix, AZ</td>\n",
       "      <td>57</td>\n",
       "    </tr>\n",
       "    <tr>\n",
       "      <th>12316</th>\n",
       "      <td>Chicago, IL</td>\n",
       "      <td>Indianapolis, IN</td>\n",
       "      <td>57</td>\n",
       "    </tr>\n",
       "    <tr>\n",
       "      <th>12306</th>\n",
       "      <td>Chicago, IL</td>\n",
       "      <td>Philadelphia, PA</td>\n",
       "      <td>56</td>\n",
       "    </tr>\n",
       "    <tr>\n",
       "      <th>9113</th>\n",
       "      <td>Las Vegas, NV</td>\n",
       "      <td>Los Angeles, CA</td>\n",
       "      <td>56</td>\n",
       "    </tr>\n",
       "    <tr>\n",
       "      <th>12985</th>\n",
       "      <td>Philadelphia, PA</td>\n",
       "      <td>Chicago, IL</td>\n",
       "      <td>55</td>\n",
       "    </tr>\n",
       "  </tbody>\n",
       "</table>\n",
       "</div>"
      ],
      "text/plain": [
       "                   Origin         Destination  Weight\n",
       "11259     Minneapolis, MN         Chicago, IL      78\n",
       "12356         Chicago, IL     Minneapolis, MN      75\n",
       "4386           Denver, CO  Salt Lake City, UT      71\n",
       "4910          Detroit, MI         Chicago, IL      70\n",
       "12332         Chicago, IL         Detroit, MI      69\n",
       "15841  Salt Lake City, UT          Denver, CO      63\n",
       "3902       Cincinnati, OH         Chicago, IL      61\n",
       "12317         Chicago, IL     Kansas City, MO      60\n",
       "12328         Chicago, IL         Atlanta, GA      60\n",
       "9228      Los Angeles, CA   San Francisco, CA      60\n",
       "13151         Phoenix, AZ     Los Angeles, CA      60\n",
       "1045          Atlanta, GA         Chicago, IL      59\n",
       "8091     Indianapolis, IN         Chicago, IL      58\n",
       "9226      Los Angeles, CA        Honolulu, HI      58\n",
       "12301         Chicago, IL      Cincinnati, OH      58\n",
       "9239      Los Angeles, CA         Phoenix, AZ      57\n",
       "12316         Chicago, IL    Indianapolis, IN      57\n",
       "12306         Chicago, IL    Philadelphia, PA      56\n",
       "9113        Las Vegas, NV     Los Angeles, CA      56\n",
       "12985    Philadelphia, PA         Chicago, IL      55"
      ]
     },
     "execution_count": 11,
     "metadata": {},
     "output_type": "execute_result"
    }
   ],
   "source": [
    "rows = []\n",
    "for node1, node2, data in g.edges(data=True):\n",
    "    # get the city names from the node attributes\n",
    "    origin = g.nodes[node1][\"city\"]\n",
    "    destination = g.nodes[node2][\"city\"]\n",
    "    rows.append({\"Origin\":origin, \"Destination\":destination, \"Weight\":data[\"weight\"]})\n",
    "# create the Data Frame and sort in descending order by weight\n",
    "df_edges = pd.DataFrame(rows).sort_values(by=\"Weight\", ascending=False)\n",
    "df_edges.head(20)"
   ]
  },
  {
   "cell_type": "markdown",
   "metadata": {},
   "source": [
    "We can save this weighted directed network as a GEXF file for later use"
   ]
  },
  {
   "cell_type": "code",
   "execution_count": null,
   "metadata": {},
   "outputs": [],
   "source": [
    "nx.write_gexf(g, \"airstats-weighted-directed.gexf\")"
   ]
  }
 ],
 "metadata": {
  "kernelspec": {
   "display_name": "Python 3 (ipykernel)",
   "language": "python",
   "name": "python3"
  },
  "language_info": {
   "codemirror_mode": {
    "name": "ipython",
    "version": 3
   },
   "file_extension": ".py",
   "mimetype": "text/x-python",
   "name": "python",
   "nbconvert_exporter": "python",
   "pygments_lexer": "ipython3",
   "version": "3.10.9"
  }
 },
 "nbformat": 4,
 "nbformat_minor": 2
}
