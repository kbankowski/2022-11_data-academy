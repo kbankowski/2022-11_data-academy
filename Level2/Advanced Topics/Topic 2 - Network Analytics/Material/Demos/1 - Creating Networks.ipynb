{
 "cells": [
  {
   "cell_type": "markdown",
   "metadata": {},
   "source": [
    "<div style=\"float:left;\"><img src=\"logo.png\" width=\"500\"/></div>"
   ]
  },
  {
   "cell_type": "markdown",
   "metadata": {},
   "source": [
    "# Creating Networks"
   ]
  },
  {
   "cell_type": "markdown",
   "metadata": {},
   "source": [
    "In this demo we will look at the core concepts of network analysis by using the Python [NetworkX](https://networkx.org) package to construct networks from raw data. In this case, we will create a network representation from a real dataset of U.S. air transport records.\n",
    "\n",
    "Firstly, import the required modules, including NetworkX:"
   ]
  },
  {
   "cell_type": "code",
   "execution_count": null,
   "metadata": {},
   "outputs": [],
   "source": [
    "from pathlib import Path\n",
    "import pandas as pd\n",
    "import networkx as nx"
   ]
  },
  {
   "cell_type": "markdown",
   "metadata": {},
   "source": [
    "## Data Loading\n",
    "We will load the flight record data from the file airstats.csv into a Pandas Data Frame. "
   ]
  },
  {
   "cell_type": "code",
   "execution_count": null,
   "metadata": {},
   "outputs": [],
   "source": [
    "in_path = Path(\"../Data\", \"airstats.csv\")\n",
    "# create the Data Frame\n",
    "df = pd.read_csv(in_path, index_col=0)\n",
    "print(\"Read %d flight records\" % len(df))\n",
    "# display a few rows\n",
    "df.head(10)"
   ]
  },
  {
   "cell_type": "markdown",
   "metadata": {},
   "source": [
    "## Creating a Directed Network\n",
    "\n",
    "We will now construct a *directed unweighted network* such that:\n",
    "\n",
    "- There is a node for each airport involved in a flight record. We will use the three letter IATA airport codes for the origin and destination as the node identifiers. We will also add the airport city name as an attribute for each node.\n",
    "- There is a directed edge between each unique origin and destination pair, based on the flight records."
   ]
  },
  {
   "cell_type": "markdown",
   "metadata": {},
   "source": [
    "First, get the set of all airports:"
   ]
  },
  {
   "cell_type": "code",
   "execution_count": null,
   "metadata": {},
   "outputs": [],
   "source": [
    "# get set of all airports\n",
    "origins = set(df[\"ORIGIN\"].unique())\n",
    "destinations = set(df[\"DEST\"].unique())\n",
    "airports = origins.union(destinations)"
   ]
  },
  {
   "cell_type": "code",
   "execution_count": null,
   "metadata": {},
   "outputs": [],
   "source": [
    "# create a map from the airport codes to the city name\n",
    "city_names = {}\n",
    "for i, row in df.iterrows():\n",
    "    city_names[row[\"ORIGIN\"]] = row[\"ORIGIN_CITY_NAME\"]\n",
    "    city_names[row[\"DEST\"]] = row[\"DEST_CITY_NAME\"]"
   ]
  },
  {
   "cell_type": "markdown",
   "metadata": {},
   "source": [
    "Create a directed network, with a node for each airport:"
   ]
  },
  {
   "cell_type": "code",
   "execution_count": null,
   "metadata": {},
   "outputs": [],
   "source": [
    "# here a DiGraph indicates a directed network\n",
    "g = nx.DiGraph()\n",
    "nodes = sorted(list(airports))\n",
    "for node in nodes:\n",
    "    # we add the city name as an attribute\n",
    "    g.add_node(node, city=city_names[node])"
   ]
  },
  {
   "cell_type": "markdown",
   "metadata": {},
   "source": [
    "Create a directed edge between each unique origin and destination pair, based on the flight records\n",
    "\n",
    "Note that Networkx ignores duplicate edges and only adds them once"
   ]
  },
  {
   "cell_type": "code",
   "execution_count": null,
   "metadata": {},
   "outputs": [],
   "source": [
    "for i, row in df.iterrows():\n",
    "    node1 = row[\"ORIGIN\"]\n",
    "    node2 = row[\"DEST\"]\n",
    "    # ignore self-loops, in case they exist\n",
    "    if node1 == node2:\n",
    "        continue\n",
    "    g.add_edge(node1, node2)"
   ]
  },
  {
   "cell_type": "markdown",
   "metadata": {},
   "source": [
    "We can check the size of our new network:"
   ]
  },
  {
   "cell_type": "code",
   "execution_count": null,
   "metadata": {},
   "outputs": [],
   "source": [
    "print(\"Network has %d nodes and %d edges\" % (g.number_of_nodes(), g.number_of_edges()))"
   ]
  },
  {
   "cell_type": "markdown",
   "metadata": {},
   "source": [
    "## Creating a Directed Weighted Network\n",
    "\n",
    "As an alternative network representation, we will now use the original Data Frame to create a *directed weighted network*, such that:\n",
    "\n",
    "- There is a node for each airport involved in a flight record. We use the three letter IATA airport codes for the origin and destination as the node identifiers. We add the airport city name as an attribute for each node.\n",
    "- There is a directed edge between each unique origin and destination pair, based on the flight records. The *weight* on an edge indicates the number of flights from the source airport to the target airport."
   ]
  },
  {
   "cell_type": "code",
   "execution_count": null,
   "metadata": {},
   "outputs": [],
   "source": [
    "# create the new network\n",
    "g = nx.DiGraph()\n",
    "nodes = list(airports)\n",
    "nodes.sort()\n",
    "for node in nodes:\n",
    "    g.add_node(node, city=city_names[node])"
   ]
  },
  {
   "cell_type": "code",
   "execution_count": null,
   "metadata": {},
   "outputs": [],
   "source": [
    "# count the flight frequencies between each pair of airports.\n",
    "from collections import Counter\n",
    "freqs = Counter()\n",
    "# make sure to apply this to the filtered Data Frame\n",
    "for i, row in df.iterrows():\n",
    "    node1 = row[\"ORIGIN\"]\n",
    "    node2 = row[\"DEST\"]\n",
    "    # ignore self-loops, in case they exist\n",
    "    if node1 == node2:\n",
    "        continue\n",
    "    pair = (node1,node2)\n",
    "    freqs[pair] += 1"
   ]
  },
  {
   "cell_type": "markdown",
   "metadata": {},
   "source": [
    "Now we create a directed weighted edge between each unique origin and destination airport pair:"
   ]
  },
  {
   "cell_type": "code",
   "execution_count": null,
   "metadata": {},
   "outputs": [],
   "source": [
    "for pair in freqs:\n",
    "    g.add_edge(pair[0], pair[1], weight=freqs[pair])\n",
    "print(\"Created network with %d nodes and %d edges\" % (g.number_of_nodes(), g.number_of_edges() ))"
   ]
  },
  {
   "cell_type": "markdown",
   "metadata": {},
   "source": [
    "Based on the weights on the edges in this network, we can identify the most frequent flight routes in this flight network.\n",
    "\n",
    "One way to do this is to turn the network edge list into a Data Frame and then we can sort and browse it:"
   ]
  },
  {
   "cell_type": "code",
   "execution_count": null,
   "metadata": {},
   "outputs": [],
   "source": [
    "rows = []\n",
    "for node1, node2, data in g.edges(data=True):\n",
    "    # get the city names from the node attributes\n",
    "    origin = g.nodes[node1][\"city\"]\n",
    "    destination = g.nodes[node2][\"city\"]\n",
    "    rows.append({\"Origin\":origin, \"Destination\":destination, \"Weight\":data[\"weight\"]})\n",
    "# create the Data Frame and sort in descending order by weight\n",
    "df_edges = pd.DataFrame(rows).sort_values(by=\"Weight\", ascending=False)\n",
    "df_edges.head(20)"
   ]
  },
  {
   "cell_type": "markdown",
   "metadata": {},
   "source": [
    "We can save this weighted directed network as a GEXF file for later use"
   ]
  },
  {
   "cell_type": "code",
   "execution_count": null,
   "metadata": {},
   "outputs": [],
   "source": [
    "nx.write_gexf(g, \"airstats-weighted-directed.gexf\")"
   ]
  }
 ],
 "metadata": {
  "kernelspec": {
   "display_name": "Python 3 (ipykernel)",
   "language": "python",
   "name": "python3"
  },
  "language_info": {
   "codemirror_mode": {
    "name": "ipython",
    "version": 3
   },
   "file_extension": ".py",
   "mimetype": "text/x-python",
   "name": "python",
   "nbconvert_exporter": "python",
   "pygments_lexer": "ipython3",
   "version": "3.9.7"
  }
 },
 "nbformat": 4,
 "nbformat_minor": 2
}
