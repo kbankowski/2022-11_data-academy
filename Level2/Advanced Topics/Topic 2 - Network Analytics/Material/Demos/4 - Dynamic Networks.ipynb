{
 "cells": [
  {
   "cell_type": "markdown",
   "metadata": {},
   "source": [
    "<div style=\"float:left;\"><img src=\"logo.png\" width=\"500\"/></div>"
   ]
  },
  {
   "cell_type": "markdown",
   "metadata": {},
   "source": [
    "# Dynamic Networks"
   ]
  },
  {
   "cell_type": "markdown",
   "metadata": {},
   "source": [
    "This demo will focus on dynamic network analysis, in the context of healthcare contact data from Demo 3. We will learn to apply a time window strategy to convert continuous data into a discrete network representation. This representation will be characterised, and regions of interest in the network will be explored in more detail."
   ]
  },
  {
   "cell_type": "code",
   "execution_count": null,
   "metadata": {},
   "outputs": [],
   "source": [
    "from pathlib import Path\n",
    "from collections import Counter\n",
    "import networkx as nx\n",
    "import pandas as pd\n",
    "pd.set_option('display.precision', 3)"
   ]
  },
  {
   "cell_type": "markdown",
   "metadata": {},
   "source": [
    "## Data Loading\n",
    "\n",
    "Load the contact records from the file *hospital-contacts.csv*:"
   ]
  },
  {
   "cell_type": "code",
   "execution_count": null,
   "metadata": {},
   "outputs": [],
   "source": [
    "meta_path = Path(\"../Data\") / \"hospital-metadata.csv\"\n",
    "df_metadata = pd.read_csv(meta_path, index_col=0)\n",
    "print(\"Metadata - %d rows\" % len(df_metadata))\n",
    "df_metadata.head(5)"
   ]
  },
  {
   "cell_type": "markdown",
   "metadata": {},
   "source": [
    "Load the participant metadata from the file *hospital-metadata.csv*:"
   ]
  },
  {
   "cell_type": "code",
   "execution_count": null,
   "metadata": {},
   "outputs": [],
   "source": [
    "contact_path = Path(\"../Data\") / \"hospital-contacts.csv\"\n",
    "df_contacts = pd.read_csv(contact_path)\n",
    "print(\"Contact records - %d rows\" % len(df_contacts))\n",
    "df_contacts.head(10)"
   ]
  },
  {
   "cell_type": "markdown",
   "metadata": {},
   "source": [
    "Based on the ‘day’ column, we can split the Data Frame into 4 daily time windows, each represented by a separate Data Frame."
   ]
  },
  {
   "cell_type": "code",
   "execution_count": null,
   "metadata": {},
   "outputs": [],
   "source": [
    "# handle the data for each day\n",
    "window_frames = {}\n",
    "for day in range(1,5):\n",
    "    # create a smaller data frame by filtering by the day column\n",
    "    window_frames[day] = df_contacts[df_contacts[\"day\"]==day]\n",
    "    print(\"Day %d: %d rows\" % (day, len(window_frames[day])))"
   ]
  },
  {
   "cell_type": "markdown",
   "metadata": {},
   "source": [
    "## Dynamic Network Creation\n",
    "\n",
    "For each time window, we can use its Data Frame to construct a corresponding undirected weighted time window contact network, as we saw in the last demo."
   ]
  },
  {
   "cell_type": "code",
   "execution_count": null,
   "metadata": {},
   "outputs": [],
   "source": [
    "# create a network for each day\n",
    "window_networks = {}\n",
    "for day in range(1,5):\n",
    "    g = nx.Graph()\n",
    "    # get the counts\n",
    "    frequencies = Counter()\n",
    "    relevant_nodes = set()\n",
    "    for i, row in window_frames[day].iterrows():\n",
    "        relevant_nodes.add(row[\"participant1\"])\n",
    "        relevant_nodes.add(row[\"participant2\"])\n",
    "        pair = frozenset([row[\"participant1\"], row[\"participant2\"]])\n",
    "        frequencies[pair] += 1\n",
    "    # only add the relevant nodes that appear in this time window\n",
    "    for node_id in relevant_nodes:\n",
    "        name = df_metadata[\"name\"][node_id]\n",
    "        role = df_metadata[\"role\"][node_id]\n",
    "        g.add_node(node_id, name=name, role=role)\n",
    "    # now add the edges\n",
    "    for pair in frequencies:\n",
    "        node_pair = list(pair)\n",
    "        g.add_edge(node_pair[0], node_pair[1], weight=frequencies[pair])\n",
    "    print(\"Day %d: Network has %d nodes and %d edges\" % (day, g.number_of_nodes(), g.number_of_edges()))\n",
    "    window_networks[day] = g\n",
    "print(\"Created %d networks\" % len(window_networks))"
   ]
  },
  {
   "cell_type": "markdown",
   "metadata": {},
   "source": [
    "##  Characterising Dynamic Networks\n",
    "\n",
    "From the time window networks above, we can generate a time series plot showing the average number of unique contacts for each node per day."
   ]
  },
  {
   "cell_type": "code",
   "execution_count": null,
   "metadata": {},
   "outputs": [],
   "source": [
    "# Convenience function for plotting the time series using Pandas\n",
    "def gen_ts_plot(values, measure_name, color=\"red\"):\n",
    "    s_values = pd.Series(values)\n",
    "    ax = s_values.plot(figsize=(12, 5.5), fontsize=13, color=color, style='.-', ms=15, zorder=3)\n",
    "    ax.set_title(\"%s per day\" % measure_name, fontsize=14)\n",
    "    ax.set_xlabel(\"Time Window (day)\", fontsize=14)\n",
    "    ax.set_ylabel(measure_name, fontsize=14)\n",
    "    ax.xaxis.grid(True)\n",
    "    ax.set_xlim(1,4)\n",
    "    ax.set_ylim((0,s_values.max()*1.1))\n",
    "    ax.set_xticks([1,2,3,4])"
   ]
  },
  {
   "cell_type": "code",
   "execution_count": null,
   "metadata": {},
   "outputs": [],
   "source": [
    "# calculate average unweighted degree for each window - i.e. number of unique contacts\n",
    "values = {}\n",
    "for day in range(1,5):\n",
    "    # get the unweighted degree values for all nodes in this day's network\n",
    "    degree_values = dict(window_networks[day].degree()).values()\n",
    "    # get the mean value\n",
    "    values[day] = sum(degree_values)/len(degree_values)\n",
    "gen_ts_plot(values, \"Mean unique contacts\", \"blue\")"
   ]
  },
  {
   "cell_type": "markdown",
   "metadata": {},
   "source": [
    "From the time window networks above, we can generate a time series plot showing the average number of total contacts for each node per day."
   ]
  },
  {
   "cell_type": "code",
   "execution_count": null,
   "metadata": {},
   "outputs": [],
   "source": [
    "# calculate average weight degree for each window - i.e. number of total contacts\n",
    "values = {}\n",
    "for day in range(1,5):\n",
    "    # get the weighted degree values for all nodes in this day's network\n",
    "    wdegree_values = dict(window_networks[day].degree(weight=\"weight\")).values()\n",
    "    # get the mean value\n",
    "    values[day] = sum(wdegree_values)/len(wdegree_values)\n",
    "gen_ts_plot(values, \"Mean total contacts\", \"blue\")"
   ]
  },
  {
   "cell_type": "markdown",
   "metadata": {},
   "source": [
    "For each time window network, we can identify the node with the highest weighted degree (i.e. the highest number of contacts during that day):"
   ]
  },
  {
   "cell_type": "code",
   "execution_count": null,
   "metadata": {},
   "outputs": [],
   "source": [
    "# get the node with the highest\n",
    "max_node_ids = {}\n",
    "for day in range(1,5):\n",
    "    wdegree = dict(window_networks[day].degree(weight=\"weight\"))\n",
    "    # convert to a Pandas series\n",
    "    s_wdeg = pd.Series(wdegree)\n",
    "    # get the node with the maximum value \n",
    "    max_node = s_wdeg.idxmax()\n",
    "    max_node_ids[day] = max_node\n",
    "    print(\"Day %d: Node %d has highest weighted degree of %d\" % ( day, max_node, s_wdeg[max_node] ) )    "
   ]
  },
  {
   "cell_type": "markdown",
   "metadata": {},
   "source": [
    "We could look at the ego network for each of these nodes:"
   ]
  },
  {
   "cell_type": "code",
   "execution_count": null,
   "metadata": {},
   "outputs": [],
   "source": [
    "# generate the ego network for each one\n",
    "ego_networks = {}\n",
    "rows = []\n",
    "for day in range(1,5):\n",
    "    ego_node_id = max_node_ids[day]\n",
    "    print(\"Day %d: Creating ego network for node %s\" % (day, ego_node_id))\n",
    "    eg = nx.ego_graph(window_networks[day], ego_node_id)\n",
    "    ego_networks[day] = eg\n",
    "    den = nx.density(eg)\n",
    "    # calculate some network statistics\n",
    "    rows.append( {\"day\" : day, \n",
    "        \"ego_node_id\" : ego_node_id, \n",
    "        \"ego_name\" : df_metadata[\"name\"][ego_node_id],\n",
    "        \"ego_role\" : df_metadata[\"role\"][ego_node_id],\n",
    "        \"nodes\" : eg.number_of_nodes(),\n",
    "        \"edges\" : eg.number_of_edges(),\n",
    "        \"density\" : den} )"
   ]
  },
  {
   "cell_type": "code",
   "execution_count": null,
   "metadata": {},
   "outputs": [],
   "source": [
    "# display the details as a Data Frame\n",
    "pd.DataFrame(rows).set_index(\"day\")"
   ]
  },
  {
   "cell_type": "markdown",
   "metadata": {},
   "source": [
    "For further exploration, we could export each of these ego networks as a GEXF file and visualise them using Gephi:"
   ]
  },
  {
   "cell_type": "code",
   "execution_count": null,
   "metadata": {},
   "outputs": [],
   "source": [
    "# save the first ego network\n",
    "for day in ego_networks:\n",
    "    nx.write_gexf(ego_networks[day], \"contacts-ego-day%d.gexf\" % day)"
   ]
  }
 ],
 "metadata": {
  "kernelspec": {
   "display_name": "Python 3 (ipykernel)",
   "language": "python",
   "name": "python3"
  },
  "language_info": {
   "codemirror_mode": {
    "name": "ipython",
    "version": 3
   },
   "file_extension": ".py",
   "mimetype": "text/x-python",
   "name": "python",
   "nbconvert_exporter": "python",
   "pygments_lexer": "ipython3",
   "version": "3.9.7"
  }
 },
 "nbformat": 4,
 "nbformat_minor": 2
}
