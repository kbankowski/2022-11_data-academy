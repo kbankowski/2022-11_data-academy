{
 "cells": [
  {
   "attachments": {},
   "cell_type": "markdown",
   "metadata": {},
   "source": [
    "# Follower network"
   ]
  },
  {
   "attachments": {},
   "cell_type": "markdown",
   "metadata": {},
   "source": [
    "First, import the required modules, including NetworkX package:"
   ]
  },
  {
   "cell_type": "code",
   "execution_count": 3,
   "metadata": {},
   "outputs": [],
   "source": [
    "from pathlib import Path\n",
    "import pandas as pd\n",
    "import networkx as nx\n",
    "import matplotlib.pyplot as plt\n",
    "pd.set_option('display.precision', 3)\n",
    "pd.set_option('display.max_columns', None)\n",
    "from adjustText import adjust_text\n",
    "import json\n",
    "import numpy as np\n",
    "from pandas import json_normalize"
   ]
  },
  {
   "attachments": {},
   "cell_type": "markdown",
   "metadata": {},
   "source": [
    "## Data Loading\n",
    "We will load the friend/follower relations between pairs of list members from friendships.csv into a Pandas Data Frame. "
   ]
  },
  {
   "cell_type": "code",
   "execution_count": 7,
   "metadata": {},
   "outputs": [
    {
     "name": "stdout",
     "output_type": "stream",
     "text": [
      "Read 308 Twitter relations\n"
     ]
    },
    {
     "data": {
      "text/html": [
       "<div>\n",
       "<style scoped>\n",
       "    .dataframe tbody tr th:only-of-type {\n",
       "        vertical-align: middle;\n",
       "    }\n",
       "\n",
       "    .dataframe tbody tr th {\n",
       "        vertical-align: top;\n",
       "    }\n",
       "\n",
       "    .dataframe thead th {\n",
       "        text-align: right;\n",
       "    }\n",
       "</style>\n",
       "<table border=\"1\" class=\"dataframe\">\n",
       "  <thead>\n",
       "    <tr style=\"text-align: right;\">\n",
       "      <th></th>\n",
       "      <th>FRIEND</th>\n",
       "      <th>FOLLOWER</th>\n",
       "    </tr>\n",
       "  </thead>\n",
       "  <tbody>\n",
       "    <tr>\n",
       "      <th>0</th>\n",
       "      <td>apbusiness</td>\n",
       "      <td>bbcbusiness</td>\n",
       "    </tr>\n",
       "    <tr>\n",
       "      <th>1</th>\n",
       "      <td>apbusiness</td>\n",
       "      <td>business</td>\n",
       "    </tr>\n",
       "    <tr>\n",
       "      <th>2</th>\n",
       "      <td>apbusiness</td>\n",
       "      <td>businessinsider</td>\n",
       "    </tr>\n",
       "    <tr>\n",
       "      <th>3</th>\n",
       "      <td>apbusiness</td>\n",
       "      <td>bw</td>\n",
       "    </tr>\n",
       "    <tr>\n",
       "      <th>4</th>\n",
       "      <td>apbusiness</td>\n",
       "      <td>cnnbusiness</td>\n",
       "    </tr>\n",
       "    <tr>\n",
       "      <th>5</th>\n",
       "      <td>apbusiness</td>\n",
       "      <td>fastcompany</td>\n",
       "    </tr>\n",
       "    <tr>\n",
       "      <th>6</th>\n",
       "      <td>apbusiness</td>\n",
       "      <td>financialtimes</td>\n",
       "    </tr>\n",
       "    <tr>\n",
       "      <th>7</th>\n",
       "      <td>apbusiness</td>\n",
       "      <td>forbes</td>\n",
       "    </tr>\n",
       "    <tr>\n",
       "      <th>8</th>\n",
       "      <td>apbusiness</td>\n",
       "      <td>foxbusiness</td>\n",
       "    </tr>\n",
       "    <tr>\n",
       "      <th>9</th>\n",
       "      <td>apbusiness</td>\n",
       "      <td>ft</td>\n",
       "    </tr>\n",
       "  </tbody>\n",
       "</table>\n",
       "</div>"
      ],
      "text/plain": [
       "       FRIEND         FOLLOWER\n",
       "0  apbusiness      bbcbusiness\n",
       "1  apbusiness         business\n",
       "2  apbusiness  businessinsider\n",
       "3  apbusiness               bw\n",
       "4  apbusiness      cnnbusiness\n",
       "5  apbusiness      fastcompany\n",
       "6  apbusiness   financialtimes\n",
       "7  apbusiness           forbes\n",
       "8  apbusiness      foxbusiness\n",
       "9  apbusiness               ft"
      ]
     },
     "execution_count": 7,
     "metadata": {},
     "output_type": "execute_result"
    }
   ],
   "source": [
    "in_path = Path(\"./business\", \"friendships.csv\")\n",
    "# create the Data Frame\n",
    "df = pd.read_csv(in_path, sep='\\t')\n",
    "print(\"Read %d Twitter relations\" % len(df))\n",
    "# display a few rows\n",
    "df.head(10)\n",
    "\n"
   ]
  },
  {
   "attachments": {},
   "cell_type": "markdown",
   "metadata": {},
   "source": [
    "Load the members from list_members.jsonl into a Pandas Data Frame. "
   ]
  },
  {
   "cell_type": "code",
   "execution_count": 14,
   "metadata": {},
   "outputs": [
    {
     "name": "stdout",
     "output_type": "stream",
     "text": [
      "Read 33 members\n"
     ]
    },
    {
     "name": "stderr",
     "output_type": "stream",
     "text": [
      "/tmp/ipykernel_7321/2851683304.py:11: SettingWithCopyWarning: \n",
      "A value is trying to be set on a copy of a slice from a DataFrame.\n",
      "Try using .loc[row_indexer,col_indexer] = value instead\n",
      "\n",
      "See the caveats in the documentation: https://pandas.pydata.org/pandas-docs/stable/user_guide/indexing.html#returning-a-view-versus-a-copy\n",
      "  df2_selected['screen_name'] = df2_selected['screen_name'].str.lower()\n"
     ]
    },
    {
     "data": {
      "text/html": [
       "<div>\n",
       "<style scoped>\n",
       "    .dataframe tbody tr th:only-of-type {\n",
       "        vertical-align: middle;\n",
       "    }\n",
       "\n",
       "    .dataframe tbody tr th {\n",
       "        vertical-align: top;\n",
       "    }\n",
       "\n",
       "    .dataframe thead th {\n",
       "        text-align: right;\n",
       "    }\n",
       "</style>\n",
       "<table border=\"1\" class=\"dataframe\">\n",
       "  <thead>\n",
       "    <tr style=\"text-align: right;\">\n",
       "      <th></th>\n",
       "      <th>id</th>\n",
       "      <th>screen_name</th>\n",
       "    </tr>\n",
       "  </thead>\n",
       "  <tbody>\n",
       "    <tr>\n",
       "      <th>0</th>\n",
       "      <td>3066084185</td>\n",
       "      <td>apbusiness</td>\n",
       "    </tr>\n",
       "    <tr>\n",
       "      <th>32</th>\n",
       "      <td>621523</td>\n",
       "      <td>bbcbusiness</td>\n",
       "    </tr>\n",
       "    <tr>\n",
       "      <th>1</th>\n",
       "      <td>2252205206</td>\n",
       "      <td>bbcworldbiz</td>\n",
       "    </tr>\n",
       "    <tr>\n",
       "      <th>8</th>\n",
       "      <td>34713362</td>\n",
       "      <td>business</td>\n",
       "    </tr>\n",
       "    <tr>\n",
       "      <th>10</th>\n",
       "      <td>25070893</td>\n",
       "      <td>businessdesk</td>\n",
       "    </tr>\n",
       "    <tr>\n",
       "      <th>12</th>\n",
       "      <td>20562637</td>\n",
       "      <td>businessinsider</td>\n",
       "    </tr>\n",
       "    <tr>\n",
       "      <th>6</th>\n",
       "      <td>67358777</td>\n",
       "      <td>bw</td>\n",
       "    </tr>\n",
       "    <tr>\n",
       "      <th>20</th>\n",
       "      <td>16184358</td>\n",
       "      <td>cnnbusiness</td>\n",
       "    </tr>\n",
       "    <tr>\n",
       "      <th>15</th>\n",
       "      <td>19407053</td>\n",
       "      <td>entrepreneur</td>\n",
       "    </tr>\n",
       "    <tr>\n",
       "      <th>29</th>\n",
       "      <td>2735591</td>\n",
       "      <td>fastcompany</td>\n",
       "    </tr>\n",
       "    <tr>\n",
       "      <th>27</th>\n",
       "      <td>4898091</td>\n",
       "      <td>financialtimes</td>\n",
       "    </tr>\n",
       "    <tr>\n",
       "      <th>4</th>\n",
       "      <td>91478624</td>\n",
       "      <td>forbes</td>\n",
       "    </tr>\n",
       "    <tr>\n",
       "      <th>7</th>\n",
       "      <td>56413858</td>\n",
       "      <td>foxbusiness</td>\n",
       "    </tr>\n",
       "    <tr>\n",
       "      <th>16</th>\n",
       "      <td>18949452</td>\n",
       "      <td>ft</td>\n",
       "    </tr>\n",
       "    <tr>\n",
       "      <th>26</th>\n",
       "      <td>11014272</td>\n",
       "      <td>ftfinancenews</td>\n",
       "    </tr>\n",
       "    <tr>\n",
       "      <th>24</th>\n",
       "      <td>14800270</td>\n",
       "      <td>harvardbiz</td>\n",
       "    </tr>\n",
       "    <tr>\n",
       "      <th>3</th>\n",
       "      <td>95213382</td>\n",
       "      <td>indobusiness</td>\n",
       "    </tr>\n",
       "    <tr>\n",
       "      <th>18</th>\n",
       "      <td>16737418</td>\n",
       "      <td>irishtimesbiz</td>\n",
       "    </tr>\n",
       "    <tr>\n",
       "      <th>5</th>\n",
       "      <td>69620713</td>\n",
       "      <td>markets</td>\n",
       "    </tr>\n",
       "    <tr>\n",
       "      <th>31</th>\n",
       "      <td>624413</td>\n",
       "      <td>marketwatch</td>\n",
       "    </tr>\n",
       "    <tr>\n",
       "      <th>17</th>\n",
       "      <td>18639734</td>\n",
       "      <td>nasdaq</td>\n",
       "    </tr>\n",
       "    <tr>\n",
       "      <th>25</th>\n",
       "      <td>11856142</td>\n",
       "      <td>nbcnewsbusiness</td>\n",
       "    </tr>\n",
       "    <tr>\n",
       "      <th>30</th>\n",
       "      <td>1754641</td>\n",
       "      <td>nytimesbusiness</td>\n",
       "    </tr>\n",
       "    <tr>\n",
       "      <th>23</th>\n",
       "      <td>15110357</td>\n",
       "      <td>reutersbiz</td>\n",
       "    </tr>\n",
       "    <tr>\n",
       "      <th>2</th>\n",
       "      <td>224240358</td>\n",
       "      <td>reutersmoney</td>\n",
       "    </tr>\n",
       "    <tr>\n",
       "      <th>14</th>\n",
       "      <td>19536881</td>\n",
       "      <td>telebusiness</td>\n",
       "    </tr>\n",
       "    <tr>\n",
       "      <th>22</th>\n",
       "      <td>15281391</td>\n",
       "      <td>thestreet</td>\n",
       "    </tr>\n",
       "    <tr>\n",
       "      <th>21</th>\n",
       "      <td>15764136</td>\n",
       "      <td>usatodaymoney</td>\n",
       "    </tr>\n",
       "    <tr>\n",
       "      <th>28</th>\n",
       "      <td>3108351</td>\n",
       "      <td>wsj</td>\n",
       "    </tr>\n",
       "    <tr>\n",
       "      <th>9</th>\n",
       "      <td>28140646</td>\n",
       "      <td>wsjbusiness</td>\n",
       "    </tr>\n",
       "    <tr>\n",
       "      <th>19</th>\n",
       "      <td>16334857</td>\n",
       "      <td>wsjecon</td>\n",
       "    </tr>\n",
       "    <tr>\n",
       "      <th>13</th>\n",
       "      <td>19546277</td>\n",
       "      <td>yahoofinance</td>\n",
       "    </tr>\n",
       "    <tr>\n",
       "      <th>11</th>\n",
       "      <td>21696535</td>\n",
       "      <td>yahoofinanceuk</td>\n",
       "    </tr>\n",
       "  </tbody>\n",
       "</table>\n",
       "</div>"
      ],
      "text/plain": [
       "            id      screen_name\n",
       "0   3066084185       apbusiness\n",
       "32      621523      bbcbusiness\n",
       "1   2252205206      bbcworldbiz\n",
       "8     34713362         business\n",
       "10    25070893     businessdesk\n",
       "12    20562637  businessinsider\n",
       "6     67358777               bw\n",
       "20    16184358      cnnbusiness\n",
       "15    19407053     entrepreneur\n",
       "29     2735591      fastcompany\n",
       "27     4898091   financialtimes\n",
       "4     91478624           forbes\n",
       "7     56413858      foxbusiness\n",
       "16    18949452               ft\n",
       "26    11014272    ftfinancenews\n",
       "24    14800270       harvardbiz\n",
       "3     95213382     indobusiness\n",
       "18    16737418    irishtimesbiz\n",
       "5     69620713          markets\n",
       "31      624413      marketwatch\n",
       "17    18639734           nasdaq\n",
       "25    11856142  nbcnewsbusiness\n",
       "30     1754641  nytimesbusiness\n",
       "23    15110357       reutersbiz\n",
       "2    224240358     reutersmoney\n",
       "14    19536881     telebusiness\n",
       "22    15281391        thestreet\n",
       "21    15764136    usatodaymoney\n",
       "28     3108351              wsj\n",
       "9     28140646      wsjbusiness\n",
       "19    16334857          wsjecon\n",
       "13    19546277     yahoofinance\n",
       "11    21696535   yahoofinanceuk"
      ]
     },
     "execution_count": 14,
     "metadata": {},
     "output_type": "execute_result"
    }
   ],
   "source": [
    "in_path2 = Path(\"./business\", \"list_members.jsonl\")\n",
    "# create the Data Frame\n",
    "df2 = pd.read_json(in_path2, lines=True)\n",
    "print(\"Read %d members\" % len(df2))\n",
    "\n",
    "# Select relevant columns from the dataframe\n",
    "selected_columns = ['id', 'screen_name']\n",
    "df2_selected = df2[selected_columns] \n",
    "\n",
    "# Transform the 'Name' column to lowercase\n",
    "df2_selected['screen_name'] = df2_selected['screen_name'].str.lower()\n",
    "\n",
    "# Sort the dataframe to see the names alphabetically\n",
    "df2_selected_modi_sorted = df2_selected.sort_values(by='screen_name')\n",
    "\n",
    "# Display a framgment of relevant dataframe\n",
    "df2_selected_modi_sorted.head(len(df2))\n"
   ]
  },
  {
   "attachments": {},
   "cell_type": "markdown",
   "metadata": {},
   "source": [
    "Create a dataframe of **retweets** based on tweets.jsonl. "
   ]
  },
  {
   "cell_type": "code",
   "execution_count": 10,
   "metadata": {},
   "outputs": [
    {
     "name": "stdout",
     "output_type": "stream",
     "text": [
      "The number of replies: 3569\n"
     ]
    },
    {
     "data": {
      "text/html": [
       "<div>\n",
       "<style scoped>\n",
       "    .dataframe tbody tr th:only-of-type {\n",
       "        vertical-align: middle;\n",
       "    }\n",
       "\n",
       "    .dataframe tbody tr th {\n",
       "        vertical-align: top;\n",
       "    }\n",
       "\n",
       "    .dataframe thead th {\n",
       "        text-align: right;\n",
       "    }\n",
       "</style>\n",
       "<table border=\"1\" class=\"dataframe\">\n",
       "  <thead>\n",
       "    <tr style=\"text-align: right;\">\n",
       "      <th></th>\n",
       "      <th>user.id</th>\n",
       "      <th>retweeted_status.user.id</th>\n",
       "    </tr>\n",
       "  </thead>\n",
       "  <tbody>\n",
       "    <tr>\n",
       "      <th>0</th>\n",
       "      <td>224240358</td>\n",
       "      <td>15110357</td>\n",
       "    </tr>\n",
       "    <tr>\n",
       "      <th>1</th>\n",
       "      <td>19536881</td>\n",
       "      <td>1020203322</td>\n",
       "    </tr>\n",
       "    <tr>\n",
       "      <th>2</th>\n",
       "      <td>11856142</td>\n",
       "      <td>2760484711</td>\n",
       "    </tr>\n",
       "    <tr>\n",
       "      <th>3</th>\n",
       "      <td>3066084185</td>\n",
       "      <td>51241574</td>\n",
       "    </tr>\n",
       "    <tr>\n",
       "      <th>4</th>\n",
       "      <td>20562637</td>\n",
       "      <td>3224616765</td>\n",
       "    </tr>\n",
       "  </tbody>\n",
       "</table>\n",
       "</div>"
      ],
      "text/plain": [
       "      user.id  retweeted_status.user.id\n",
       "0   224240358                  15110357\n",
       "1    19536881                1020203322\n",
       "2    11856142                2760484711\n",
       "3  3066084185                  51241574\n",
       "4    20562637                3224616765"
      ]
     },
     "execution_count": 10,
     "metadata": {},
     "output_type": "execute_result"
    }
   ],
   "source": [
    "# Replace 'your_file.jsonl' with the path to your JSONL file\n",
    "file_path = Path(\"./business\", \"tweets.jsonl\")\n",
    "field_name = 'retweeted_status'\n",
    "\n",
    "json_objects = []\n",
    "\n",
    "with open(file_path, 'r') as file:\n",
    "    for line in file:\n",
    "        json_object = json.loads(line)\n",
    "        # read only retweets (i.e. in_reply_to_screen_name with non-missing values)\n",
    "        if not pd.isna(json_object.get(field_name)):\n",
    "            json_objects.append(json_object)\n",
    "\n",
    "# Create a pandas DataFrame from the list of JSON objects\n",
    "df3 = json_normalize(json_objects)\n",
    "\n",
    "# Select relevant columns from the dataframe\n",
    "selected_columns = ['user.id', 'retweeted_status.user.id']\n",
    "df3_selected = df3[selected_columns] \n",
    "\n",
    "# Report the size of retweet dataframe and show part of it\n",
    "print(\"The number of replies: %d\" % len(df3_selected))\n",
    "df3_selected.head()"
   ]
  },
  {
   "attachments": {},
   "cell_type": "markdown",
   "metadata": {},
   "source": [
    "Create a dataframe of **reply** based on tweets.jsonl. "
   ]
  },
  {
   "cell_type": "code",
   "execution_count": 12,
   "metadata": {},
   "outputs": [
    {
     "name": "stdout",
     "output_type": "stream",
     "text": [
      "The number of replies: 384\n"
     ]
    },
    {
     "data": {
      "text/html": [
       "<div>\n",
       "<style scoped>\n",
       "    .dataframe tbody tr th:only-of-type {\n",
       "        vertical-align: middle;\n",
       "    }\n",
       "\n",
       "    .dataframe tbody tr th {\n",
       "        vertical-align: top;\n",
       "    }\n",
       "\n",
       "    .dataframe thead th {\n",
       "        text-align: right;\n",
       "    }\n",
       "</style>\n",
       "<table border=\"1\" class=\"dataframe\">\n",
       "  <thead>\n",
       "    <tr style=\"text-align: right;\">\n",
       "      <th></th>\n",
       "      <th>user.id</th>\n",
       "      <th>in_reply_to_screen_name</th>\n",
       "    </tr>\n",
       "  </thead>\n",
       "  <tbody>\n",
       "    <tr>\n",
       "      <th>0</th>\n",
       "      <td>15281391</td>\n",
       "      <td>TheStreet</td>\n",
       "    </tr>\n",
       "    <tr>\n",
       "      <th>1</th>\n",
       "      <td>4898091</td>\n",
       "      <td>FinancialTimes</td>\n",
       "    </tr>\n",
       "    <tr>\n",
       "      <th>2</th>\n",
       "      <td>4898091</td>\n",
       "      <td>FinancialTimes</td>\n",
       "    </tr>\n",
       "    <tr>\n",
       "      <th>3</th>\n",
       "      <td>19536881</td>\n",
       "      <td>telebusiness</td>\n",
       "    </tr>\n",
       "    <tr>\n",
       "      <th>4</th>\n",
       "      <td>18639734</td>\n",
       "      <td>Nasdaq</td>\n",
       "    </tr>\n",
       "  </tbody>\n",
       "</table>\n",
       "</div>"
      ],
      "text/plain": [
       "    user.id in_reply_to_screen_name\n",
       "0  15281391               TheStreet\n",
       "1   4898091          FinancialTimes\n",
       "2   4898091          FinancialTimes\n",
       "3  19536881            telebusiness\n",
       "4  18639734                  Nasdaq"
      ]
     },
     "execution_count": 12,
     "metadata": {},
     "output_type": "execute_result"
    }
   ],
   "source": [
    "# Replace 'your_file.jsonl' with the path to your JSONL file\n",
    "file_path = Path(\"./business\", \"tweets.jsonl\")\n",
    "field_name = 'in_reply_to_screen_name'\n",
    "\n",
    "json_objects = []\n",
    "\n",
    "with open(file_path, 'r') as file:\n",
    "    for line in file:\n",
    "        json_object = json.loads(line)\n",
    "        # read only retweets (i.e. in_reply_to_screen_name with non-missing values)\n",
    "        if not pd.isna(json_object.get(field_name)):\n",
    "            json_objects.append(json_object)\n",
    "\n",
    "# Create a pandas DataFrame from the list of JSON objects\n",
    "df4 = json_normalize(json_objects)\n",
    "\n",
    "# Select relevant columns from the dataframe\n",
    "selected_columns = ['user.id', 'in_reply_to_screen_name']\n",
    "df4_selected = df4[selected_columns] \n",
    "\n",
    "# Report the size of retweet dataframe\n",
    "print(\"The number of replies: %d\" % len(df4_selected))\n",
    "\n",
    "df4_selected.head(4)"
   ]
  },
  {
   "cell_type": "code",
   "execution_count": 32,
   "metadata": {},
   "outputs": [
    {
     "name": "stdout",
     "output_type": "stream",
     "text": [
      "The number of replies: 384\n",
      "The number of replies: 98\n"
     ]
    },
    {
     "data": {
      "text/html": [
       "<div>\n",
       "<style scoped>\n",
       "    .dataframe tbody tr th:only-of-type {\n",
       "        vertical-align: middle;\n",
       "    }\n",
       "\n",
       "    .dataframe tbody tr th {\n",
       "        vertical-align: top;\n",
       "    }\n",
       "\n",
       "    .dataframe thead th {\n",
       "        text-align: right;\n",
       "    }\n",
       "</style>\n",
       "<table border=\"1\" class=\"dataframe\">\n",
       "  <thead>\n",
       "    <tr style=\"text-align: right;\">\n",
       "      <th></th>\n",
       "      <th>screen_name</th>\n",
       "      <th>in_reply_to_screen_name</th>\n",
       "    </tr>\n",
       "  </thead>\n",
       "  <tbody>\n",
       "    <tr>\n",
       "      <th>5</th>\n",
       "      <td>thestreet</td>\n",
       "      <td>twitterspaces</td>\n",
       "    </tr>\n",
       "    <tr>\n",
       "      <th>11</th>\n",
       "      <td>thestreet</td>\n",
       "      <td>wolf_financial</td>\n",
       "    </tr>\n",
       "    <tr>\n",
       "      <th>18</th>\n",
       "      <td>financialtimes</td>\n",
       "      <td>goldstone_tony</td>\n",
       "    </tr>\n",
       "    <tr>\n",
       "      <th>21</th>\n",
       "      <td>financialtimes</td>\n",
       "      <td>theblackmnts</td>\n",
       "    </tr>\n",
       "    <tr>\n",
       "      <th>26</th>\n",
       "      <td>financialtimes</td>\n",
       "      <td>lindabrooke6</td>\n",
       "    </tr>\n",
       "  </tbody>\n",
       "</table>\n",
       "</div>"
      ],
      "text/plain": [
       "       screen_name in_reply_to_screen_name\n",
       "5        thestreet           twitterspaces\n",
       "11       thestreet          wolf_financial\n",
       "18  financialtimes          goldstone_tony\n",
       "21  financialtimes            theblackmnts\n",
       "26  financialtimes            lindabrooke6"
      ]
     },
     "execution_count": 32,
     "metadata": {},
     "output_type": "execute_result"
    }
   ],
   "source": [
    "# Replace the user id by the name\n",
    "merged_df = df4_selected.merge(df2_selected_modi_sorted, left_on='user.id', right_on='id')\n",
    "\n",
    "print(\"The number of replies: %d\" % len(merged_df))\n",
    "merged_df['in_reply_to_screen_name'] = merged_df['in_reply_to_screen_name'].str.lower()\n",
    "merged_df.head(384)\n",
    "\n",
    "different_values_bool = merged_df[merged_df['in_reply_to_screen_name'] != merged_df['screen_name']]\n",
    "print(\"The number of replies: %d\" % len(different_values_bool))\n",
    "\n",
    "\n",
    "selected_columns = ['screen_name', 'in_reply_to_screen_name']\n",
    "different_values_bool = different_values_bool[selected_columns] \n",
    "different_values_bool.head()"
   ]
  },
  {
   "attachments": {},
   "cell_type": "markdown",
   "metadata": {},
   "source": [
    "Create a dataframe of **retweets** based on tweets.jsonl. "
   ]
  },
  {
   "attachments": {},
   "cell_type": "markdown",
   "metadata": {},
   "source": [
    "## Creating a Directed Network\n",
    "\n",
    "We will now construct a *directed unweighted network* such that:\n",
    "\n",
    "- There is a node for each Twitter user.\n",
    "- There is a directed edge between each unique user and follower pair."
   ]
  },
  {
   "attachments": {},
   "cell_type": "markdown",
   "metadata": {},
   "source": [
    "First, get the set of all users:"
   ]
  },
  {
   "cell_type": "code",
   "execution_count": 22,
   "metadata": {},
   "outputs": [
    {
     "name": "stdout",
     "output_type": "stream",
     "text": [
      "1: businessinsider\n",
      "2: financialtimes\n",
      "3: bbcbusiness\n",
      "4: ftfinancenews\n",
      "5: usatodaymoney\n",
      "6: forbes\n",
      "7: harvardbiz\n",
      "8: markets\n",
      "9: wsjecon\n",
      "10: apbusiness\n",
      "11: nytimesbusiness\n",
      "12: foxbusiness\n",
      "13: wsj\n",
      "14: yahoofinanceuk\n",
      "15: entrepreneur\n",
      "16: reutersmoney\n",
      "17: bbcworldbiz\n",
      "18: reutersbiz\n",
      "19: bw\n",
      "20: yahoofinance\n",
      "21: business\n",
      "22: thestreet\n",
      "23: fastcompany\n",
      "24: ft\n",
      "25: nbcnewsbusiness\n",
      "26: marketwatch\n",
      "27: irishtimesbiz\n",
      "28: wsjbusiness\n",
      "29: nasdaq\n",
      "30: cnnbusiness\n",
      "31: indobusiness\n",
      "32: businessdesk\n",
      "33: telebusiness\n"
     ]
    }
   ],
   "source": [
    "# get set of all users\n",
    "friends = set(df[\"FRIEND\"].unique())\n",
    "followers = set(df[\"FOLLOWER\"].unique())\n",
    "users = friends.union(followers)\n",
    "\n",
    "# just print to see how many and what users we have\n",
    "for index, element in enumerate(users, start=1):\n",
    "    print(f\"{index}: {element}\")"
   ]
  },
  {
   "attachments": {},
   "cell_type": "markdown",
   "metadata": {},
   "source": [
    "Create a directed network, with a node for each user:"
   ]
  },
  {
   "cell_type": "code",
   "execution_count": 23,
   "metadata": {},
   "outputs": [],
   "source": [
    "# here a DiGraph indicates a directed network\n",
    "g = nx.DiGraph()\n",
    "nodes = sorted(list(users))\n",
    "for node in nodes:\n",
    "    # we add the city name as an attribute\n",
    "    g.add_node(node)"
   ]
  },
  {
   "attachments": {},
   "cell_type": "markdown",
   "metadata": {},
   "source": [
    "Create a directed edge between each unique friend and follower pair, based on the Twitter friendships.csv file"
   ]
  },
  {
   "cell_type": "code",
   "execution_count": 24,
   "metadata": {},
   "outputs": [],
   "source": [
    "for i, row in df.iterrows():\n",
    "    node1 = row[\"FRIEND\"]\n",
    "    node2 = row[\"FOLLOWER\"]\n",
    "    # ignore self-loops, in case they exist\n",
    "    if node1 == node2:\n",
    "        continue\n",
    "    g.add_edge(node1, node2)"
   ]
  },
  {
   "attachments": {},
   "cell_type": "markdown",
   "metadata": {},
   "source": [
    "## Characterising the network using statistics"
   ]
  },
  {
   "attachments": {},
   "cell_type": "markdown",
   "metadata": {},
   "source": [
    "### We check **the basic characteristics** of our network:\n",
    "- number of nodes and edges\n",
    "- density\n",
    "- number of strongly connected components"
   ]
  },
  {
   "cell_type": "code",
   "execution_count": 25,
   "metadata": {},
   "outputs": [
    {
     "name": "stdout",
     "output_type": "stream",
     "text": [
      "Network has 33 nodes and 308 edges\n",
      "Density = 0.2917\n",
      "Number of strongly connected components = 5\n"
     ]
    }
   ],
   "source": [
    "print(\"Network has %d nodes and %d edges\" % (g.number_of_nodes(), g.number_of_edges()))\n",
    "print(\"Density = %.4f\" % nx.density(g))\n",
    "print(\"Number of strongly connected components = %.0f\" % nx.number_strongly_connected_components(g))"
   ]
  },
  {
   "attachments": {},
   "cell_type": "markdown",
   "metadata": {},
   "source": [
    "### We measure **the centrality** of our network\n",
    "- number of connections of each note (the simplest measure of centrality)"
   ]
  },
  {
   "cell_type": "code",
   "execution_count": 26,
   "metadata": {},
   "outputs": [
    {
     "data": {
      "text/plain": [
       "{'apbusiness': 26,\n",
       " 'bbcbusiness': 13,\n",
       " 'bbcworldbiz': 1,\n",
       " 'business': 31,\n",
       " 'businessdesk': 26,\n",
       " 'businessinsider': 20,\n",
       " 'bw': 19,\n",
       " 'cnnbusiness': 23,\n",
       " 'entrepreneur': 8,\n",
       " 'fastcompany': 17,\n",
       " 'financialtimes': 31,\n",
       " 'forbes': 23,\n",
       " 'foxbusiness': 16,\n",
       " 'ft': 36,\n",
       " 'ftfinancenews': 11,\n",
       " 'harvardbiz': 13,\n",
       " 'indobusiness': 2,\n",
       " 'irishtimesbiz': 7,\n",
       " 'markets': 7,\n",
       " 'marketwatch': 14,\n",
       " 'nasdaq': 38,\n",
       " 'nbcnewsbusiness': 30,\n",
       " 'nytimesbusiness': 27,\n",
       " 'reutersbiz': 17,\n",
       " 'reutersmoney': 17,\n",
       " 'telebusiness': 23,\n",
       " 'thestreet': 14,\n",
       " 'usatodaymoney': 34,\n",
       " 'wsj': 22,\n",
       " 'wsjbusiness': 14,\n",
       " 'wsjecon': 13,\n",
       " 'yahoofinance': 16,\n",
       " 'yahoofinanceuk': 7}"
      ]
     },
     "execution_count": 26,
     "metadata": {},
     "output_type": "execute_result"
    }
   ],
   "source": [
    "# We can use networkX to produce a dictionary of centrality values, where the keys are the nodes.\n",
    "deg = dict(nx.degree(g))\n",
    "deg"
   ]
  },
  {
   "attachments": {},
   "cell_type": "markdown",
   "metadata": {},
   "source": [
    "We identify users with **the larges amount** of connections"
   ]
  },
  {
   "cell_type": "code",
   "execution_count": 27,
   "metadata": {},
   "outputs": [
    {
     "data": {
      "text/html": [
       "<div>\n",
       "<style scoped>\n",
       "    .dataframe tbody tr th:only-of-type {\n",
       "        vertical-align: middle;\n",
       "    }\n",
       "\n",
       "    .dataframe tbody tr th {\n",
       "        vertical-align: top;\n",
       "    }\n",
       "\n",
       "    .dataframe thead th {\n",
       "        text-align: right;\n",
       "    }\n",
       "</style>\n",
       "<table border=\"1\" class=\"dataframe\">\n",
       "  <thead>\n",
       "    <tr style=\"text-align: right;\">\n",
       "      <th></th>\n",
       "      <th>Degree</th>\n",
       "    </tr>\n",
       "  </thead>\n",
       "  <tbody>\n",
       "    <tr>\n",
       "      <th>nasdaq</th>\n",
       "      <td>38</td>\n",
       "    </tr>\n",
       "    <tr>\n",
       "      <th>ft</th>\n",
       "      <td>36</td>\n",
       "    </tr>\n",
       "    <tr>\n",
       "      <th>usatodaymoney</th>\n",
       "      <td>34</td>\n",
       "    </tr>\n",
       "    <tr>\n",
       "      <th>financialtimes</th>\n",
       "      <td>31</td>\n",
       "    </tr>\n",
       "    <tr>\n",
       "      <th>business</th>\n",
       "      <td>31</td>\n",
       "    </tr>\n",
       "    <tr>\n",
       "      <th>nbcnewsbusiness</th>\n",
       "      <td>30</td>\n",
       "    </tr>\n",
       "    <tr>\n",
       "      <th>nytimesbusiness</th>\n",
       "      <td>27</td>\n",
       "    </tr>\n",
       "    <tr>\n",
       "      <th>apbusiness</th>\n",
       "      <td>26</td>\n",
       "    </tr>\n",
       "    <tr>\n",
       "      <th>businessdesk</th>\n",
       "      <td>26</td>\n",
       "    </tr>\n",
       "    <tr>\n",
       "      <th>telebusiness</th>\n",
       "      <td>23</td>\n",
       "    </tr>\n",
       "  </tbody>\n",
       "</table>\n",
       "</div>"
      ],
      "text/plain": [
       "                 Degree\n",
       "nasdaq               38\n",
       "ft                   36\n",
       "usatodaymoney        34\n",
       "financialtimes       31\n",
       "business             31\n",
       "nbcnewsbusiness      30\n",
       "nytimesbusiness      27\n",
       "apbusiness           26\n",
       "businessdesk         26\n",
       "telebusiness         23"
      ]
     },
     "execution_count": 27,
     "metadata": {},
     "output_type": "execute_result"
    }
   ],
   "source": [
    "# create Pandas series\n",
    "sdeg = pd.Series(deg).sort_values(ascending=False)\n",
    "sdeg\n",
    "# create Pandas Data Frame from the series, along with the node city attributes\n",
    "df = pd.DataFrame({\"Degree\":sdeg})\n",
    "df = df.sort_values(by=\"Degree\", ascending=False)\n",
    "# sort in descending order and get top values\n",
    "df.sort_values(by=\"Degree\", ascending=False).head(10)"
   ]
  },
  {
   "attachments": {},
   "cell_type": "markdown",
   "metadata": {},
   "source": [
    "We identify users with **the smallest amount** of connections"
   ]
  },
  {
   "cell_type": "code",
   "execution_count": 28,
   "metadata": {},
   "outputs": [
    {
     "data": {
      "text/html": [
       "<div>\n",
       "<style scoped>\n",
       "    .dataframe tbody tr th:only-of-type {\n",
       "        vertical-align: middle;\n",
       "    }\n",
       "\n",
       "    .dataframe tbody tr th {\n",
       "        vertical-align: top;\n",
       "    }\n",
       "\n",
       "    .dataframe thead th {\n",
       "        text-align: right;\n",
       "    }\n",
       "</style>\n",
       "<table border=\"1\" class=\"dataframe\">\n",
       "  <thead>\n",
       "    <tr style=\"text-align: right;\">\n",
       "      <th></th>\n",
       "      <th>Degree</th>\n",
       "    </tr>\n",
       "  </thead>\n",
       "  <tbody>\n",
       "    <tr>\n",
       "      <th>bbcworldbiz</th>\n",
       "      <td>1</td>\n",
       "    </tr>\n",
       "    <tr>\n",
       "      <th>indobusiness</th>\n",
       "      <td>2</td>\n",
       "    </tr>\n",
       "    <tr>\n",
       "      <th>irishtimesbiz</th>\n",
       "      <td>7</td>\n",
       "    </tr>\n",
       "    <tr>\n",
       "      <th>markets</th>\n",
       "      <td>7</td>\n",
       "    </tr>\n",
       "    <tr>\n",
       "      <th>yahoofinanceuk</th>\n",
       "      <td>7</td>\n",
       "    </tr>\n",
       "    <tr>\n",
       "      <th>entrepreneur</th>\n",
       "      <td>8</td>\n",
       "    </tr>\n",
       "    <tr>\n",
       "      <th>ftfinancenews</th>\n",
       "      <td>11</td>\n",
       "    </tr>\n",
       "    <tr>\n",
       "      <th>wsjecon</th>\n",
       "      <td>13</td>\n",
       "    </tr>\n",
       "    <tr>\n",
       "      <th>harvardbiz</th>\n",
       "      <td>13</td>\n",
       "    </tr>\n",
       "    <tr>\n",
       "      <th>bbcbusiness</th>\n",
       "      <td>13</td>\n",
       "    </tr>\n",
       "  </tbody>\n",
       "</table>\n",
       "</div>"
      ],
      "text/plain": [
       "                Degree\n",
       "bbcworldbiz          1\n",
       "indobusiness         2\n",
       "irishtimesbiz        7\n",
       "markets              7\n",
       "yahoofinanceuk       7\n",
       "entrepreneur         8\n",
       "ftfinancenews       11\n",
       "wsjecon             13\n",
       "harvardbiz          13\n",
       "bbcbusiness         13"
      ]
     },
     "execution_count": 28,
     "metadata": {},
     "output_type": "execute_result"
    }
   ],
   "source": [
    "df.sort_values(by=\"Degree\", ascending=True).head(10)"
   ]
  },
  {
   "attachments": {},
   "cell_type": "markdown",
   "metadata": {},
   "source": [
    "**Distribution** of the degree of the score"
   ]
  },
  {
   "cell_type": "code",
   "execution_count": 29,
   "metadata": {},
   "outputs": [
    {
     "data": {
      "image/png": "[encoded data removed]",
      "text/plain": [
       "<Figure size 1200x550 with 1 Axes>"
      ]
     },
     "metadata": {},
     "output_type": "display_data"
    }
   ],
   "source": [
    "# produce a histogram of the values\n",
    "ax = df[\"Degree\"].plot(kind=\"hist\", figsize=(12, 5.5), fontsize=13, legend=None, color=\"darkred\", \n",
    "    bins=5, zorder=3, rwidth=0.9)\n",
    "ax.yaxis.grid()\n",
    "ax.set_xlim(0)\n",
    "ax.set_ylabel(\"Number of Nodes\", fontsize=14)\n",
    "ax.set_xlabel(\"Degree\", fontsize=14);"
   ]
  },
  {
   "attachments": {},
   "cell_type": "markdown",
   "metadata": {},
   "source": [
    "### We measure **the in-degree and out-degree centrality** of our network\n",
    "- In-degree: the number of followers a user has.\n",
    "- Out-degree: the number of accounts a user follows."
   ]
  },
  {
   "cell_type": "code",
   "execution_count": 30,
   "metadata": {},
   "outputs": [
    {
     "data": {
      "text/html": [
       "<div>\n",
       "<style scoped>\n",
       "    .dataframe tbody tr th:only-of-type {\n",
       "        vertical-align: middle;\n",
       "    }\n",
       "\n",
       "    .dataframe tbody tr th {\n",
       "        vertical-align: top;\n",
       "    }\n",
       "\n",
       "    .dataframe thead th {\n",
       "        text-align: right;\n",
       "    }\n",
       "</style>\n",
       "<table border=\"1\" class=\"dataframe\">\n",
       "  <thead>\n",
       "    <tr style=\"text-align: right;\">\n",
       "      <th></th>\n",
       "      <th>Degree</th>\n",
       "      <th>Out-Degree</th>\n",
       "      <th>In-Degree</th>\n",
       "    </tr>\n",
       "  </thead>\n",
       "  <tbody>\n",
       "    <tr>\n",
       "      <th>nasdaq</th>\n",
       "      <td>38</td>\n",
       "      <td>26</td>\n",
       "      <td>12</td>\n",
       "    </tr>\n",
       "    <tr>\n",
       "      <th>ft</th>\n",
       "      <td>36</td>\n",
       "      <td>19</td>\n",
       "      <td>17</td>\n",
       "    </tr>\n",
       "    <tr>\n",
       "      <th>usatodaymoney</th>\n",
       "      <td>34</td>\n",
       "      <td>22</td>\n",
       "      <td>12</td>\n",
       "    </tr>\n",
       "    <tr>\n",
       "      <th>financialtimes</th>\n",
       "      <td>31</td>\n",
       "      <td>18</td>\n",
       "      <td>13</td>\n",
       "    </tr>\n",
       "    <tr>\n",
       "      <th>business</th>\n",
       "      <td>31</td>\n",
       "      <td>14</td>\n",
       "      <td>17</td>\n",
       "    </tr>\n",
       "    <tr>\n",
       "      <th>nbcnewsbusiness</th>\n",
       "      <td>30</td>\n",
       "      <td>21</td>\n",
       "      <td>9</td>\n",
       "    </tr>\n",
       "    <tr>\n",
       "      <th>nytimesbusiness</th>\n",
       "      <td>27</td>\n",
       "      <td>12</td>\n",
       "      <td>15</td>\n",
       "    </tr>\n",
       "    <tr>\n",
       "      <th>apbusiness</th>\n",
       "      <td>26</td>\n",
       "      <td>23</td>\n",
       "      <td>3</td>\n",
       "    </tr>\n",
       "    <tr>\n",
       "      <th>businessdesk</th>\n",
       "      <td>26</td>\n",
       "      <td>21</td>\n",
       "      <td>5</td>\n",
       "    </tr>\n",
       "    <tr>\n",
       "      <th>telebusiness</th>\n",
       "      <td>23</td>\n",
       "      <td>20</td>\n",
       "      <td>3</td>\n",
       "    </tr>\n",
       "  </tbody>\n",
       "</table>\n",
       "</div>"
      ],
      "text/plain": [
       "                 Degree  Out-Degree  In-Degree\n",
       "nasdaq               38          26         12\n",
       "ft                   36          19         17\n",
       "usatodaymoney        34          22         12\n",
       "financialtimes       31          18         13\n",
       "business             31          14         17\n",
       "nbcnewsbusiness      30          21          9\n",
       "nytimesbusiness      27          12         15\n",
       "apbusiness           26          23          3\n",
       "businessdesk         26          21          5\n",
       "telebusiness         23          20          3"
      ]
     },
     "execution_count": 30,
     "metadata": {},
     "output_type": "execute_result"
    }
   ],
   "source": [
    "# calculate out-degree and in-degree scores\n",
    "out_degrees = dict(g.out_degree())\n",
    "in_degrees = dict(g.in_degree())\n",
    "# add a column to our Data Frame\n",
    "df[\"Out-Degree\"] = pd.Series(out_degrees)\n",
    "df[\"In-Degree\"] = pd.Series(in_degrees)\n",
    "# see a part of the data frame\n",
    "df.sort_values(by=\"Degree\", ascending=False).head(10)"
   ]
  },
  {
   "attachments": {},
   "cell_type": "markdown",
   "metadata": {},
   "source": [
    "Represent graphically in-degree and out-degree scores for each node, which shows that in-degree and out-degree are very different for various users."
   ]
  },
  {
   "cell_type": "code",
   "execution_count": 31,
   "metadata": {},
   "outputs": [
    {
     "data": {
      "text/plain": [
       "7"
      ]
     },
     "execution_count": 31,
     "metadata": {},
     "output_type": "execute_result"
    },
    {
     "data": {
      "image/png": "[encoded data removed]",
      "text/plain": [
       "<Figure size 800x700 with 1 Axes>"
      ]
     },
     "metadata": {},
     "output_type": "display_data"
    }
   ],
   "source": [
    "# produce the scatter plot\n",
    "ax = df.plot(kind=\"scatter\", x=\"In-Degree\", y=\"Out-Degree\", figsize=(8, 7), \n",
    "    fontsize=13, color=\"teal\", s=30)\n",
    "ax.set_xlim(0)\n",
    "ax.set_ylim(0)\n",
    "ax.set_xlabel(\"In-Degree\", fontsize=14)\n",
    "ax.set_ylabel(\"Out-Degree\", fontsize=14);\n",
    "\n",
    "texts = []\n",
    "\n",
    "# Loop through the DataFrame and add data labels\n",
    "for index, row in df.iterrows():\n",
    "    label = index  # or any other label you want to use from the DataFrame\n",
    "    text = ax.annotate(label, (row[\"In-Degree\"], row[\"Out-Degree\"]),\n",
    "                textcoords=\"offset points\", xytext=(0, 5), ha='center', fontsize=9)\n",
    "    texts.append(text)    \n",
    "\n",
    "# Adjust the labels to prevent overlapping\n",
    "adjust_text(texts)\n"
   ]
  },
  {
   "attachments": {},
   "cell_type": "markdown",
   "metadata": {},
   "source": [
    "## Visualising the network"
   ]
  },
  {
   "cell_type": "code",
   "execution_count": 32,
   "metadata": {},
   "outputs": [
    {
     "data": {
      "image/png": "[encoded data removed]",
      "text/plain": [
       "<Figure size 800x600 with 1 Axes>"
      ]
     },
     "metadata": {},
     "output_type": "display_data"
    }
   ],
   "source": [
    "plt.figure(figsize=(8,6))\n",
    "plt.margins(0.1, 0.1)\n",
    "pos = nx.kamada_kawai_layout(g)\n",
    "nx.draw(g, pos=pos, with_labels=True, node_color='lightblue', edge_color='lightgrey', node_size=500, font_color='darkblue', font_size=8)\n",
    "# add the ego node in a different colour\n",
    "nx.draw_networkx_nodes(g, pos, nodelist=['nasdaq'], node_size=500, node_color=\"red\");\n",
    "nx.draw_networkx_nodes(g, pos, nodelist=['wsj'], node_size=500, node_color=\"orange\");"
   ]
  },
  {
   "attachments": {},
   "cell_type": "markdown",
   "metadata": {},
   "source": [
    "## Saving the network as a GEXF file for the stand-alone visualisation tool"
   ]
  },
  {
   "cell_type": "code",
   "execution_count": 33,
   "metadata": {},
   "outputs": [],
   "source": [
    "nx.write_gexf(g, \"twitter-directed.gexf\")"
   ]
  }
 ],
 "metadata": {
  "kernelspec": {
   "display_name": "Python 3 (ipykernel)",
   "language": "python",
   "name": "python3"
  },
  "language_info": {
   "codemirror_mode": {
    "name": "ipython",
    "version": 3
   },
   "file_extension": ".py",
   "mimetype": "text/x-python",
   "name": "python",
   "nbconvert_exporter": "python",
   "pygments_lexer": "ipython3",
   "version": "3.10.9"
  }
 },
 "nbformat": 4,
 "nbformat_minor": 2
}
