{
 "cells": [
  {
   "attachments": {},
   "cell_type": "markdown",
   "metadata": {},
   "source": [
    "# Follower network"
   ]
  },
  {
   "attachments": {},
   "cell_type": "markdown",
   "metadata": {},
   "source": [
    "Firstly, import the required modules, including NetworkX:"
   ]
  },
  {
   "cell_type": "code",
   "execution_count": 16,
   "metadata": {},
   "outputs": [],
   "source": [
    "from pathlib import Path\n",
    "import pandas as pd\n",
    "import networkx as nx"
   ]
  },
  {
   "attachments": {},
   "cell_type": "markdown",
   "metadata": {},
   "source": [
    "## Data Loading\n",
    "We will load the friend/follower relations between pairs of list members from friendships.csv into a Pandas Data Frame. "
   ]
  },
  {
   "cell_type": "code",
   "execution_count": 17,
   "metadata": {},
   "outputs": [
    {
     "name": "stdout",
     "output_type": "stream",
     "text": [
      "Read 308 Twitter relations\n"
     ]
    },
    {
     "data": {
      "text/html": [
       "<div>\n",
       "<style scoped>\n",
       "    .dataframe tbody tr th:only-of-type {\n",
       "        vertical-align: middle;\n",
       "    }\n",
       "\n",
       "    .dataframe tbody tr th {\n",
       "        vertical-align: top;\n",
       "    }\n",
       "\n",
       "    .dataframe thead th {\n",
       "        text-align: right;\n",
       "    }\n",
       "</style>\n",
       "<table border=\"1\" class=\"dataframe\">\n",
       "  <thead>\n",
       "    <tr style=\"text-align: right;\">\n",
       "      <th></th>\n",
       "      <th>FRIEND</th>\n",
       "      <th>FOLLOWER</th>\n",
       "    </tr>\n",
       "  </thead>\n",
       "  <tbody>\n",
       "    <tr>\n",
       "      <th>0</th>\n",
       "      <td>apbusiness</td>\n",
       "      <td>bbcbusiness</td>\n",
       "    </tr>\n",
       "    <tr>\n",
       "      <th>1</th>\n",
       "      <td>apbusiness</td>\n",
       "      <td>business</td>\n",
       "    </tr>\n",
       "    <tr>\n",
       "      <th>2</th>\n",
       "      <td>apbusiness</td>\n",
       "      <td>businessinsider</td>\n",
       "    </tr>\n",
       "    <tr>\n",
       "      <th>3</th>\n",
       "      <td>apbusiness</td>\n",
       "      <td>bw</td>\n",
       "    </tr>\n",
       "    <tr>\n",
       "      <th>4</th>\n",
       "      <td>apbusiness</td>\n",
       "      <td>cnnbusiness</td>\n",
       "    </tr>\n",
       "    <tr>\n",
       "      <th>5</th>\n",
       "      <td>apbusiness</td>\n",
       "      <td>fastcompany</td>\n",
       "    </tr>\n",
       "    <tr>\n",
       "      <th>6</th>\n",
       "      <td>apbusiness</td>\n",
       "      <td>financialtimes</td>\n",
       "    </tr>\n",
       "    <tr>\n",
       "      <th>7</th>\n",
       "      <td>apbusiness</td>\n",
       "      <td>forbes</td>\n",
       "    </tr>\n",
       "    <tr>\n",
       "      <th>8</th>\n",
       "      <td>apbusiness</td>\n",
       "      <td>foxbusiness</td>\n",
       "    </tr>\n",
       "    <tr>\n",
       "      <th>9</th>\n",
       "      <td>apbusiness</td>\n",
       "      <td>ft</td>\n",
       "    </tr>\n",
       "  </tbody>\n",
       "</table>\n",
       "</div>"
      ],
      "text/plain": [
       "       FRIEND         FOLLOWER\n",
       "0  apbusiness      bbcbusiness\n",
       "1  apbusiness         business\n",
       "2  apbusiness  businessinsider\n",
       "3  apbusiness               bw\n",
       "4  apbusiness      cnnbusiness\n",
       "5  apbusiness      fastcompany\n",
       "6  apbusiness   financialtimes\n",
       "7  apbusiness           forbes\n",
       "8  apbusiness      foxbusiness\n",
       "9  apbusiness               ft"
      ]
     },
     "execution_count": 17,
     "metadata": {},
     "output_type": "execute_result"
    }
   ],
   "source": [
    "in_path = Path(\"./business\", \"friendships.csv\")\n",
    "# create the Data Frame\n",
    "df = pd.read_csv(in_path, sep='\\t')\n",
    "print(\"Read %d Twitter relations\" % len(df))\n",
    "# display a few rows\n",
    "df.head(10)\n",
    "\n"
   ]
  },
  {
   "attachments": {},
   "cell_type": "markdown",
   "metadata": {},
   "source": [
    "## Creating a Directed Network\n",
    "\n",
    "We will now construct a *directed unweighted network* such that:\n",
    "\n",
    "- There is a node for each Twitter user.\n",
    "- There is a directed edge between each unique user and follower pair."
   ]
  },
  {
   "attachments": {},
   "cell_type": "markdown",
   "metadata": {},
   "source": [
    "First, get the set of all users:"
   ]
  },
  {
   "cell_type": "code",
   "execution_count": 18,
   "metadata": {},
   "outputs": [
    {
     "name": "stdout",
     "output_type": "stream",
     "text": [
      "1: foxbusiness\n",
      "2: fastcompany\n",
      "3: bw\n",
      "4: businessdesk\n",
      "5: ft\n",
      "6: businessinsider\n",
      "7: wsjecon\n",
      "8: nasdaq\n",
      "9: bbcworldbiz\n",
      "10: financialtimes\n",
      "11: cnnbusiness\n",
      "12: nytimesbusiness\n",
      "13: usatodaymoney\n",
      "14: reutersbiz\n",
      "15: ftfinancenews\n",
      "16: harvardbiz\n",
      "17: markets\n",
      "18: forbes\n",
      "19: marketwatch\n",
      "20: apbusiness\n",
      "21: entrepreneur\n",
      "22: yahoofinance\n",
      "23: irishtimesbiz\n",
      "24: bbcbusiness\n",
      "25: thestreet\n",
      "26: indobusiness\n",
      "27: reutersmoney\n",
      "28: telebusiness\n",
      "29: nbcnewsbusiness\n",
      "30: yahoofinanceuk\n",
      "31: wsjbusiness\n",
      "32: business\n",
      "33: wsj\n"
     ]
    }
   ],
   "source": [
    "# get set of all users\n",
    "friends = set(df[\"FRIEND\"].unique())\n",
    "followers = set(df[\"FOLLOWER\"].unique())\n",
    "users = friends.union(followers)\n",
    "\n",
    "# just print to see how many and what users we have\n",
    "for index, element in enumerate(users, start=1):\n",
    "    print(f\"{index}: {element}\")"
   ]
  },
  {
   "attachments": {},
   "cell_type": "markdown",
   "metadata": {},
   "source": [
    "Create a directed network, with a node for each user:"
   ]
  },
  {
   "cell_type": "code",
   "execution_count": 19,
   "metadata": {},
   "outputs": [],
   "source": [
    "# here a DiGraph indicates a directed network\n",
    "g = nx.DiGraph()\n",
    "nodes = sorted(list(users))\n",
    "for node in nodes:\n",
    "    # we add the city name as an attribute\n",
    "    g.add_node(node)"
   ]
  },
  {
   "attachments": {},
   "cell_type": "markdown",
   "metadata": {},
   "source": [
    "Create a directed edge between each unique friend and follower pair, based on the Twitter friendships.csv file"
   ]
  },
  {
   "cell_type": "code",
   "execution_count": 20,
   "metadata": {},
   "outputs": [],
   "source": [
    "for i, row in df.iterrows():\n",
    "    node1 = row[\"FRIEND\"]\n",
    "    node2 = row[\"FOLLOWER\"]\n",
    "    # ignore self-loops, in case they exist\n",
    "    if node1 == node2:\n",
    "        continue\n",
    "    g.add_edge(node1, node2)"
   ]
  },
  {
   "cell_type": "markdown",
   "metadata": {},
   "source": [
    "We can check the size of our new network:"
   ]
  },
  {
   "cell_type": "code",
   "execution_count": 21,
   "metadata": {},
   "outputs": [
    {
     "name": "stdout",
     "output_type": "stream",
     "text": [
      "Network has 33 nodes and 308 edges\n"
     ]
    }
   ],
   "source": [
    "print(\"Network has %d nodes and %d edges\" % (g.number_of_nodes(), g.number_of_edges()))"
   ]
  },
  {
   "cell_type": "code",
   "execution_count": 22,
   "metadata": {},
   "outputs": [],
   "source": [
    "nx.write_gexf(g, \"twitter-directed.gexf\")"
   ]
  }
 ],
 "metadata": {
  "kernelspec": {
   "display_name": "Python 3 (ipykernel)",
   "language": "python",
   "name": "python3"
  },
  "language_info": {
   "codemirror_mode": {
    "name": "ipython",
    "version": 3
   },
   "file_extension": ".py",
   "mimetype": "text/x-python",
   "name": "python",
   "nbconvert_exporter": "python",
   "pygments_lexer": "ipython3",
   "version": "3.10.9"
  }
 },
 "nbformat": 4,
 "nbformat_minor": 2
}
