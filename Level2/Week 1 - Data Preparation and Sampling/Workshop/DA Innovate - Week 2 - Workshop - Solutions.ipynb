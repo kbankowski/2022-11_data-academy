{
 "cells": [
  {
   "cell_type": "markdown",
   "metadata": {},
   "source": [
    "# ECB Data Academy - Week 2 - Workshop - Solutions"
   ]
  },
  {
   "cell_type": "markdown",
   "metadata": {},
   "source": [
    "[Krisolis](http://www.krisolis.ie)"
   ]
  },
  {
   "cell_type": "markdown",
   "metadata": {},
   "source": [
    "## Data Exploration and analysis"
   ]
  },
  {
   "cell_type": "code",
   "execution_count": null,
   "metadata": {},
   "outputs": [],
   "source": [
    "import pandas as pd\n",
    "import numpy as np\n",
    "\n",
    "import TAS_Python_Utilities\n",
    "import matplotlib.pyplot as plt\n",
    "%matplotlib inline\n",
    "\n",
    "import sklearn\n",
    "import sklearn.impute\n",
    "\n",
    "#import pandas_profiling"
   ]
  },
  {
   "cell_type": "markdown",
   "metadata": {},
   "source": [
    "## Workshop Tasks\n",
    "Prefrom the following tasks:\n",
    "- Import the dataset from the file InsureABC_Channel_Data.csv into a pandas data frame called abt.\n",
    "- Explore the data in the ABT Insure Channel dataset using appropriate summary statistics and data visualisations. \n",
    "- Make a list of any data quality issues associated with the data\n",
    "- Fix the Data qulity Isssue"
   ]
  },
  {
   "cell_type": "markdown",
   "metadata": {},
   "source": [
    "### Load Dataset"
   ]
  },
  {
   "cell_type": "markdown",
   "metadata": {},
   "source": [
    "Import the dataset from the file InsureABC_Channel_Data into a Python data frame called abt."
   ]
  },
  {
   "cell_type": "code",
   "execution_count": null,
   "metadata": {
    "scrolled": true
   },
   "outputs": [],
   "source": [
    "abt = pd.read_csv(\"InsureABC_Channel_Data.csv\", encoding = \"UTF-8\", index_col = 0)\n",
    "target_feature_name = 'PrefChannel'\n",
    "print(abt.columns)\n",
    "print(abt.shape)\n",
    "display(abt.head())"
   ]
  },
  {
   "cell_type": "markdown",
   "metadata": {},
   "source": [
    "### Explore Dataset"
   ]
  },
  {
   "cell_type": "markdown",
   "metadata": {},
   "source": [
    "Explore the dataset."
   ]
  },
  {
   "cell_type": "code",
   "execution_count": null,
   "metadata": {},
   "outputs": [],
   "source": [
    "# Print descriptive statsitcs for each column\n",
    "print(\"Summary Stats\")\n",
    "if abt.select_dtypes(include=[np.number]).shape[1] > 0: \n",
    "    display(abt.select_dtypes(include=[np.number]).describe().transpose())\n",
    "if abt.select_dtypes(include=[object]).shape[1] > 0: \n",
    "    display(abt.select_dtypes(include=[object]).describe().transpose())\n",
    "\n",
    "# Check for presence of missing values\n",
    "print(\"Missing Values\")\n",
    "print(abt.isnull().sum())\n"
   ]
  },
  {
   "cell_type": "code",
   "execution_count": null,
   "metadata": {
    "scrolled": true
   },
   "outputs": [],
   "source": [
    "#pandas_profiling.ProfileReport(abt, minimal = True)"
   ]
  },
  {
   "cell_type": "markdown",
   "metadata": {},
   "source": [
    "**Data Quality Plan**\n",
    "\n",
    "Irregular Cardinality\n",
    "- PrefChannel: 6 instead of 3 levels\n",
    "- GivenName: way too many levels\n",
    "- MiddleInitial: way too many levels\n",
    "- Surname: way too many levels\n",
    "- Occupation: way too many levels\n",
    "\n",
    "Missing values\n",
    "- CreditCardType: missing, possible impute of constant value\n",
    "- MotorValue: missing, possible impute of 0\n",
    "- MotorType: missing, possible impute of constant value\n",
    "- HealthType: missing, possible impute of constant value\n",
    "- TravelType: missing, possible impute of constant value\n",
    "- HealthDependentsAdults: missing, possible impute of constant value\n",
    "- HealthDependentsKids: missing, possible impute of constant value\n"
   ]
  },
  {
   "cell_type": "markdown",
   "metadata": {},
   "source": [
    "### Data Preparation"
   ]
  },
  {
   "cell_type": "markdown",
   "metadata": {},
   "source": [
    "Remove columns with too many levels"
   ]
  },
  {
   "cell_type": "code",
   "execution_count": null,
   "metadata": {},
   "outputs": [],
   "source": [
    "abt = abt[abt.columns.difference(['GivenName', 'MiddleInitial', 'Surname', 'Occupation'])]"
   ]
  },
  {
   "cell_type": "markdown",
   "metadata": {},
   "source": [
    "Remap spurious target level values"
   ]
  },
  {
   "cell_type": "code",
   "execution_count": null,
   "metadata": {},
   "outputs": [],
   "source": [
    "abt.loc[abt['PrefChannel'] == 'P','PrefChannel'] = \"Phone\"\n",
    "abt.loc[abt['PrefChannel'] == 'E','PrefChannel'] = \"Email\"\n",
    "abt.loc[abt['PrefChannel'] == 'S','PrefChannel'] = \"SMS\""
   ]
  },
  {
   "cell_type": "markdown",
   "metadata": {},
   "source": [
    "Perfrom simple imputation  on columns with missing values"
   ]
  },
  {
   "cell_type": "code",
   "execution_count": null,
   "metadata": {},
   "outputs": [],
   "source": [
    "imputers = dict()\n",
    "\n",
    "imputers['HealthDependentsAdults'] = sklearn.impute.SimpleImputer(strategy=\"constant\", fill_value = 0)\n",
    "abt['HealthDependentsAdults'] = imputers['HealthDependentsAdults'].fit_transform(abt['HealthDependentsAdults'].values.reshape(-1, 1))\n",
    "\n",
    "#imp = sklearn.impute.SimpleImputer(strategy=\"constant\", fill_value = 0)\n",
    "#abt['HealthDependentsAdults'] = imp.fit_transform(abt['HealthDependentsAdults'].values.reshape(-1, 1))\n",
    "\n",
    "#imp = sklearn.impute.SimpleImputer(strategy=\"median\")\n",
    "#abt['HealthDependentsAdults'] = imp.fit_transform(abt['HealthDependentsAdults'].values.reshape(-1, 1))\n",
    "\n",
    "\n",
    "imputers['HealthDependentsKids'] = sklearn.impute.SimpleImputer(strategy=\"constant\", fill_value = 0)\n",
    "abt['HealthDependentsKids'] = imputers['HealthDependentsKids'].fit_transform(abt['HealthDependentsKids'].values.reshape(-1, 1))\n",
    "\n",
    "imputers['CreditCardType'] = sklearn.impute.SimpleImputer(strategy=\"constant\", fill_value = 'missing')\n",
    "abt['CreditCardType'] = imputers['CreditCardType'].fit_transform(abt['CreditCardType'].values.reshape(-1, 1))\n",
    "\n",
    "imputers['MotorValue'] = sklearn.impute.SimpleImputer(strategy=\"constant\", fill_value = 0)\n",
    "abt['MotorValue'] = imputers['MotorValue'].fit_transform(abt['MotorValue'].values.reshape(-1, 1))\n",
    "\n",
    "imputers['MotorType'] = sklearn.impute.SimpleImputer(strategy=\"constant\", fill_value = 'none')\n",
    "abt['MotorType'] = imputers['MotorType'].fit_transform(abt['MotorType'].values.reshape(-1, 1))\n",
    "\n",
    "imputers['HealthType'] = sklearn.impute.SimpleImputer(strategy=\"constant\", fill_value = 'none')\n",
    "abt['HealthType'] = imputers['HealthType'].fit_transform(abt['HealthType'].values.reshape(-1, 1))\n",
    "\n",
    "imputers['TravelType'] = sklearn.impute.SimpleImputer(strategy=\"constant\", fill_value = 'none')\n",
    "abt['TravelType'] = imputers['TravelType'].fit_transform(abt['TravelType'].values.reshape(-1, 1))"
   ]
  },
  {
   "cell_type": "markdown",
   "metadata": {},
   "source": [
    "Check transformed dataset"
   ]
  },
  {
   "cell_type": "code",
   "execution_count": null,
   "metadata": {},
   "outputs": [],
   "source": [
    "#pandas_profiling.ProfileReport(abt, minimal = True)"
   ]
  },
  {
   "cell_type": "code",
   "execution_count": null,
   "metadata": {},
   "outputs": [],
   "source": [
    "# Print descriptive statsitcs for each column\n",
    "print(\"Summary Stats\")\n",
    "if abt.select_dtypes(include=[np.number]).shape[1] > 0: \n",
    "    display(abt.select_dtypes(include=[np.number]).describe().transpose())\n",
    "if abt.select_dtypes(include=[object]).shape[1] > 0: \n",
    "    display(abt.select_dtypes(include=[object]).describe().transpose())\n",
    "\n",
    "# Check for presence of missing values\n",
    "print(\"Missing Values\")\n",
    "print(abt.isnull().sum())\n"
   ]
  }
 ],
 "metadata": {
  "kernelspec": {
   "display_name": "Python 3",
   "language": "python",
   "name": "python3"
  },
  "language_info": {
   "codemirror_mode": {
    "name": "ipython",
    "version": 3
   },
   "file_extension": ".py",
   "mimetype": "text/x-python",
   "name": "python",
   "nbconvert_exporter": "python",
   "pygments_lexer": "ipython3",
   "version": "3.8.5"
  }
 },
 "nbformat": 4,
 "nbformat_minor": 1
}
