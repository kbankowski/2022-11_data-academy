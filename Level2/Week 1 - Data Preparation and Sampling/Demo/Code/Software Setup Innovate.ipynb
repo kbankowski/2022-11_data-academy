{
 "cells": [
  {
   "cell_type": "markdown",
   "id": "52e4fd7d",
   "metadata": {},
   "source": [
    "# Software Setup - Fundamentals of Machine Learning Using Python\n",
    "\n",
    "This notebook will check that the following Python packages are correctly installed on your system:\n",
    "\n",
    "- Pandas package\n",
    "- NumPy package\n",
    "- SciPy package\n",
    "- Matplotlib package\n",
    "- Seaborn package\n",
    "- Scikit-learn\n",
    "- Tensorflow\n",
    "- missingno\n",
    "- imblearn\n",
    "- PIL\n",
    "\n",
    "To run the checks, from the menu *'Cell'* above, click *'Run All'*\n",
    "\n",
    "If a package is not installed, the *pip* tool will be used to install the relevant package."
   ]
  },
  {
   "cell_type": "markdown",
   "id": "b3924981",
   "metadata": {},
   "source": [
    "## Python Checks"
   ]
  },
  {
   "cell_type": "code",
   "execution_count": 1,
   "id": "d38ed472",
   "metadata": {},
   "outputs": [
    {
     "name": "stdout",
     "output_type": "stream",
     "text": [
      "Operating System: Mac 10.16\n",
      "Python: Version 3.8.8\n",
      "Python: Executable /Users/bmacnamee/opt/anaconda3/bin/python\n",
      "JuypterLab: Checking package versions\n",
      "jupyter core     : 4.7.1\n",
      "jupyter-notebook : 6.3.0\n",
      "qtconsole        : 5.0.3\n",
      "ipython          : 7.22.0\n",
      "ipykernel        : 5.3.4\n",
      "jupyter client   : 6.1.12\n",
      "Fail to get yarn configuration. /Users/bmacnamee/opt/anaconda3/lib/python3.8/site-packages/jupyterlab/staging/yarn.js:1175\n",
      "  var _ref27 = (0, (_asyncToGenerator2 || _load_asyncToGenerator()).default)(function* (dir, relativeDir, ignoreBasenames = new Set()) {\n",
      "                                                                                                                          ^\n",
      "\n",
      "SyntaxError: Unexpected token =\n",
      "    at exports.runInThisContext (vm.js:53:16)\n",
      "    at Module._compile (module.js:373:25)\n",
      "    at Object.Module._extensions..js (module.js:416:10)\n",
      "    at Module.load (module.js:343:32)\n",
      "    at Function.Module._load (module.js:300:12)\n",
      "    at Function.Module.runMain (module.js:441:10)\n",
      "    at startup (node.js:134:18)\n",
      "    at node.js:962:3\n",
      "\n",
      "jupyter lab      : 3.0.14\n",
      "nbconvert        : 6.0.7\n",
      "ipywidgets       : 7.6.3\n",
      "nbformat         : 5.1.3\n",
      "traitlets        : 5.0.5\n",
      "Check complete\n"
     ]
    }
   ],
   "source": [
    "try:\n",
    "    import platform\n",
    "    if platform.system().lower() == \"darwin\":\n",
    "        print(\"Operating System: Mac %s\" % platform.mac_ver()[0])\n",
    "    else:\n",
    "        print(\"Operating System: %s %s\" % (platform.system(), platform.release()))\n",
    "except e:\n",
    "    print(\"Operating System: Unable to check\")\n",
    "    print(e)\n",
    "try:\n",
    "    import platform, sys\n",
    "    print(\"Python: Version %s\" % platform.python_version())\n",
    "    print(\"Python: Executable %s\" % sys.executable)\n",
    "except e:\n",
    "    print(\"Python: Unable to check\")\n",
    "    print(e)\n",
    "print(\"JuypterLab: Checking package versions\")\n",
    "!jupyter --version\n",
    "print(\"Check complete\")"
   ]
  },
  {
   "cell_type": "markdown",
   "id": "4b7fc880",
   "metadata": {},
   "source": [
    "## Package - Pandas"
   ]
  },
  {
   "cell_type": "code",
   "execution_count": 2,
   "id": "2d2ab93b",
   "metadata": {},
   "outputs": [
    {
     "name": "stdout",
     "output_type": "stream",
     "text": [
      "Pandas: Testing installation... \n",
      "Pandas: Version 1.4.2 installed\n",
      "Pandas: Check complete\n"
     ]
    }
   ],
   "source": [
    "name = \"Pandas\"\n",
    "print(\"%s: Testing installation... \" % name)\n",
    "try:\n",
    "    import pandas as pd\n",
    "    print(\"%s: Version %s installed\" % (name, pd.__version__))\n",
    "    # simple test\n",
    "    s = pd.Series(data={'a': 1, 'b': 2, 'c': 3}, index=['a', 'b', 'c'])\n",
    "    df = pd.DataFrame({\"v1\":s.copy(), \"v2\":s.copy()})\n",
    "    print(\"%s: Check complete\" % name)\n",
    "except ImportError as e:\n",
    "    print(\"%s: Package not installed\" % name)\n",
    "    print(\"%s: Error %s\" % (name, e))\n",
    "    print(\"%s: Attempting to install package via pip ...\" % name)\n",
    "    !pip install -U pandas"
   ]
  },
  {
   "cell_type": "markdown",
   "id": "3d5aceab",
   "metadata": {},
   "source": [
    "## Package - NumPy"
   ]
  },
  {
   "cell_type": "code",
   "execution_count": 3,
   "id": "d74732e8",
   "metadata": {},
   "outputs": [
    {
     "name": "stdout",
     "output_type": "stream",
     "text": [
      "NumPy: Testing installation... \n",
      "NumPy: Version 1.22.4 installed\n",
      "NumPy: Check complete\n"
     ]
    }
   ],
   "source": [
    "name = \"NumPy\"\n",
    "print(\"%s: Testing installation... \" % name)\n",
    "try:\n",
    "    import numpy as np\n",
    "    print(\"%s: Version %s installed\" % (name, np.__version__))\n",
    "    # simple test\n",
    "    x = np.random.rand(4,2)\n",
    "    y = x.reshape(8,1)\n",
    "    z = np.power(y, 2)\n",
    "    print(\"%s: Check complete\" % name)\n",
    "except ImportError as e:\n",
    "    print(\"%s: Package not installed\" % name)\n",
    "    print(\"%s: Error %s\" % (name, e))\n",
    "    print(\"%s: Attempting to install package via pip ...\" % name)\n",
    "    !pip install -U numpy"
   ]
  },
  {
   "cell_type": "markdown",
   "id": "0d775501",
   "metadata": {},
   "source": [
    "## Package - SciPy"
   ]
  },
  {
   "cell_type": "code",
   "execution_count": 4,
   "id": "90352b58",
   "metadata": {},
   "outputs": [
    {
     "name": "stdout",
     "output_type": "stream",
     "text": [
      "SciPy: Testing installation... \n",
      "SciPy: Version 1.8.1 installed\n",
      "SciPy: Check complete\n"
     ]
    }
   ],
   "source": [
    "name = \"SciPy\"\n",
    "print(\"%s: Testing installation... \" % name)\n",
    "try:\n",
    "    import scipy, scipy.stats\n",
    "    print(\"%s: Version %s installed\" % (name, scipy.__version__))\n",
    "    # simple test\n",
    "    x = scipy.stats.uniform.cdf([0, 1, 2, 3, 4, 5], loc=1, scale=4)\n",
    "    print(\"%s: Check complete\" % name)\n",
    "except ImportError as e:\n",
    "    print(\"%s: Package not installed\" % name)\n",
    "    print(\"%s: Error %s\" % (name, e))\n",
    "    print(\"%s: Attempting to install package via pip ...\" % name)\n",
    "    !pip install -U scipy"
   ]
  },
  {
   "cell_type": "markdown",
   "id": "24ff8b11",
   "metadata": {},
   "source": [
    "## Package - Matplotlib"
   ]
  },
  {
   "cell_type": "code",
   "execution_count": 5,
   "id": "060aebc2",
   "metadata": {},
   "outputs": [
    {
     "name": "stdout",
     "output_type": "stream",
     "text": [
      "Matplotlib: Testing installation... \n",
      "Matplotlib: Version 3.3.4 installed\n"
     ]
    },
    {
     "data": {
      "image/png": "[encoded data removed]",
      "text/plain": [
       "<Figure size 432x288 with 1 Axes>"
      ]
     },
     "metadata": {
      "needs_background": "light"
     },
     "output_type": "display_data"
    },
    {
     "name": "stdout",
     "output_type": "stream",
     "text": [
      "Matplotlib: Check complete\n"
     ]
    }
   ],
   "source": [
    "name = \"Matplotlib\"\n",
    "print(\"%s: Testing installation... \" % name)\n",
    "try:\n",
    "    import matplotlib\n",
    "    from matplotlib import pyplot as plt\n",
    "    print(\"%s: Version %s installed\" % (name, matplotlib.__version__))\n",
    "    # simple test\n",
    "    %matplotlib inline\n",
    "    x = range(1, 10)\n",
    "    y = range(1, 10)\n",
    "    plt.scatter(x, y, color=\"darkblue\", s=100)\n",
    "    plt.show()\n",
    "    print(\"%s: Check complete\" % name)\n",
    "except ImportError as e:\n",
    "    print(\"%s: Package not installed\" % name)\n",
    "    print(\"%s: Error %s\" % (name, e))\n",
    "    print(\"%s: Attempting to install package via pip ...\" % name)\n",
    "    !pip install -U matplotlib"
   ]
  },
  {
   "cell_type": "markdown",
   "id": "e67457f2",
   "metadata": {},
   "source": [
    "## Package - Seaborn"
   ]
  },
  {
   "cell_type": "code",
   "execution_count": 6,
   "id": "829e5e4d",
   "metadata": {},
   "outputs": [
    {
     "name": "stdout",
     "output_type": "stream",
     "text": [
      "Seaborn: Testing installation... \n",
      "Seaborn: Version 0.11.2 installed\n",
      "Seaborn: Check complete\n"
     ]
    },
    {
     "data": {
      "image/png": "[encoded data removed]",
      "text/plain": [
       "<Figure size 432x288 with 1 Axes>"
      ]
     },
     "metadata": {
      "needs_background": "light"
     },
     "output_type": "display_data"
    }
   ],
   "source": [
    "name = \"Seaborn\"\n",
    "print(\"%s: Testing installation... \" % name)\n",
    "try:\n",
    "    import seaborn as sns\n",
    "    print(\"%s: Version %s installed\" % (name, sns.__version__))\n",
    "    # simple test\n",
    "    %matplotlib inline\n",
    "    tips = pd.DataFrame({'total_bill':np.random.randint(0,100,size=100),\n",
    "                         'tip':np.random.randint(0,20,size=100)})\n",
    "    sns.scatterplot(data=tips, x=\"total_bill\", y=\"tip\")\n",
    "    print(\"%s: Check complete\" % name)\n",
    "except ImportError as e:\n",
    "    print(\"%s: Package not installed\" % name)\n",
    "    print(\"%s: Error %s\" % (name, e))\n",
    "    print(\"%s: Attempting to install package via pip ...\" % name)\n",
    "    !pip install -U seaborn"
   ]
  },
  {
   "cell_type": "markdown",
   "id": "e2d7b174",
   "metadata": {},
   "source": [
    "## Package - Scikit-learn"
   ]
  },
  {
   "cell_type": "code",
   "execution_count": 7,
   "id": "3b772d2e",
   "metadata": {},
   "outputs": [
    {
     "name": "stdout",
     "output_type": "stream",
     "text": [
      "scikit-learn: Testing installation... \n",
      "scikit-learn: Version 1.1.2 installed\n",
      "scikit-learn: Check complete\n"
     ]
    }
   ],
   "source": [
    "name = \"scikit-learn\"\n",
    "print(\"%s: Testing installation... \" % name)\n",
    "try:\n",
    "    import sklearn\n",
    "    print(\"%s: Version %s installed\" % (name, sklearn.__version__))\n",
    "    # simple test\n",
    " \n",
    "    print(\"%s: Check complete\" % name)\n",
    "except ImportError as e:\n",
    "    print(\"%s: Package not installed\" % name)\n",
    "    print(\"%s: Error %s\" % (name, e))\n",
    "    print(\"%s: Attempting to install package via pip ...\" % name)\n",
    "    !pip install -U scikit-learn"
   ]
  },
  {
   "cell_type": "markdown",
   "id": "05e382dc",
   "metadata": {},
   "source": [
    "## Package - Tensorflow"
   ]
  },
  {
   "cell_type": "code",
   "execution_count": 8,
   "id": "4876936f",
   "metadata": {},
   "outputs": [
    {
     "name": "stdout",
     "output_type": "stream",
     "text": [
      "tensorflow: Testing installation... \n",
      "tensorflow: Version 2.9.1 installed\n",
      "tensorflow: Check complete\n"
     ]
    }
   ],
   "source": [
    "name = \"tensorflow\"\n",
    "print(\"%s: Testing installation... \" % name)\n",
    "try:\n",
    "    import tensorflow\n",
    "    print(\"%s: Version %s installed\" % (name, tensorflow.__version__))\n",
    "    # simple test\n",
    " \n",
    "    print(\"%s: Check complete\" % name)\n",
    "except ImportError as e:\n",
    "    print(\"%s: Package not installed\" % name)\n",
    "    print(\"%s: Error %s\" % (name, e))\n",
    "    print(\"%s: Attempting to install package via pip ...\" % name)\n",
    "    !pip install -U tensorflow"
   ]
  },
  {
   "cell_type": "markdown",
   "id": "d08722ca",
   "metadata": {},
   "source": [
    "## Package - missingno"
   ]
  },
  {
   "cell_type": "code",
   "execution_count": 9,
   "id": "f9e668f3",
   "metadata": {},
   "outputs": [
    {
     "name": "stdout",
     "output_type": "stream",
     "text": [
      "missingno: Testing installation... \n",
      "missingno: Version 0.5.0 installed\n",
      "missingno: Check complete\n"
     ]
    }
   ],
   "source": [
    "name = \"missingno\"\n",
    "print(\"%s: Testing installation... \" % name)\n",
    "try:\n",
    "    import missingno\n",
    "    print(\"%s: Version %s installed\" % (name, missingno.__version__))\n",
    "    # simple test\n",
    " \n",
    "    print(\"%s: Check complete\" % name)\n",
    "except ImportError as e:\n",
    "    print(\"%s: Package not installed\" % name)\n",
    "    print(\"%s: Error %s\" % (name, e))\n",
    "    print(\"%s: Attempting to install package via pip ...\" % name)\n",
    "    !pip install -U missingno"
   ]
  },
  {
   "cell_type": "markdown",
   "id": "d375dcd7",
   "metadata": {},
   "source": [
    "## Package - imblearn"
   ]
  },
  {
   "cell_type": "code",
   "execution_count": 10,
   "id": "73087115",
   "metadata": {},
   "outputs": [
    {
     "name": "stdout",
     "output_type": "stream",
     "text": [
      "imblearn: Testing installation... \n",
      "imblearn: Version 0.8.1 installed\n",
      "imblearn: Check complete\n"
     ]
    }
   ],
   "source": [
    "name = \"imblearn\"\n",
    "print(\"%s: Testing installation... \" % name)\n",
    "try:\n",
    "    import imblearn\n",
    "    print(\"%s: Version %s installed\" % (name, imblearn.__version__))\n",
    "    # simple test\n",
    " \n",
    "    print(\"%s: Check complete\" % name)\n",
    "except ImportError as e:\n",
    "    print(\"%s: Package not installed\" % name)\n",
    "    print(\"%s: Error %s\" % (name, e))\n",
    "    print(\"%s: Attempting to install package via pip ...\" % name)\n",
    "    !pip install -U imblearn"
   ]
  },
  {
   "cell_type": "markdown",
   "id": "4d4da195",
   "metadata": {},
   "source": [
    "## Package - PIL"
   ]
  },
  {
   "cell_type": "code",
   "execution_count": 11,
   "id": "aea4f8b1",
   "metadata": {},
   "outputs": [
    {
     "name": "stdout",
     "output_type": "stream",
     "text": [
      "PIL: Testing installation... \n",
      "PIL: Version 7.2.0 installed\n",
      "PIL: Check complete\n"
     ]
    }
   ],
   "source": [
    "name = \"PIL\"\n",
    "print(\"%s: Testing installation... \" % name)\n",
    "try:\n",
    "    import PIL\n",
    "    print(\"%s: Version %s installed\" % (name, PIL.__version__))\n",
    "    # simple test\n",
    " \n",
    "    print(\"%s: Check complete\" % name)\n",
    "except ImportError as e:\n",
    "    print(\"%s: Package not installed\" % name)\n",
    "    print(\"%s: Error %s\" % (name, e))\n",
    "    print(\"%s: Attempting to install package via pip ...\" % name)\n",
    "    !pip install -U Pillow"
   ]
  },
  {
   "cell_type": "markdown",
   "id": "72fdefc2",
   "metadata": {},
   "source": [
    "## Package - gradio"
   ]
  },
  {
   "cell_type": "code",
   "execution_count": 12,
   "id": "1d0d9f4c",
   "metadata": {},
   "outputs": [
    {
     "name": "stdout",
     "output_type": "stream",
     "text": [
      "gradio: Testing installation... \n",
      "gradio: Version 2.9.4 installed\n",
      "gradio: Check complete\n"
     ]
    }
   ],
   "source": [
    "name = \"gradio\"\n",
    "print(\"%s: Testing installation... \" % name)\n",
    "try:\n",
    "    import gradio\n",
    "    print(\"%s: Version %s installed\" % (name, gradio.__version__))\n",
    "    # simple test\n",
    " \n",
    "    print(\"%s: Check complete\" % name)\n",
    "except ImportError as e:\n",
    "    print(\"%s: Package not installed\" % name)\n",
    "    print(\"%s: Error %s\" % (name, e))\n",
    "    print(\"%s: Attempting to install package via pip ...\" % name)\n",
    "    !pip install -U gradio"
   ]
  },
  {
   "cell_type": "code",
   "execution_count": null,
   "id": "ee03d180",
   "metadata": {},
   "outputs": [],
   "source": []
  }
 ],
 "metadata": {
  "kernelspec": {
   "display_name": "Python 3",
   "language": "python",
   "name": "python3"
  },
  "language_info": {
   "codemirror_mode": {
    "name": "ipython",
    "version": 3
   },
   "file_extension": ".py",
   "mimetype": "text/x-python",
   "name": "python",
   "nbconvert_exporter": "python",
   "pygments_lexer": "ipython3",
   "version": "3.8.8"
  },
  "toc": {
   "base_numbering": 1,
   "nav_menu": {},
   "number_sections": false,
   "sideBar": true,
   "skip_h1_title": true,
   "title_cell": "Table of Contents",
   "title_sidebar": "Contents",
   "toc_cell": false,
   "toc_position": {},
   "toc_section_display": true,
   "toc_window_display": true
  }
 },
 "nbformat": 4,
 "nbformat_minor": 5
}
